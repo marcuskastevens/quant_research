{
 "cells": [
  {
   "cell_type": "code",
   "execution_count": 15,
   "metadata": {},
   "outputs": [],
   "source": [
    "from scipy.stats import cauchy\n",
    "import matplotlib.pyplot as plt\n",
    "import yfinance as yf\n",
    "import pandas as pd\n",
    "import numpy as np\n",
    "import pickle"
   ]
  },
  {
   "cell_type": "markdown",
   "metadata": {},
   "source": [
    "# Download Example Macro Strategy Returns "
   ]
  },
  {
   "cell_type": "code",
   "execution_count": 2,
   "metadata": {},
   "outputs": [],
   "source": [
    "path = r'C:\\Users\\marcu\\Documents\\Profession\\Windermere Capital\\Macro Model\\NN Macro Strategy Backtests\\pred_5_t_filter_3_view_0\\macro_backtest_rebal_freq_10_reg_lookback_60.pickle'\n",
    "\n",
    "with open(path, 'rb') as handler:\n",
    "    backtest = pickle.load(handler)\n",
    "\n",
    "strategy_returns = backtest['Strategy Returns 0']"
   ]
  },
  {
   "cell_type": "markdown",
   "metadata": {},
   "source": [
    "# Download Example SPY Returns"
   ]
  },
  {
   "cell_type": "code",
   "execution_count": 86,
   "metadata": {},
   "outputs": [
    {
     "name": "stdout",
     "output_type": "stream",
     "text": [
      "[*********************100%***********************]  1 of 1 completed\n"
     ]
    }
   ],
   "source": [
    "assets = ['SPY']\n",
    "asset_returns = pd.DataFrame()\n",
    "\n",
    "for ticker in assets:\n",
    "    prices = yf.download(ticker, start='1997-01-01', end='2022-11-21')['Adj Close']\n",
    "    # Shift yesterday's prices forward to compute log returns\n",
    "    rets = np.log(prices/prices.shift(1)).dropna()\n",
    "    rets = rets.rename(ticker)\n",
    "    asset_returns = pd.concat([asset_returns, rets], axis=1)\n",
    "    break\n",
    "\n",
    "strategy_returns = asset_returns.iloc[:,0]"
   ]
  },
  {
   "cell_type": "markdown",
   "metadata": {},
   "source": [
    "# Model specified returns with Normal, Laplace, & Cauchy distributions"
   ]
  },
  {
   "cell_type": "code",
   "execution_count": 93,
   "metadata": {},
   "outputs": [],
   "source": [
    "mu = strategy_returns.mean() # will be used as a crude approximation of location for distributions (in reality, location must be computed uniquely for each type of distribution)\n",
    "sigma = strategy_returns.std() # will be used as a crude approximation of scale for distributions (in reality, scale must be computed uniquely for each type of distribution)\n",
    "N = 10000 #len(strategy_returns)\n",
    "\n",
    "# Simulate Cauchy Distribution\n",
    "sample_cauchy = cauchy.rvs(loc = mu, scale = sigma, size = N)\n",
    "# Must constrain Cauchy Distribution as the true tails of this distribution are unrealistic\n",
    "# This is heuristically executed using 97.5% confidence levels as a cutoff... may be altered once I compute location and scale formulaically (again, these are only approximations)\n",
    "sample_cauchy = sample_cauchy[sample_cauchy>np.percentile(sample_cauchy, 2.5)]\n",
    "sample_cauchy = sample_cauchy[sample_cauchy<np.percentile(sample_cauchy, 97.5)]\n",
    "\n",
    "# Simulate Laplace Distribution\n",
    "sample_laplace = np.random.laplace(loc = mu, scale = sigma, size = N)\n",
    "\n",
    "# Simulate Normal Distribution\n",
    "sample_norm = np.random.normal(loc = mu, scale = sigma, size = N)"
   ]
  },
  {
   "cell_type": "markdown",
   "metadata": {},
   "source": [
    "Plot simulations' histograms with sample returns"
   ]
  },
  {
   "cell_type": "code",
   "execution_count": 94,
   "metadata": {},
   "outputs": [
    {
     "data": {
      "text/plain": [
       "(array([  1.,   0.,   3.,   2.,   3.,   5.,   5.,  19.,  23.,  43.,  60.,\n",
       "         70.,  90., 137., 154., 188., 254., 292., 368., 377., 484., 493.,\n",
       "        546., 583., 566., 611., 581., 581., 538., 457., 446., 394., 342.,\n",
       "        273., 270., 184., 144., 114.,  80.,  72.,  45.,  30.,  33.,  14.,\n",
       "          8.,   7.,   3.,   4.,   1.,   2.]),\n",
       " array([-0.04685055, -0.04499216, -0.04313377, -0.04127538, -0.03941698,\n",
       "        -0.03755859, -0.0357002 , -0.03384181, -0.03198341, -0.03012502,\n",
       "        -0.02826663, -0.02640824, -0.02454984, -0.02269145, -0.02083306,\n",
       "        -0.01897467, -0.01711627, -0.01525788, -0.01339949, -0.0115411 ,\n",
       "        -0.0096827 , -0.00782431, -0.00596592, -0.00410753, -0.00224913,\n",
       "        -0.00039074,  0.00146765,  0.00332604,  0.00518444,  0.00704283,\n",
       "         0.00890122,  0.01075961,  0.01261801,  0.0144764 ,  0.01633479,\n",
       "         0.01819318,  0.02005158,  0.02190997,  0.02376836,  0.02562675,\n",
       "         0.02748515,  0.02934354,  0.03120193,  0.03306032,  0.03491872,\n",
       "         0.03677711,  0.0386355 ,  0.04049389,  0.04235229,  0.04421068,\n",
       "         0.04606907]),\n",
       " <BarContainer object of 50 artists>)"
      ]
     },
     "execution_count": 94,
     "metadata": {},
     "output_type": "execute_result"
    },
    {
     "data": {
      "image/png": "[encoded data removed]",
      "text/plain": [
       "<Figure size 432x288 with 1 Axes>"
      ]
     },
     "metadata": {
      "needs_background": "light"
     },
     "output_type": "display_data"
    }
   ],
   "source": [
    "plt.hist(sample_cauchy, 50)\n",
    "plt.hist(sample_laplace, 50)\n",
    "plt.hist(strategy_returns, 50)\n",
    "plt.hist(sample_norm, 50)"
   ]
  },
  {
   "cell_type": "markdown",
   "metadata": {},
   "source": [
    "# Get worst daily returns and 95%/99% worst returns for all distributions\n",
    "\n",
    "It is evident that Laplace captures the dynamics of financial returns' tails very well. \n",
    "It is reckless to simply rely on CLM (assuming normality as N approaches inf) when it comes to return distributions, even if we are considering log-normal distributions."
   ]
  },
  {
   "cell_type": "code",
   "execution_count": 99,
   "metadata": {},
   "outputs": [
    {
     "name": "stdout",
     "output_type": "stream",
     "text": [
      "5 worst returns: \n",
      " 2020-03-16   -0.115887\n",
      "2008-10-15   -0.103637\n",
      "2020-03-12   -0.100569\n",
      "2008-12-01   -0.092749\n",
      "2008-09-29   -0.081603\n",
      "Name: SPY, dtype: float64\n",
      "5th percentile of returns: -0.01981724692068839\n",
      "1st percentile of returns: -0.03514554805723609\n"
     ]
    }
   ],
   "source": [
    "print('5 worst returns: \\n', strategy_returns.nsmallest(5))\n",
    "print('5th percentile of returns:', np.percentile(strategy_returns, 5))\n",
    "print('1st percentile of returns:', np.percentile(strategy_returns, 1))"
   ]
  },
  {
   "cell_type": "code",
   "execution_count": 104,
   "metadata": {},
   "outputs": [
    {
     "name": "stdout",
     "output_type": "stream",
     "text": [
      "5 worst returns: \n",
      " 500    -0.132735\n",
      "8473   -0.131559\n",
      "7815   -0.107743\n",
      "4103   -0.102714\n",
      "3483   -0.094151\n",
      "dtype: float64\n",
      "5th percentile of returns: -0.029715806095052113\n",
      "1st percentile of returns: -0.05028309309373325\n"
     ]
    }
   ],
   "source": [
    "print('5 worst returns: \\n', pd.Series(sample_laplace).nsmallest(5))\n",
    "print('5th percentile of returns:', np.percentile(sample_laplace, 5))\n",
    "print('1st percentile of returns:', np.percentile(sample_laplace, 1))"
   ]
  },
  {
   "cell_type": "code",
   "execution_count": 105,
   "metadata": {},
   "outputs": [
    {
     "name": "stdout",
     "output_type": "stream",
     "text": [
      "5 worst returns: \n",
      " 8485   -0.146679\n",
      "8685   -0.146562\n",
      "6884   -0.146401\n",
      "3428   -0.145986\n",
      "3028   -0.145859\n",
      "dtype: float64\n",
      "5th percentile of returns: -0.052702610181769964\n",
      "1st percentile of returns: -0.10991904362961953\n"
     ]
    }
   ],
   "source": [
    "print('5 worst returns: \\n', pd.Series(sample_cauchy).nsmallest(5))\n",
    "print('5th percentile of returns:', np.percentile(sample_cauchy, 5))\n",
    "print('1st percentile of returns:', np.percentile(sample_cauchy, 1))"
   ]
  },
  {
   "cell_type": "markdown",
   "metadata": {},
   "source": [
    "# To solve for this mediocre approximation of financial returns, use MLDP's probabilistic SR:\n",
    "\n",
    "This essentially captures the fact that SRs are not directly comparable since they assume normality of returns. \n",
    "Moreover, SRs do not account for higher statistical moments (skew, kurtosis), thus, omitting key information for the quality of a returns series.\n",
    "\n",
    "This can radically impact the conclusions made from SRs, and could possible make a smaller SR actually more attractive than a large one for an allocator\n",
    "(this would be the case if the larger SR is highly negatively skewed).\n",
    "\n",
    "This will have implications in both portfolio analysis, but potentially more importantly, portfolio construction by altering objective functions beyond max SR... this could be in the form of an economic \n",
    "utility function that accounts for higher moments, or more directly, using max probabilistic SR (Marcos Lopez de Prado's finding) as the objective function.\n",
    "\n",
    "\n",
    "\n",
    "See more at: \n",
    "1) https://quantdare.com/probabilistic-sharpe-ratio/\n",
    "2) https://papers.ssrn.com/sol3/papers.cfm?abstract_id=2146219 - SEC + Wells Fargo Research\n",
    "3) https://papers.ssrn.com/sol3/papers.cfm?abstract_id=1821643 - Marco Lopez de Prado"
   ]
  },
  {
   "attachments": {},
   "cell_type": "markdown",
   "metadata": {},
   "source": [
    "# Next Steps: construct a general error distribution (normal dist with varying skew) via convex opts + PDFs + CDFs + Max Log Likelihood: \n",
    "\n",
    "NEDL Video: https://www.youtube.com/watch?v=13_JmWqNr7g"
   ]
  },
  {
   "cell_type": "code",
   "execution_count": null,
   "metadata": {},
   "outputs": [],
   "source": []
  }
 ],
 "metadata": {
  "kernelspec": {
   "display_name": "Python 3.7.9 64-bit (microsoft store)",
   "language": "python",
   "name": "python3"
  },
  "language_info": {
   "codemirror_mode": {
    "name": "ipython",
    "version": 3
   },
   "file_extension": ".py",
   "mimetype": "text/x-python",
   "name": "python",
   "nbconvert_exporter": "python",
   "pygments_lexer": "ipython3",
   "version": "3.7.9 (tags/v3.7.9:13c94747c7, Aug 17 2020, 16:30:00) [MSC v.1900 64 bit (AMD64)]"
  },
  "orig_nbformat": 4,
  "vscode": {
   "interpreter": {
    "hash": "77dd742b113c4241fb4f708542db02ed4da28a8bf812b8fffe8c7b9768f0c9c1"
   }
  }
 },
 "nbformat": 4,
 "nbformat_minor": 2
}

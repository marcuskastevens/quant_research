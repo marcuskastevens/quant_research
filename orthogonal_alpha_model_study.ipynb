{
 "cells": [
  {
   "cell_type": "markdown",
   "metadata": {},
   "source": [
    "# Orthogonalizing Alpha Model Views - OLS Regression Factor Study\n",
    "\n",
    "Here, we replicate multiple signal formation techniques deployed by the largest firms in quantitative trading.\n",
    "\n",
    "This is done with synthetic data to emphasize the process behind forming quantitative portfolios from raw signals.\n",
    "\n",
    "We apply signal formation to industry/dollar/beta neutral portfolios in a sequential, cell-by-cell manner.\n",
    "\n",
    "We then aggregate this functionality across several functions to modularize this process for a quantitiatve trading infrastructure."
   ]
  },
  {
   "cell_type": "code",
   "execution_count": 1,
   "metadata": {},
   "outputs": [],
   "source": [
    "import matplotlib.pyplot as plt\n",
    "import statsmodels.api as sm\n",
    "import pandas as pd\n",
    "import numpy as np"
   ]
  },
  {
   "cell_type": "code",
   "execution_count": 2,
   "metadata": {},
   "outputs": [],
   "source": [
    "# Generate sample data\n",
    "np.random.seed(1)\n",
    "num_stocks = 50\n",
    "num_industries = 5\n",
    "\n",
    "data = {\n",
    "    'Stock': [f'Stock_{i}' for i in range(num_stocks)],\n",
    "    'Z_Score': np.random.randn(num_stocks),\n",
    "    'Industry': np.random.randint(0, num_industries, num_stocks),\n",
    "    'ExAnte_Beta': np.random.uniform(0.5, 1.5, num_stocks)\n",
    "}\n",
    "\n",
    "df = pd.DataFrame(data)"
   ]
  },
  {
   "cell_type": "code",
   "execution_count": 3,
   "metadata": {},
   "outputs": [
    {
     "data": {
      "text/html": [
       "<div>\n",
       "<style scoped>\n",
       "    .dataframe tbody tr th:only-of-type {\n",
       "        vertical-align: middle;\n",
       "    }\n",
       "\n",
       "    .dataframe tbody tr th {\n",
       "        vertical-align: top;\n",
       "    }\n",
       "\n",
       "    .dataframe thead th {\n",
       "        text-align: right;\n",
       "    }\n",
       "</style>\n",
       "<table border=\"1\" class=\"dataframe\">\n",
       "  <thead>\n",
       "    <tr style=\"text-align: right;\">\n",
       "      <th></th>\n",
       "      <th>Industry_0</th>\n",
       "      <th>Industry_1</th>\n",
       "      <th>Industry_2</th>\n",
       "      <th>Industry_3</th>\n",
       "      <th>Industry_4</th>\n",
       "    </tr>\n",
       "  </thead>\n",
       "  <tbody>\n",
       "    <tr>\n",
       "      <th>0</th>\n",
       "      <td>1</td>\n",
       "      <td>0</td>\n",
       "      <td>0</td>\n",
       "      <td>0</td>\n",
       "      <td>0</td>\n",
       "    </tr>\n",
       "    <tr>\n",
       "      <th>1</th>\n",
       "      <td>0</td>\n",
       "      <td>0</td>\n",
       "      <td>0</td>\n",
       "      <td>1</td>\n",
       "      <td>0</td>\n",
       "    </tr>\n",
       "    <tr>\n",
       "      <th>2</th>\n",
       "      <td>0</td>\n",
       "      <td>0</td>\n",
       "      <td>0</td>\n",
       "      <td>0</td>\n",
       "      <td>1</td>\n",
       "    </tr>\n",
       "    <tr>\n",
       "      <th>3</th>\n",
       "      <td>0</td>\n",
       "      <td>0</td>\n",
       "      <td>0</td>\n",
       "      <td>1</td>\n",
       "      <td>0</td>\n",
       "    </tr>\n",
       "    <tr>\n",
       "      <th>4</th>\n",
       "      <td>0</td>\n",
       "      <td>0</td>\n",
       "      <td>0</td>\n",
       "      <td>0</td>\n",
       "      <td>1</td>\n",
       "    </tr>\n",
       "  </tbody>\n",
       "</table>\n",
       "</div>"
      ],
      "text/plain": [
       "   Industry_0  Industry_1  Industry_2  Industry_3  Industry_4\n",
       "0           1           0           0           0           0\n",
       "1           0           0           0           1           0\n",
       "2           0           0           0           0           1\n",
       "3           0           0           0           1           0\n",
       "4           0           0           0           0           1"
      ]
     },
     "execution_count": 3,
     "metadata": {},
     "output_type": "execute_result"
    }
   ],
   "source": [
    "# Create industry dummy variables to form industry/beta relationships\n",
    "industry_dummies = pd.get_dummies(df['Industry'], prefix='Industry')\n",
    "industry_dummies.head()"
   ]
  },
  {
   "cell_type": "code",
   "execution_count": 4,
   "metadata": {},
   "outputs": [
    {
     "data": {
      "text/html": [
       "<div>\n",
       "<style scoped>\n",
       "    .dataframe tbody tr th:only-of-type {\n",
       "        vertical-align: middle;\n",
       "    }\n",
       "\n",
       "    .dataframe tbody tr th {\n",
       "        vertical-align: top;\n",
       "    }\n",
       "\n",
       "    .dataframe thead th {\n",
       "        text-align: right;\n",
       "    }\n",
       "</style>\n",
       "<table border=\"1\" class=\"dataframe\">\n",
       "  <thead>\n",
       "    <tr style=\"text-align: right;\">\n",
       "      <th></th>\n",
       "      <th>Industry_0</th>\n",
       "      <th>Industry_1</th>\n",
       "      <th>Industry_2</th>\n",
       "      <th>Industry_3</th>\n",
       "      <th>Industry_4</th>\n",
       "    </tr>\n",
       "  </thead>\n",
       "  <tbody>\n",
       "    <tr>\n",
       "      <th>0</th>\n",
       "      <td>1.190897</td>\n",
       "      <td>0.0</td>\n",
       "      <td>0.0</td>\n",
       "      <td>0.0</td>\n",
       "      <td>0.0</td>\n",
       "    </tr>\n",
       "    <tr>\n",
       "      <th>1</th>\n",
       "      <td>0.0</td>\n",
       "      <td>0.0</td>\n",
       "      <td>0.0</td>\n",
       "      <td>1.497323</td>\n",
       "      <td>0.0</td>\n",
       "    </tr>\n",
       "    <tr>\n",
       "      <th>2</th>\n",
       "      <td>0.0</td>\n",
       "      <td>0.0</td>\n",
       "      <td>0.0</td>\n",
       "      <td>0.0</td>\n",
       "      <td>0.672341</td>\n",
       "    </tr>\n",
       "    <tr>\n",
       "      <th>3</th>\n",
       "      <td>0.0</td>\n",
       "      <td>0.0</td>\n",
       "      <td>0.0</td>\n",
       "      <td>0.637136</td>\n",
       "      <td>0.0</td>\n",
       "    </tr>\n",
       "    <tr>\n",
       "      <th>4</th>\n",
       "      <td>0.0</td>\n",
       "      <td>0.0</td>\n",
       "      <td>0.0</td>\n",
       "      <td>0.0</td>\n",
       "      <td>1.432595</td>\n",
       "    </tr>\n",
       "  </tbody>\n",
       "</table>\n",
       "</div>"
      ],
      "text/plain": [
       "  Industry_0 Industry_1 Industry_2 Industry_3 Industry_4\n",
       "0   1.190897        0.0        0.0        0.0        0.0\n",
       "1        0.0        0.0        0.0   1.497323        0.0\n",
       "2        0.0        0.0        0.0        0.0   0.672341\n",
       "3        0.0        0.0        0.0   0.637136        0.0\n",
       "4        0.0        0.0        0.0        0.0   1.432595"
      ]
     },
     "execution_count": 4,
     "metadata": {},
     "output_type": "execute_result"
    }
   ],
   "source": [
    "# Create interaction terms: ExAnte_Beta * Industry_Dummies\n",
    "interaction_terms = pd.DataFrame(index=industry_dummies.index, columns=industry_dummies.columns)\n",
    "for i, beta in df['ExAnte_Beta'].items():\n",
    "    interaction_terms.loc[i] = industry_dummies.iloc[i] * beta\n",
    "\n",
    "interaction_terms.head()"
   ]
  },
  {
   "cell_type": "code",
   "execution_count": 5,
   "metadata": {},
   "outputs": [
    {
     "data": {
      "text/plain": [
       "0    1.275207\n",
       "1    0.163388\n",
       "2   -0.141346\n",
       "3   -0.249050\n",
       "4    0.717135\n",
       "dtype: float64"
      ]
     },
     "execution_count": 5,
     "metadata": {},
     "output_type": "execute_result"
    }
   ],
   "source": [
    "# Regress Z_score views on interaction terms to capture how much our view is explained by industry-specific market factors\n",
    "\n",
    "# Run OLS regression\n",
    "X = sm.add_constant(interaction_terms)\n",
    "y = df['Z_Score']\n",
    "\n",
    "model = sm.OLS(y,  X.astype(float)).fit()\n",
    "\n",
    "# Orthogonal alpha model views\n",
    "residuals = model.resid\n",
    "\n",
    "residuals.head()"
   ]
  },
  {
   "cell_type": "code",
   "execution_count": 6,
   "metadata": {},
   "outputs": [
    {
     "data": {
      "text/plain": [
       "Text(0.5, 1.0, 'Orthogonalized Alpha Model Weights')"
      ]
     },
     "execution_count": 6,
     "metadata": {},
     "output_type": "execute_result"
    },
    {
     "data": {
      "image/png": "[encoded data removed]",
      "text/plain": [
       "<Figure size 1440x504 with 1 Axes>"
      ]
     },
     "metadata": {
      "needs_background": "light"
     },
     "output_type": "display_data"
    }
   ],
   "source": [
    "# Get weights from alpha model orthogonalized views\n",
    "alpha_model_weights = residuals / np.sum(np.abs(residuals))\n",
    "\n",
    "# Ensure dollar-neutrality\n",
    "assert -1e-10 < alpha_model_weights.sum() < 1e-10\n",
    "\n",
    "# Visualize\n",
    "plt.figure(figsize = (20, 7))\n",
    "plt.bar(alpha_model_weights.index, alpha_model_weights)\n",
    "plt.title(\"Orthogonalized Alpha Model Weights\")"
   ]
  },
  {
   "cell_type": "markdown",
   "metadata": {},
   "source": [
    "# Modularizing Alpha Orthogonalization\n",
    "\n",
    "This sections creates a series of functions to convert signal views to tradable portfolio weights. These weights can then be scaled to target a given volatilty."
   ]
  },
  {
   "cell_type": "code",
   "execution_count": 169,
   "metadata": {},
   "outputs": [],
   "source": [
    "# -------------------------------------------- Utility Functions -------------------------------------------- \n",
    "\n",
    "def rank(signal: pd.Series):\n",
    "\n",
    "    # If pd.Series, maintain indices/names\n",
    "    if type(signal) == pd.Series:\n",
    "        ranked_signal = signal.rank()        \n",
    "    else:\n",
    "        ranked_signal = np.argsort(signal)\n",
    "\n",
    "    return ranked_signal\n",
    "\n",
    "def quantiles(signal: pd.Series, q = .1):\n",
    "\n",
    "    lower_quantile = np.quantile(signal, q=q)\n",
    "    upper_quantile = np.quantile(signal, q=1-q)\n",
    "    \n",
    "    quantile_signal = signal.where((signal < lower_quantile) | (signal > upper_quantile)).dropna()\n",
    "\n",
    "    return quantile_signal\n",
    "\n",
    "def z_score(signal: pd.Series):\n",
    "    \"\"\"\n",
    "    Calculates the Z-score of a signal.\n",
    "    \n",
    "    Parameters:\n",
    "        signal (pd.Series): Series of the signal to calculate Z-scores for.\n",
    "        \n",
    "    Returns:\n",
    "        pd.Series: Z-scores of the input signal.\n",
    "    \"\"\"\n",
    "    \n",
    "    z_score = (signal - np.mean(signal)) / np.std(signal)\n",
    "\n",
    "    return z_score\n",
    "\n",
    "def ranked_signal_z_score(signal: pd.Series):\n",
    "    \"\"\"\n",
    "    Calculates Z-scores for a ranked signal and ensures dollar-neutrality.\n",
    "    \n",
    "    Parameters:\n",
    "        signal (pd.Series): Series of the signal to calculate Z-scores for.\n",
    "        \n",
    "    Returns:\n",
    "        pd.Series: Z-scores of the ranked signal.\n",
    "        \n",
    "    Raises:\n",
    "        AssertionError: If the sum of Z-scores is not close to zero (dollar-neutrality check).\n",
    "    \"\"\"\n",
    "\n",
    "    # Rank signals\n",
    "    ranked_signal = rank(signal)\n",
    "\n",
    "    # Standardize ranked signals\n",
    "    z_score_signal = z_score(ranked_signal)\n",
    "\n",
    "    # Check for dollar-neutrality\n",
    "    assert -1e-10 < z_score_signal.sum() < 1e-10\n",
    "\n",
    "    # Dollar-neutral alpha model views\n",
    "    return z_score_signal\n",
    "\n",
    "def intra_industry_rank(signal: pd.Series, industry: pd.Series):\n",
    "    \n",
    "    # Create intra-industry ranked signals\n",
    "    ranked_signal = signal.groupby(industry).rank()\n",
    "\n",
    "    return ranked_signal\n",
    "\n",
    "def intra_industry_mean(signal: pd.Series, industry: pd.Series):\n",
    "\n",
    "    # Calculate intra-industry mean \n",
    "    mean = signal.groupby(industry).transform('mean')\n",
    "\n",
    "    return mean\n",
    "\n",
    "def intra_industry_std(signal: pd.Series, industry: pd.Series):\n",
    "    \n",
    "    # Calculate intra-industry standard deviation\n",
    "    sigma = signal.groupby(industry).transform('std')\n",
    "\n",
    "    return sigma\n",
    "\n",
    "def intra_industry_quantiles(signal: pd.Series, industry: pd.Series, q=0.1):\n",
    "\n",
    "    # Group data by industry\n",
    "    industry_grouped_signal = signal.groupby(industry)\n",
    "    \n",
    "    # Calculate quartile values for each industry\n",
    "    lower_quantiles = industry_grouped_signal.transform(lambda x: np.quantile(x, q))\n",
    "    upper_quantiles = industry_grouped_signal.transform(lambda x: np.quantile(x, (1 - q)))\n",
    "    \n",
    "    # Isolate values in the bottom and top quartiles within each industry\n",
    "    quantile_signal = signal.where((signal <= lower_quantiles) | (signal >= upper_quantiles)).dropna()\n",
    "\n",
    "    return quantile_signal\n",
    "\n",
    "def intra_industry_z_score(signal: pd.Series, industry: pd.Series):\n",
    "    \"\"\"\n",
    "    Calculates industry-neutral Z-scores for a raw signal and ensures dollar-neutrality.\n",
    "    \n",
    "    Parameters:\n",
    "        signal (pd.Series): Series of the signal to calculate Z-scores for.\n",
    "        industry (pd.Series): Series indicating the industry of each stock.\n",
    "        \n",
    "    Returns:\n",
    "        pd.Series: Industry-neutral Z-scores of the signal.\n",
    "        \n",
    "    Raises:\n",
    "        AssertionError: If the sum of Z-scores within each industry is not close to zero (dollar-neutrality check).\n",
    "    \"\"\"\n",
    "\n",
    "    # Calculate intra-industry ranked signal mean and standard deviation\n",
    "    industry_mean = intra_industry_mean(signal=signal, industry=industry)\n",
    "    industry_sigma = intra_industry_std(signal=signal, industry=industry)\n",
    "\n",
    "    # Standardize intra-industry ranked signals\n",
    "    z_score = (signal - industry_mean) / industry_sigma\n",
    "\n",
    "    # Check for dollar-neutrality\n",
    "    assert -1e-10 < z_score.groupby(industry).sum().sum() < 1e-10\n",
    "\n",
    "    # Industry dollar-neutral alpha model views\n",
    "    return z_score \n",
    "\n",
    "def intra_industry_ranked_signal_z_score(signal: pd.Series, industry: pd.Series):\n",
    "    \"\"\"\n",
    "    Calculates industry-neutral Z-scores for a ranked signal and ensures dollar-neutrality.\n",
    "    \n",
    "    Parameters:\n",
    "        signal (pd.Series): Series of the signal to calculate Z-scores for.\n",
    "        industry (pd.Series): Series indicating the industry of each stock.\n",
    "        \n",
    "    Returns:\n",
    "        pd.Series: Industry-neutral Z-scores of the ranked signal.\n",
    "        \n",
    "    Raises:\n",
    "        AssertionError: If the sum of Z-scores within each industry is not close to zero (dollar-neutrality check).\n",
    "    \"\"\"\n",
    "\n",
    "    # Create intra-industry ranked signals\n",
    "    ranked_signal = intra_industry_rank(signal=signal, industry=industry) \n",
    "\n",
    "    # Get the intra-industry z-score of ranked signals\n",
    "    z_score = intra_industry_z_score(signal=ranked_signal, industry=industry)\n",
    "\n",
    "    # Check for dollar-neutrality\n",
    "    assert -1e-10 < z_score.groupby(industry).sum().sum() < 1e-10\n",
    "\n",
    "    # Industry dollar-neutral alpha model views\n",
    "    return z_score\n",
    "\n",
    "\n",
    "def beta_neutralize(views: pd.Series, betas: pd.Series) -> pd.Series:\n",
    "    \"\"\"\n",
    "    Orthogonalizes alpha model to the market factor. Transforms alpha \n",
    "    model views to beta-neutralized weights based on stock-level betas.   \n",
    "    These alpha weights can then be scaled to target desired level of vol.\n",
    "\n",
    "    This function will eventually be extended to orthogonalize alpha model \n",
    "    to other market factors (e.g., Fama-French factors).\n",
    "    \n",
    "    Parameters:\n",
    "        views (pd.Series): Series of your alpha model views.\n",
    "        betas (pd.Series): Series of ex-ante stock-level betas.\n",
    "        \n",
    "    Returns:\n",
    "        pd.Series: Alpha weights for beta-neutralized views.\n",
    "    \"\"\"\n",
    "\n",
    "    # Preprocess data\n",
    "    X = sm.add_constant(betas).astype(float)\n",
    "    y = views.astype(float)\n",
    "\n",
    "    # Regress model views on stock-level betas\n",
    "    model = sm.OLS(endog=y, exog=X).fit() \n",
    "\n",
    "    # Orthogonalize views to create your alpha weights\n",
    "    alpha_views = model.resid\n",
    "    w = alpha_views / np.sum(np.abs(alpha_views))\n",
    "\n",
    "    # Ensure dollar neturality\n",
    "    assert  -1e-10 < np.sum(w) < 1e-10\n",
    "\n",
    "    return w\n",
    "\n",
    "def industry_beta_neutralize(views: pd.Series, industry: pd.Series, betas: pd.Series):\n",
    "    \"\"\"\n",
    "    Creates industry beta-neutral alpha weights for views based on stock-level betas and industries.\n",
    "    Views are expected to be industry dollar-neutral before passed to this function... if views are not\n",
    "    dollar neutral beforehand, there is no guaruntee that weights will be industry-dollar neutral.\n",
    "    \n",
    "    Parameters:\n",
    "        views (pd.Series): Series of your alpha model views.\n",
    "        industry (pd.Series): Series indicating the industry of each stock.\n",
    "        betas (pd.Series): Series of ex-ante stock-level betas.\n",
    "        \n",
    "    Returns:\n",
    "        pd.Series: Alpha weights for industry beta-neutralized views.\n",
    "    \"\"\"\n",
    "\n",
    "    # Create industry dummy variables\n",
    "    industry_dummies = pd.get_dummies(industry, prefix='Industry')\n",
    "\n",
    "    print(industry_dummies.shape, betas.shape)\n",
    "    \n",
    "    # Create interaction terms: ExAnte_Beta * Industry_Dummies\n",
    "    interaction_terms = pd.DataFrame(index=industry_dummies.index, columns=industry_dummies.columns)\n",
    "    for i, beta in betas.items():\n",
    "        interaction_terms.loc[i] = industry_dummies.loc[i] * beta\n",
    "\n",
    "    # Beta Neutralize beta within industry\n",
    "    w = beta_neutralize(views=views, betas=interaction_terms)\n",
    "\n",
    "    return w\n",
    "\n",
    "def plot_weights(w: pd.Series, title=None):\n",
    "\n",
    "    plt.figure(figsize=(20, 5))\n",
    "    plt.bar(w.index, w)\n",
    "    if title:\n",
    "        plt.title(title)\n",
    "    plt.show()"
   ]
  },
  {
   "cell_type": "markdown",
   "metadata": {},
   "source": [
    "Run the previous simulation on a raw signal while leveragin new modularized infrastructure"
   ]
  },
  {
   "cell_type": "code",
   "execution_count": 157,
   "metadata": {},
   "outputs": [],
   "source": [
    "# Generate sample data\n",
    "np.random.seed(1)\n",
    "num_stocks = 50\n",
    "num_industries = 5\n",
    "\n",
    "# Generate synthetic data including the raw signal instead of the Z-Scored signal\n",
    "data = {\n",
    "    'Stock': [f'Stock_{i}' for i in range(num_stocks)],\n",
    "    'Signal': np.random.randn(num_stocks),\n",
    "    'Industry': np.random.randint(0, num_industries, num_stocks),\n",
    "    'ExAnte_Beta': np.random.uniform(0.5, 1.5, num_stocks)\n",
    "}\n",
    "\n",
    "df = pd.DataFrame(data)"
   ]
  },
  {
   "cell_type": "code",
   "execution_count": 168,
   "metadata": {},
   "outputs": [
    {
     "name": "stdout",
     "output_type": "stream",
     "text": [
      "(50, 5) (50,)\n"
     ]
    },
    {
     "data": {
      "image/png": "[encoded data removed]",
      "text/plain": [
       "<Figure size 1440x360 with 1 Axes>"
      ]
     },
     "metadata": {
      "needs_background": "light"
     },
     "output_type": "display_data"
    },
    {
     "data": {
      "text/plain": [
       "0    0.019340\n",
       "1    0.007194\n",
       "2   -0.012172\n",
       "3   -0.020727\n",
       "4    0.022303\n",
       "dtype: float64"
      ]
     },
     "execution_count": 168,
     "metadata": {},
     "output_type": "execute_result"
    }
   ],
   "source": [
    "# Industry & Dollar Neutralize Standardized Ranked Alpha Signal\n",
    "df['Z_score'] = intra_industry_ranked_signal_z_score(signal=df['Signal'], industry=data['Industry'])\n",
    "\n",
    "# Convert Z-Scored signal into beta dollar-neutral portfolio weights\n",
    "w = industry_beta_neutralize(views=df['Z_score'], industry=df['Industry'], betas=df['ExAnte_Beta'])\n",
    "plot_weights(w, title=\"Industry, Dollar, & Beta Neutral Quant Portfolio\")\n",
    "w.head()"
   ]
  },
  {
   "cell_type": "markdown",
   "metadata": {},
   "source": [
    "Different Signal Transformation Alpha Model - Non Industry Neutral"
   ]
  },
  {
   "cell_type": "code",
   "execution_count": 160,
   "metadata": {},
   "outputs": [
    {
     "data": {
      "image/png": "[encoded data removed]",
      "text/plain": [
       "<Figure size 1440x360 with 1 Axes>"
      ]
     },
     "metadata": {
      "needs_background": "light"
     },
     "output_type": "display_data"
    }
   ],
   "source": [
    "new_views = z_score(quantiles(df.Signal, q=0.2))\n",
    "w = beta_neutralize(new_views, betas=df['ExAnte_Beta'].loc[new_views.index])\n",
    "plot_weights(w)"
   ]
  },
  {
   "cell_type": "markdown",
   "metadata": {},
   "source": [
    "Different Signal Transformation Alpha Model - Non Industry Neutral"
   ]
  },
  {
   "cell_type": "code",
   "execution_count": 172,
   "metadata": {},
   "outputs": [
    {
     "name": "stdout",
     "output_type": "stream",
     "text": [
      "(28, 5) (28,)\n"
     ]
    },
    {
     "data": {
      "image/png": "[encoded data removed]",
      "text/plain": [
       "<Figure size 1440x360 with 1 Axes>"
      ]
     },
     "metadata": {
      "needs_background": "light"
     },
     "output_type": "display_data"
    }
   ],
   "source": [
    "# Get the top and bottm intra-industry quantiles of signal\n",
    "quantile_signal = intra_industry_quantiles(signal=df.Signal, industry=df.Industry, q=0.25)\n",
    "\n",
    "# Redifine tradable universe\n",
    "quantile_df = df.loc[quantile_signal.index]\n",
    "\n",
    "# Intra-industry rank the quantiles, then z-score the rank of the quantiles\n",
    "z_score_ranked_quantile_signal = intra_industry_ranked_signal_z_score(signal=quantile_signal, industry=quantile_df.Industry)\n",
    "\n",
    "# Beta, industry, and dollar-neutralize the remanining portfolio\n",
    "w = industry_beta_neutralize(views=z_score_ranked_quantile_signal, industry=quantile_df['Industry'], betas=quantile_df['ExAnte_Beta'])\n",
    "\n",
    "plot_weights(w)"
   ]
  }
 ],
 "metadata": {
  "kernelspec": {
   "display_name": "Python 3",
   "language": "python",
   "name": "python3"
  },
  "language_info": {
   "codemirror_mode": {
    "name": "ipython",
    "version": 3
   },
   "file_extension": ".py",
   "mimetype": "text/x-python",
   "name": "python",
   "nbconvert_exporter": "python",
   "pygments_lexer": "ipython3",
   "version": "3.7.9"
  },
  "orig_nbformat": 4
 },
 "nbformat": 4,
 "nbformat_minor": 2
}

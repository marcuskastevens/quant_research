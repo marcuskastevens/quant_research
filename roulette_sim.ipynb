{
 "cells": [
  {
   "cell_type": "code",
   "execution_count": 5,
   "metadata": {},
   "outputs": [],
   "source": [
    "import pandas as pd\n",
    "import numpy as np\n",
    "import matplotlib.pyplot as plt\n",
    "import quant_tools.data_preprocessing as dp"
   ]
  },
  {
   "cell_type": "code",
   "execution_count": 1,
   "metadata": {},
   "outputs": [],
   "source": [
    "roulette_probs = {  \"black\" : 18/38,\n",
    "                    \"red\" : 18/38,\n",
    "                    \"zero\" : 1/38,\n",
    "                    \"double_zero\" : 1/38\n",
    "                }"
   ]
  },
  {
   "cell_type": "code",
   "execution_count": 4,
   "metadata": {},
   "outputs": [
    {
     "data": {
      "text/html": [
       "<div>\n",
       "<style scoped>\n",
       "    .dataframe tbody tr th:only-of-type {\n",
       "        vertical-align: middle;\n",
       "    }\n",
       "\n",
       "    .dataframe tbody tr th {\n",
       "        vertical-align: top;\n",
       "    }\n",
       "\n",
       "    .dataframe thead th {\n",
       "        text-align: right;\n",
       "    }\n",
       "</style>\n",
       "<table border=\"1\" class=\"dataframe\">\n",
       "  <thead>\n",
       "    <tr style=\"text-align: right;\">\n",
       "      <th></th>\n",
       "      <th>black</th>\n",
       "      <th>red</th>\n",
       "      <th>zero</th>\n",
       "      <th>double_zero</th>\n",
       "    </tr>\n",
       "  </thead>\n",
       "  <tbody>\n",
       "    <tr>\n",
       "      <th>1</th>\n",
       "      <td>0.473684</td>\n",
       "      <td>0.473684</td>\n",
       "      <td>0.026316</td>\n",
       "      <td>0.026316</td>\n",
       "    </tr>\n",
       "    <tr>\n",
       "      <th>2</th>\n",
       "      <td>0.224377</td>\n",
       "      <td>0.224377</td>\n",
       "      <td>0.000693</td>\n",
       "      <td>0.000693</td>\n",
       "    </tr>\n",
       "    <tr>\n",
       "      <th>3</th>\n",
       "      <td>0.106284</td>\n",
       "      <td>0.106284</td>\n",
       "      <td>0.000018</td>\n",
       "      <td>0.000018</td>\n",
       "    </tr>\n",
       "    <tr>\n",
       "      <th>4</th>\n",
       "      <td>0.050345</td>\n",
       "      <td>0.050345</td>\n",
       "      <td>0.0</td>\n",
       "      <td>0.0</td>\n",
       "    </tr>\n",
       "    <tr>\n",
       "      <th>5</th>\n",
       "      <td>0.023848</td>\n",
       "      <td>0.023848</td>\n",
       "      <td>0.0</td>\n",
       "      <td>0.0</td>\n",
       "    </tr>\n",
       "    <tr>\n",
       "      <th>6</th>\n",
       "      <td>0.011296</td>\n",
       "      <td>0.011296</td>\n",
       "      <td>0.0</td>\n",
       "      <td>0.0</td>\n",
       "    </tr>\n",
       "    <tr>\n",
       "      <th>7</th>\n",
       "      <td>0.005351</td>\n",
       "      <td>0.005351</td>\n",
       "      <td>0.0</td>\n",
       "      <td>0.0</td>\n",
       "    </tr>\n",
       "    <tr>\n",
       "      <th>8</th>\n",
       "      <td>0.002535</td>\n",
       "      <td>0.002535</td>\n",
       "      <td>0.0</td>\n",
       "      <td>0.0</td>\n",
       "    </tr>\n",
       "    <tr>\n",
       "      <th>9</th>\n",
       "      <td>0.001201</td>\n",
       "      <td>0.001201</td>\n",
       "      <td>0.0</td>\n",
       "      <td>0.0</td>\n",
       "    </tr>\n",
       "    <tr>\n",
       "      <th>10</th>\n",
       "      <td>0.000569</td>\n",
       "      <td>0.000569</td>\n",
       "      <td>0.0</td>\n",
       "      <td>0.0</td>\n",
       "    </tr>\n",
       "    <tr>\n",
       "      <th>11</th>\n",
       "      <td>0.000269</td>\n",
       "      <td>0.000269</td>\n",
       "      <td>0.0</td>\n",
       "      <td>0.0</td>\n",
       "    </tr>\n",
       "    <tr>\n",
       "      <th>12</th>\n",
       "      <td>0.000128</td>\n",
       "      <td>0.000128</td>\n",
       "      <td>0.0</td>\n",
       "      <td>0.0</td>\n",
       "    </tr>\n",
       "    <tr>\n",
       "      <th>13</th>\n",
       "      <td>0.00006</td>\n",
       "      <td>0.00006</td>\n",
       "      <td>0.0</td>\n",
       "      <td>0.0</td>\n",
       "    </tr>\n",
       "    <tr>\n",
       "      <th>14</th>\n",
       "      <td>0.000029</td>\n",
       "      <td>0.000029</td>\n",
       "      <td>0.0</td>\n",
       "      <td>0.0</td>\n",
       "    </tr>\n",
       "    <tr>\n",
       "      <th>15</th>\n",
       "      <td>0.000014</td>\n",
       "      <td>0.000014</td>\n",
       "      <td>0.0</td>\n",
       "      <td>0.0</td>\n",
       "    </tr>\n",
       "    <tr>\n",
       "      <th>16</th>\n",
       "      <td>0.000006</td>\n",
       "      <td>0.000006</td>\n",
       "      <td>0.0</td>\n",
       "      <td>0.0</td>\n",
       "    </tr>\n",
       "    <tr>\n",
       "      <th>17</th>\n",
       "      <td>0.000003</td>\n",
       "      <td>0.000003</td>\n",
       "      <td>0.0</td>\n",
       "      <td>0.0</td>\n",
       "    </tr>\n",
       "    <tr>\n",
       "      <th>18</th>\n",
       "      <td>0.000001</td>\n",
       "      <td>0.000001</td>\n",
       "      <td>0.0</td>\n",
       "      <td>0.0</td>\n",
       "    </tr>\n",
       "    <tr>\n",
       "      <th>19</th>\n",
       "      <td>0.000001</td>\n",
       "      <td>0.000001</td>\n",
       "      <td>0.0</td>\n",
       "      <td>0.0</td>\n",
       "    </tr>\n",
       "    <tr>\n",
       "      <th>20</th>\n",
       "      <td>0.0</td>\n",
       "      <td>0.0</td>\n",
       "      <td>0.0</td>\n",
       "      <td>0.0</td>\n",
       "    </tr>\n",
       "  </tbody>\n",
       "</table>\n",
       "</div>"
      ],
      "text/plain": [
       "       black       red      zero double_zero\n",
       "1   0.473684  0.473684  0.026316    0.026316\n",
       "2   0.224377  0.224377  0.000693    0.000693\n",
       "3   0.106284  0.106284  0.000018    0.000018\n",
       "4   0.050345  0.050345       0.0         0.0\n",
       "5   0.023848  0.023848       0.0         0.0\n",
       "6   0.011296  0.011296       0.0         0.0\n",
       "7   0.005351  0.005351       0.0         0.0\n",
       "8   0.002535  0.002535       0.0         0.0\n",
       "9   0.001201  0.001201       0.0         0.0\n",
       "10  0.000569  0.000569       0.0         0.0\n",
       "11  0.000269  0.000269       0.0         0.0\n",
       "12  0.000128  0.000128       0.0         0.0\n",
       "13   0.00006   0.00006       0.0         0.0\n",
       "14  0.000029  0.000029       0.0         0.0\n",
       "15  0.000014  0.000014       0.0         0.0\n",
       "16  0.000006  0.000006       0.0         0.0\n",
       "17  0.000003  0.000003       0.0         0.0\n",
       "18  0.000001  0.000001       0.0         0.0\n",
       "19  0.000001  0.000001       0.0         0.0\n",
       "20       0.0       0.0       0.0         0.0"
      ]
     },
     "execution_count": 4,
     "metadata": {},
     "output_type": "execute_result"
    }
   ],
   "source": [
    "consecutive_probabilities = pd.DataFrame(columns=['black', 'red', 'zero', 'double_zero'], index=range(1, 21))\n",
    "\n",
    "for col in consecutive_probabilities.columns:\n",
    "    for i in range(1, 21):\n",
    "        consecutive_probabilities[col].loc[i] = roulette_probs[col]**i\n",
    "\n",
    "consecutive_probabilities"
   ]
  },
  {
   "cell_type": "markdown",
   "metadata": {},
   "source": [
    "Run Monte Carlo Simulation"
   ]
  },
  {
   "cell_type": "code",
   "execution_count": 6,
   "metadata": {},
   "outputs": [],
   "source": [
    "N_SIM = 5000\n",
    "N_PLAYER = 1000\n",
    "\n",
    "sim = np.random.choice(consecutive_probabilities.columns, size=(1000, 1000), p=consecutive_probabilities.iloc[0, :])\n",
    "sim = pd.DataFrame(sim)"
   ]
  },
  {
   "cell_type": "markdown",
   "metadata": {},
   "source": [
    "Simulate Each Game"
   ]
  },
  {
   "cell_type": "code",
   "execution_count": 7,
   "metadata": {},
   "outputs": [
    {
     "data": {
      "image/png": "[encoded data removed]",
      "text/plain": [
       "<Figure size 432x288 with 1 Axes>"
      ]
     },
     "metadata": {
      "needs_background": "light"
     },
     "output_type": "display_data"
    }
   ],
   "source": [
    "counter = 0\n",
    "bet = 0.1\n",
    "initial_bankroll = 1000\n",
    "final_pnl = []\n",
    "\n",
    "for col, tmp_sim in sim.items():\n",
    "    \n",
    "    color_time_series = []\n",
    "    bankroll_time_series = [initial_bankroll]\n",
    "    pnl_time_series = []\n",
    "    bet_size_time_series = [bet]\n",
    "\n",
    "    for i, color in tmp_sim.items():\n",
    "\n",
    "        if len(color_time_series) > 0:\n",
    "\n",
    "            if color == \"black\" and color_time_series[-1] >= 3:\n",
    "\n",
    "                bankroll = bankroll_time_series[-1] + bet_size_time_series[-1]\n",
    "                bankroll_time_series.append(bankroll)\n",
    "                pnl_time_series.append(bet)\n",
    "                bet_size_time_series.append(bet)\n",
    "\n",
    "            elif color_time_series[-1] >= 3 and color != \"black\":\n",
    "\n",
    "                bankroll = bankroll_time_series[-1] - bet_size_time_series[-1]\n",
    "                bankroll_time_series.append(bankroll)\n",
    "                pnl_time_series.append(-bet_size_time_series[-1])\n",
    "                bet_size_time_series.append(bet_size_time_series[-1] * 2)\n",
    "            else:\n",
    "                bankroll_time_series.append(bankroll_time_series[-1])\n",
    "        \n",
    "        if color == \"red\":\n",
    "            counter += 1\n",
    "        else: \n",
    "            counter = 0\n",
    "\n",
    "        # Stop loss\n",
    "        if bankroll_time_series[-1] <= 0:\n",
    "            break \n",
    "\n",
    "        color_time_series.append(counter)\n",
    "\n",
    "    color_time_series = pd.Series(color_time_series)\n",
    "    bankroll_time_series = pd.Series(bankroll_time_series)\n",
    "    pnl_time_series = pd.Series(pnl_time_series)\n",
    "\n",
    "    bankroll_time_series.plot()\n",
    "    \n",
    "    final_pnl.append(bankroll_time_series.iloc[-1])\n",
    "\n",
    "plt.show()"
   ]
  },
  {
   "cell_type": "code",
   "execution_count": 8,
   "metadata": {},
   "outputs": [
    {
     "name": "stdout",
     "output_type": "stream",
     "text": [
      "1004.9999999999994\n"
     ]
    },
    {
     "data": {
      "text/plain": [
       "0.004"
      ]
     },
     "execution_count": 8,
     "metadata": {},
     "output_type": "execute_result"
    }
   ],
   "source": [
    "final_pnl = pd.Series(final_pnl)\n",
    "print(final_pnl.median())\n",
    "final_pnl[final_pnl < 0].count() / final_pnl.count()"
   ]
  },
  {
   "cell_type": "code",
   "execution_count": 9,
   "metadata": {},
   "outputs": [
    {
     "data": {
      "text/plain": [
       "<AxesSubplot:>"
      ]
     },
     "execution_count": 9,
     "metadata": {},
     "output_type": "execute_result"
    },
    {
     "data": {
      "image/png": "[encoded data removed]",
      "text/plain": [
       "<Figure size 432x288 with 1 Axes>"
      ]
     },
     "metadata": {
      "needs_background": "light"
     },
     "output_type": "display_data"
    }
   ],
   "source": [
    "bankroll_time_series.plot()"
   ]
  },
  {
   "cell_type": "code",
   "execution_count": 46,
   "metadata": {},
   "outputs": [
    {
     "name": "stdout",
     "output_type": "stream",
     "text": [
      "Object `bankroll_time_series.head(100).ewm(span=10, com=20, halflife=5)` not found.\n"
     ]
    }
   ],
   "source": [
    "bankroll_time_series.head(100).ewm(span=10, com=20, halflife=5)"
   ]
  },
  {
   "cell_type": "code",
   "execution_count": 23,
   "metadata": {},
   "outputs": [
    {
     "data": {
      "text/plain": [
       "<AxesSubplot:>"
      ]
     },
     "execution_count": 23,
     "metadata": {},
     "output_type": "execute_result"
    },
    {
     "data": {
      "image/png": "[encoded data removed]",
      "text/plain": [
       "<Figure size 432x288 with 1 Axes>"
      ]
     },
     "metadata": {
      "needs_background": "light"
     },
     "output_type": "display_data"
    }
   ],
   "source": [
    "bankroll_time_series.head(1000).plot()\n",
    "dp.ewma(bankroll_time_series.head(1000), span=50).plot()"
   ]
  },
  {
   "cell_type": "code",
   "execution_count": 22,
   "metadata": {},
   "outputs": [
    {
     "data": {
      "text/plain": [
       "<AxesSubplot:>"
      ]
     },
     "execution_count": 22,
     "metadata": {},
     "output_type": "execute_result"
    },
    {
     "data": {
      "image/png": "[encoded data removed]",
      "text/plain": [
       "<Figure size 432x288 with 1 Axes>"
      ]
     },
     "metadata": {
      "needs_background": "light"
     },
     "output_type": "display_data"
    }
   ],
   "source": [
    "dp.ewma(bankroll_time_series.head(1000), span=50).plot()"
   ]
  },
  {
   "cell_type": "code",
   "execution_count": 24,
   "metadata": {},
   "outputs": [
    {
     "data": {
      "text/plain": [
       "<AxesSubplot:>"
      ]
     },
     "execution_count": 24,
     "metadata": {},
     "output_type": "execute_result"
    },
    {
     "data": {
      "image/png": "[encoded data removed]",
      "text/plain": [
       "<Figure size 432x288 with 1 Axes>"
      ]
     },
     "metadata": {
      "needs_background": "light"
     },
     "output_type": "display_data"
    }
   ],
   "source": [
    "import quant_tools.time_series_analysis as tsa\n",
    "\n",
    "tsa.ewma(bankroll_time_series.head(1000), span=50).plot()"
   ]
  },
  {
   "cell_type": "code",
   "execution_count": 46,
   "metadata": {},
   "outputs": [],
   "source": [
    "# -------------------------------- Volatility Models --------------------------------\n",
    "def ewma_vol(returns: pd.DataFrame, lookback: int = 60) -> pd.DataFrame:\n",
    "    \"\"\"\n",
    "    Compute the covariance matrix of returns based on the given methodology.\n",
    "    \n",
    "    Args:\n",
    "        returns (pd.DataFrame): historical returns.\n",
    "        lookback (int, optional): exponentially-weighted daily returns with a \"lookback_vol\" day center-of-mass.\n",
    "        \n",
    "    Returns:\n",
    "        pd.DataFrame: ewma volatility estimates.\n",
    "    \"\"\"\n",
    "        \n",
    "    # Calculate volatility estimates\n",
    "    vols = returns.ewm(span=lookback).std().iloc[-1]\n",
    "    \n",
    "        \n",
    "    return vols\n",
    "\n",
    "def ewma_vol_2(returns: pd.DataFrame, lookback: int = 60) -> pd.DataFrame:\n",
    "    \"\"\"\n",
    "    Compute the covariance matrix of returns based on the given methodology.\n",
    "    \n",
    "    Args:\n",
    "        returns (pd.DataFrame): historical returns.\n",
    "        lookback (int, optional): exponentially-weighted daily returns with a \"lookback_vol\" day center-of-mass.\n",
    "        \n",
    "    Returns:\n",
    "        pd.DataFrame: ewma volatility estimates.\n",
    "    \"\"\"\n",
    "        \n",
    "    # Calculate squared returns\n",
    "    squared_returns = np.square(returns)\n",
    "    \n",
    "    # Apply EWMA calculation to squared returns\n",
    "    ewma_squared_returns = squared_returns.ewm(span=lookback).mean()\n",
    "\n",
    "    # Sum the above product to get the EWMA variance\n",
    "    ewma_variance =  np.sum(ewma_squared_returns)\n",
    "    \n",
    "    # Compute volatility as the square root of the EWMA values\n",
    "    vols = np.sqrt(ewma_variance)\n",
    "        \n",
    "    return vols    "
   ]
  },
  {
   "cell_type": "code",
   "execution_count": 37,
   "metadata": {},
   "outputs": [
    {
     "data": {
      "text/plain": [
       "ExponentialMovingWindow [span=10,min_periods=1,adjust=True,ignore_na=False,axis=0]"
      ]
     },
     "execution_count": 37,
     "metadata": {},
     "output_type": "execute_result"
    }
   ],
   "source": [
    "bankroll_time_series.ewm(span=10)"
   ]
  },
  {
   "cell_type": "code",
   "execution_count": 38,
   "metadata": {},
   "outputs": [
    {
     "data": {
      "text/plain": [
       "0.6909570396439312"
      ]
     },
     "execution_count": 38,
     "metadata": {},
     "output_type": "execute_result"
    }
   ],
   "source": [
    "ewma_vol(bankroll_time_series.head(1000))"
   ]
  },
  {
   "cell_type": "code",
   "execution_count": 47,
   "metadata": {},
   "outputs": [
    {
     "data": {
      "text/plain": [
       "31693.924808783504"
      ]
     },
     "execution_count": 47,
     "metadata": {},
     "output_type": "execute_result"
    }
   ],
   "source": [
    "ewma_vol_2(bankroll_time_series.head(1000))"
   ]
  },
  {
   "cell_type": "code",
   "execution_count": null,
   "metadata": {},
   "outputs": [],
   "source": []
  }
 ],
 "metadata": {
  "kernelspec": {
   "display_name": "Python 3",
   "language": "python",
   "name": "python3"
  },
  "language_info": {
   "codemirror_mode": {
    "name": "ipython",
    "version": 3
   },
   "file_extension": ".py",
   "mimetype": "text/x-python",
   "name": "python",
   "nbconvert_exporter": "python",
   "pygments_lexer": "ipython3",
   "version": "3.7.9"
  },
  "orig_nbformat": 4
 },
 "nbformat": 4,
 "nbformat_minor": 2
}

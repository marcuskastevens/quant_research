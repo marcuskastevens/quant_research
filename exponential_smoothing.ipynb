{
 "cells": [
  {
   "cell_type": "code",
   "execution_count": 2,
   "metadata": {},
   "outputs": [],
   "source": [
    "import pandas as pd\n",
    "import matplotlib.pyplot as plt"
   ]
  },
  {
   "attachments": {},
   "cell_type": "markdown",
   "metadata": {},
   "source": [
    "# Plot EMAs of Macro Probabilities"
   ]
  },
  {
   "cell_type": "code",
   "execution_count": 4,
   "metadata": {},
   "outputs": [],
   "source": [
    "path = r'C:\\Users\\marcu\\Documents\\Profession\\Windermere Capital\\Macro Model\\Macro Quadrant Probability Model\\Data\\Macro42 Model Outputs.csv'\n",
    "\n",
    "macro_probs = pd.read_csv(path).set_index('Date')\n",
    "macro_probs.index = pd.DatetimeIndex(macro_probs.index)\n",
    "\n",
    "decays = [.5, 1, 10, 20, 40]\n",
    "\n",
    "for decay in decays:\n",
    "    # Exponentially weighted moving average\n",
    "    tmp_ewm = macro_probs.ewm(span=decay).mean().tail(100)\n",
    "\n",
    "    plt.plot(tmp_ewm)\n",
    "    plt.title(f'EMA {decay}')\n",
    "    plt.show()"
   ]
  },
  {
   "cell_type": "code",
   "execution_count": 4,
   "metadata": {},
   "outputs": [],
   "source": [
    "# EMA of 10 seems to be informative\n",
    "macro_probs = macro_probs.ewm(com=10).mean()\n",
    "\n",
    "# Dump exponentially smoothed probabilities in csv file\n",
    "macro_probs.to_csv(r'C:\\Users\\marcu\\Documents\\Profession\\Windermere Capital\\Macro Model\\Macro Quadrant Probability Model\\Data\\exp_smoothed_quadrant_probs.csv')"
   ]
  },
  {
   "cell_type": "code",
   "execution_count": null,
   "metadata": {},
   "outputs": [],
   "source": []
  }
 ],
 "metadata": {
  "kernelspec": {
   "display_name": "Python 3",
   "language": "python",
   "name": "python3"
  },
  "language_info": {
   "codemirror_mode": {
    "name": "ipython",
    "version": 3
   },
   "file_extension": ".py",
   "mimetype": "text/x-python",
   "name": "python",
   "nbconvert_exporter": "python",
   "pygments_lexer": "ipython3",
   "version": "3.7.9"
  },
  "orig_nbformat": 4,
  "vscode": {
   "interpreter": {
    "hash": "77dd742b113c4241fb4f708542db02ed4da28a8bf812b8fffe8c7b9768f0c9c1"
   }
  }
 },
 "nbformat": 4,
 "nbformat_minor": 2
}

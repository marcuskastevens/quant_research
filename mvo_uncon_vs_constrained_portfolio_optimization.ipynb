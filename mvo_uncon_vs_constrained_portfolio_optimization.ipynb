{
 "cells": [
  {
   "cell_type": "code",
   "execution_count": 1,
   "metadata": {},
   "outputs": [],
   "source": [
    "import backtest_tools.portfolio_tools as backtest\n",
    "import pandas as pd\n",
    "import numpy as np"
   ]
  },
  {
   "cell_type": "code",
   "execution_count": 2,
   "metadata": {},
   "outputs": [],
   "source": [
    "import pickle"
   ]
  },
  {
   "cell_type": "code",
   "execution_count": 3,
   "metadata": {},
   "outputs": [],
   "source": [
    "tickers = ['FTAI', 'AMT', 'NEE', 'TDOC', 'INTC', 'FISV', 'DAL', 'ISRG', 'GOOS', 'TXN', 'TSM', 'MHK', 'ACLS', 'EPD', 'PLYM', 'ED']\n",
    "\n",
    "path = r'C:\\Users\\marcu\\Documents\\Quant\\Programming\\Data\\russell_300_returns.pickle'\n",
    "\n",
    "with open(path, 'rb') as reader:\n",
    "    returns = pickle.load(reader)\n",
    "\n",
    "tickers = returns.columns.intersection(tickers)\n",
    "returns = returns[tickers]"
   ]
  },
  {
   "attachments": {},
   "cell_type": "markdown",
   "metadata": {},
   "source": [
    "Use Quadratic Optimization MVO"
   ]
  },
  {
   "cell_type": "code",
   "execution_count": 7,
   "metadata": {},
   "outputs": [
    {
     "name": "stdout",
     "output_type": "stream",
     "text": [
      "Target Vol: \n",
      "0.031832289220063016\n",
      "Long-Short Ratio: 2.5190135351087233\n",
      "Leverage: 4.869711218677278\n",
      "Sum of Vol Weights: 2.1021\n",
      "Target Portfolio Sharpe Ratio: 1.0791949182771148\n"
     ]
    },
    {
     "data": {
      "text/plain": [
       "TXN     1.028517\n",
       "NEE     0.595219\n",
       "INTC   -1.020135\n",
       "AMT     0.116278\n",
       "ISRG    0.132857\n",
       "FISV    0.409401\n",
       "ED      0.466677\n",
       "DAL     0.212741\n",
       "MHK    -0.363694\n",
       "TDOC    0.189084\n",
       "ACLS    0.184416\n",
       "PLYM    0.150694\n",
       "dtype: float64"
      ]
     },
     "execution_count": 7,
     "metadata": {},
     "output_type": "execute_result"
    }
   ],
   "source": [
    "expected_returns = returns.mean()\n",
    "hist_returns = returns\n",
    "\n",
    "mvo_weights = backtest.mvo(hist_returns=hist_returns, expected_returns=expected_returns, constrained=False, vol_target_boolean=False)\n",
    "mvo_weights\n",
    "# mvo_weights = backtest.mvo(hist_returns=hist_returns, expected_returns=expected_returns, constrained=False)"
   ]
  },
  {
   "cell_type": "code",
   "execution_count": 8,
   "metadata": {},
   "outputs": [
    {
     "name": "stdout",
     "output_type": "stream",
     "text": [
      "Sharpe Ratio                   1.058707\n",
      "Drift Adjusted Sharpe Ratio    0.072739\n",
      "CAGR                           0.476454\n",
      "Vol                            0.474840\n",
      "Sortino Ratio                  1.495613\n",
      "Martin (Ulcer) Ratio           0.001898\n",
      "Omega Ratio                    1.178382\n",
      "RR Ratio                       1.208826\n",
      "Win Rate                       0.537027\n",
      "Skew                           0.063970\n",
      "Kurtosis                       9.098289\n",
      "Max Drawdown                  -0.592821\n",
      "VaR - Laplace                 -0.114348\n",
      "CVaR - Laplace                -0.144404\n",
      "dtype: float64\n"
     ]
    },
    {
     "data": {
      "text/plain": [
       "0.47483968653762915"
      ]
     },
     "execution_count": 8,
     "metadata": {},
     "output_type": "execute_result"
    },
    {
     "data": {
      "image/png": "[encoded data removed]",
      "text/plain": [
       "<Figure size 432x288 with 1 Axes>"
      ]
     },
     "metadata": {
      "needs_background": "light"
     },
     "output_type": "display_data"
    }
   ],
   "source": [
    "mvo_rets = (mvo_weights * hist_returns).sum(1) #  hist_returns.dot(mvo_weights) \n",
    "backtest.cumulative_returns(mvo_rets).plot()\n",
    "print(backtest.performance_summary(mvo_rets))\n",
    "mvo_rets.std()*252**.5"
   ]
  },
  {
   "attachments": {},
   "cell_type": "markdown",
   "metadata": {},
   "source": [
    "Use Uncon MVO"
   ]
  },
  {
   "cell_type": "code",
   "execution_count": 6,
   "metadata": {},
   "outputs": [
    {
     "name": "stdout",
     "output_type": "stream",
     "text": [
      "Target Vol: \n",
      "0.015139171159116354\n",
      "Long-Short Ratio: 2.520505528333661\n",
      "Leverage: 2.3153520080862995\n",
      "Sum of Vol Weights: 1.0\n",
      "Target Portfolio Sharpe Ratio: 55.16701027704348\n",
      "Sharpe Ratio                   1.058696\n",
      "Drift Adjusted Sharpe Ratio    0.193974\n",
      "CAGR                           0.238009\n",
      "Vol                            0.225812\n",
      "Sortino Ratio                  1.495622\n",
      "Martin (Ulcer) Ratio           0.001981\n",
      "Omega Ratio                    1.145683\n",
      "RR Ratio                       1.208831\n",
      "Win Rate                       0.536753\n",
      "Skew                           0.064310\n",
      "Kurtosis                       9.099646\n",
      "Max Drawdown                  -0.327863\n",
      "VaR - Laplace                 -0.053445\n",
      "CVaR - Laplace                -0.068909\n",
      "dtype: float64\n"
     ]
    },
    {
     "data": {
      "text/plain": [
       "(0.22581169233301596,\n",
       " TXN     0.488624\n",
       " NEE     0.282749\n",
       " INTC   -0.485033\n",
       " AMT     0.055486\n",
       " ISRG    0.062930\n",
       " FISV    0.194383\n",
       " ED      0.222686\n",
       " DAL     0.101229\n",
       " MHK    -0.172643\n",
       " TDOC    0.090048\n",
       " ACLS    0.087823\n",
       " PLYM    0.071718\n",
       " dtype: float64)"
      ]
     },
     "execution_count": 6,
     "metadata": {},
     "output_type": "execute_result"
    },
    {
     "data": {
      "image/png": "[encoded data removed]",
      "text/plain": [
       "<Figure size 432x288 with 1 Axes>"
      ]
     },
     "metadata": {
      "needs_background": "light"
     },
     "output_type": "display_data"
    }
   ],
   "source": [
    "mvo_weights = backtest.unconstrained_mvo(hist_returns, hist_returns.mean()/hist_returns.std())\n",
    "\n",
    "mvo_rets = (mvo_weights * hist_returns).sum(1) #  hist_returns.dot(mvo_weights) \n",
    "backtest.cumulative_returns(mvo_rets).plot()\n",
    "print(backtest.performance_summary(mvo_rets))\n",
    "mvo_rets.std()*252**.5, mvo_weights"
   ]
  }
 ],
 "metadata": {
  "kernelspec": {
   "display_name": "Python 3",
   "language": "python",
   "name": "python3"
  },
  "language_info": {
   "codemirror_mode": {
    "name": "ipython",
    "version": 3
   },
   "file_extension": ".py",
   "mimetype": "text/x-python",
   "name": "python",
   "nbconvert_exporter": "python",
   "pygments_lexer": "ipython3",
   "version": "3.7.9 (tags/v3.7.9:13c94747c7, Aug 17 2020, 16:30:00) [MSC v.1900 64 bit (AMD64)]"
  },
  "orig_nbformat": 4,
  "vscode": {
   "interpreter": {
    "hash": "77dd742b113c4241fb4f708542db02ed4da28a8bf812b8fffe8c7b9768f0c9c1"
   }
  }
 },
 "nbformat": 4,
 "nbformat_minor": 2
}

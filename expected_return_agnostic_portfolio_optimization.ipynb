{
 "cells": [
  {
   "cell_type": "code",
   "execution_count": 1,
   "metadata": {},
   "outputs": [],
   "source": [
    "from typing import Optional\n",
    "\n",
    "import numpy as np\n",
    "import pandas as pd"
   ]
  },
  {
   "cell_type": "code",
   "execution_count": 3,
   "metadata": {},
   "outputs": [],
   "source": [
    "def simulate_covariance_matrix(n: int, shrinkage: Optional[float] = None) -> np.ndarray:\n",
    "    \"\"\"\n",
    "    Generates a random positive semi-definite covariance matrix of size n x n.\n",
    "    \n",
    "    If the optional `shrinkage` parameter is provided, the function applies a shrinkage \n",
    "    transformation to regularize the matrix. Shrinkage blends the covariance matrix \n",
    "    with a scaled identity matrix, which can help ensure positive semi-definiteness \n",
    "    and improve numerical stability in certain applications.\n",
    "\n",
    "    Args:\n",
    "        n (int): The size of the covariance matrix to generate.\n",
    "        shrinkage (Optional[float]): A value between 0 and 1 controlling the degree of shrinkage applied to the covariance matrix.\n",
    "            - If `shrinkage` is 0, no shrinkage is applied.\n",
    "            - If `shrinkage` is 1, the covariance matrix is replaced by a diagonal matrix scaled by its variances.\n",
    "            - If `shrinkage` is None, no shrinkage is applied unless the matrix is not positive semi-definite.\n",
    "\n",
    "    Returns:\n",
    "        np.ndarray: An n x n positive semi-definite covariance matrix.\n",
    "    \n",
    "    Raises:\n",
    "        AssertionError: If `shrinkage` is provided and is not in the range [0, 1].\n",
    "    \"\"\"\n",
    "\n",
    "    # Generate a random matrix\n",
    "    A = np.random.randn(n, n)\n",
    "    \n",
    "    # Construct a positive semi-definite matrix - A' * A ensures positive semi-definiteness\n",
    "    covariance_matrix = np.dot(np.transpose(A), A)\n",
    "\n",
    "    # Regularize/shrink if the matrix is not positive semi-definite\n",
    "    if shrinkage is not None or not all(np.linalg.eigvals(covariance_matrix) >= 0):\n",
    "\n",
    "        assert 0 <= shrinkage <= 1\n",
    "\n",
    "        # Lambda * Cov + (1 - Lambda) * I * Diagonal(Cov)\n",
    "        covariance_matrix = (1  - shrinkage) * covariance_matrix + shrinkage * np.multiply(np.diag(covariance_matrix), np.identity(n=n))\n",
    "    \n",
    "    # Normalize diagonal entries / adjust variances\n",
    "    for i in range(n):\n",
    "\n",
    "         # Ensure non-zero diagonal\n",
    "        covariance_matrix[i, i] = max(covariance_matrix[i, i], 1e-8) \n",
    "    \n",
    "    return covariance_matrix"
   ]
  },
  {
   "cell_type": "markdown",
   "metadata": {},
   "source": [
    "Assume equal expected returns and a randomly generated covariance matrix"
   ]
  },
  {
   "cell_type": "code",
   "execution_count": 4,
   "metadata": {},
   "outputs": [
    {
     "data": {
      "text/html": [
       "<div>\n",
       "<style scoped>\n",
       "    .dataframe tbody tr th:only-of-type {\n",
       "        vertical-align: middle;\n",
       "    }\n",
       "\n",
       "    .dataframe tbody tr th {\n",
       "        vertical-align: top;\n",
       "    }\n",
       "\n",
       "    .dataframe thead th {\n",
       "        text-align: right;\n",
       "    }\n",
       "</style>\n",
       "<table border=\"1\" class=\"dataframe\">\n",
       "  <thead>\n",
       "    <tr style=\"text-align: right;\">\n",
       "      <th></th>\n",
       "      <th>0</th>\n",
       "      <th>1</th>\n",
       "      <th>2</th>\n",
       "      <th>3</th>\n",
       "      <th>4</th>\n",
       "      <th>5</th>\n",
       "      <th>6</th>\n",
       "      <th>7</th>\n",
       "      <th>8</th>\n",
       "      <th>9</th>\n",
       "    </tr>\n",
       "  </thead>\n",
       "  <tbody>\n",
       "    <tr>\n",
       "      <th>0</th>\n",
       "      <td>0.381507</td>\n",
       "      <td>0.052902</td>\n",
       "      <td>-0.460421</td>\n",
       "      <td>0.091174</td>\n",
       "      <td>0.044215</td>\n",
       "      <td>0.163740</td>\n",
       "      <td>0.053846</td>\n",
       "      <td>-0.065963</td>\n",
       "      <td>-0.195052</td>\n",
       "      <td>0.077731</td>\n",
       "    </tr>\n",
       "    <tr>\n",
       "      <th>1</th>\n",
       "      <td>0.052902</td>\n",
       "      <td>0.616898</td>\n",
       "      <td>-0.307003</td>\n",
       "      <td>-0.050129</td>\n",
       "      <td>0.050504</td>\n",
       "      <td>0.132555</td>\n",
       "      <td>0.061073</td>\n",
       "      <td>-0.120444</td>\n",
       "      <td>-0.101492</td>\n",
       "      <td>0.086012</td>\n",
       "    </tr>\n",
       "    <tr>\n",
       "      <th>2</th>\n",
       "      <td>-0.460421</td>\n",
       "      <td>-0.307003</td>\n",
       "      <td>1.000000</td>\n",
       "      <td>-0.052908</td>\n",
       "      <td>-0.170276</td>\n",
       "      <td>0.029537</td>\n",
       "      <td>-0.071896</td>\n",
       "      <td>-0.086830</td>\n",
       "      <td>0.460702</td>\n",
       "      <td>-0.020340</td>\n",
       "    </tr>\n",
       "    <tr>\n",
       "      <th>3</th>\n",
       "      <td>0.091174</td>\n",
       "      <td>-0.050129</td>\n",
       "      <td>-0.052908</td>\n",
       "      <td>0.868746</td>\n",
       "      <td>-0.077121</td>\n",
       "      <td>-0.162184</td>\n",
       "      <td>-0.036259</td>\n",
       "      <td>0.192100</td>\n",
       "      <td>-0.192100</td>\n",
       "      <td>-0.269480</td>\n",
       "    </tr>\n",
       "    <tr>\n",
       "      <th>4</th>\n",
       "      <td>0.044215</td>\n",
       "      <td>0.050504</td>\n",
       "      <td>-0.170276</td>\n",
       "      <td>-0.077121</td>\n",
       "      <td>0.343049</td>\n",
       "      <td>-0.178416</td>\n",
       "      <td>0.089621</td>\n",
       "      <td>-0.028291</td>\n",
       "      <td>0.038680</td>\n",
       "      <td>0.107894</td>\n",
       "    </tr>\n",
       "    <tr>\n",
       "      <th>5</th>\n",
       "      <td>0.163740</td>\n",
       "      <td>0.132555</td>\n",
       "      <td>0.029537</td>\n",
       "      <td>-0.162184</td>\n",
       "      <td>-0.178416</td>\n",
       "      <td>0.634229</td>\n",
       "      <td>-0.049367</td>\n",
       "      <td>-0.067953</td>\n",
       "      <td>0.042419</td>\n",
       "      <td>0.269888</td>\n",
       "    </tr>\n",
       "    <tr>\n",
       "      <th>6</th>\n",
       "      <td>0.053846</td>\n",
       "      <td>0.061073</td>\n",
       "      <td>-0.071896</td>\n",
       "      <td>-0.036259</td>\n",
       "      <td>0.089621</td>\n",
       "      <td>-0.049367</td>\n",
       "      <td>0.852067</td>\n",
       "      <td>-0.037043</td>\n",
       "      <td>0.412994</td>\n",
       "      <td>0.080052</td>\n",
       "    </tr>\n",
       "    <tr>\n",
       "      <th>7</th>\n",
       "      <td>-0.065963</td>\n",
       "      <td>-0.120444</td>\n",
       "      <td>-0.086830</td>\n",
       "      <td>0.192100</td>\n",
       "      <td>-0.028291</td>\n",
       "      <td>-0.067953</td>\n",
       "      <td>-0.037043</td>\n",
       "      <td>0.856126</td>\n",
       "      <td>0.083892</td>\n",
       "      <td>-0.156332</td>\n",
       "    </tr>\n",
       "    <tr>\n",
       "      <th>8</th>\n",
       "      <td>-0.195052</td>\n",
       "      <td>-0.101492</td>\n",
       "      <td>0.460702</td>\n",
       "      <td>-0.192100</td>\n",
       "      <td>0.038680</td>\n",
       "      <td>0.042419</td>\n",
       "      <td>0.412994</td>\n",
       "      <td>0.083892</td>\n",
       "      <td>0.677093</td>\n",
       "      <td>0.135250</td>\n",
       "    </tr>\n",
       "    <tr>\n",
       "      <th>9</th>\n",
       "      <td>0.077731</td>\n",
       "      <td>0.086012</td>\n",
       "      <td>-0.020340</td>\n",
       "      <td>-0.269480</td>\n",
       "      <td>0.107894</td>\n",
       "      <td>0.269888</td>\n",
       "      <td>0.080052</td>\n",
       "      <td>-0.156332</td>\n",
       "      <td>0.135250</td>\n",
       "      <td>0.281433</td>\n",
       "    </tr>\n",
       "  </tbody>\n",
       "</table>\n",
       "</div>"
      ],
      "text/plain": [
       "          0         1         2         3         4         5         6  \\\n",
       "0  0.381507  0.052902 -0.460421  0.091174  0.044215  0.163740  0.053846   \n",
       "1  0.052902  0.616898 -0.307003 -0.050129  0.050504  0.132555  0.061073   \n",
       "2 -0.460421 -0.307003  1.000000 -0.052908 -0.170276  0.029537 -0.071896   \n",
       "3  0.091174 -0.050129 -0.052908  0.868746 -0.077121 -0.162184 -0.036259   \n",
       "4  0.044215  0.050504 -0.170276 -0.077121  0.343049 -0.178416  0.089621   \n",
       "5  0.163740  0.132555  0.029537 -0.162184 -0.178416  0.634229 -0.049367   \n",
       "6  0.053846  0.061073 -0.071896 -0.036259  0.089621 -0.049367  0.852067   \n",
       "7 -0.065963 -0.120444 -0.086830  0.192100 -0.028291 -0.067953 -0.037043   \n",
       "8 -0.195052 -0.101492  0.460702 -0.192100  0.038680  0.042419  0.412994   \n",
       "9  0.077731  0.086012 -0.020340 -0.269480  0.107894  0.269888  0.080052   \n",
       "\n",
       "          7         8         9  \n",
       "0 -0.065963 -0.195052  0.077731  \n",
       "1 -0.120444 -0.101492  0.086012  \n",
       "2 -0.086830  0.460702 -0.020340  \n",
       "3  0.192100 -0.192100 -0.269480  \n",
       "4 -0.028291  0.038680  0.107894  \n",
       "5 -0.067953  0.042419  0.269888  \n",
       "6 -0.037043  0.412994  0.080052  \n",
       "7  0.856126  0.083892 -0.156332  \n",
       "8  0.083892  0.677093  0.135250  \n",
       "9 -0.156332  0.135250  0.281433  "
      ]
     },
     "execution_count": 4,
     "metadata": {},
     "output_type": "execute_result"
    }
   ],
   "source": [
    "n: int = 10\n",
    "shrinkage: float = 0.00\n",
    "weight: np.ndarray = np.array([1 / n] * n)\n",
    "expected_return: np.ndarray = np.array([0.10] * n)\n",
    "\n",
    "covariance_matrix: np.ndarray = simulate_covariance_matrix(n=n, shrinkage=shrinkage)\n",
    "covariance_matrix /= np.max(np.diag(covariance_matrix))\n",
    "\n",
    "pd.DataFrame(covariance_matrix)"
   ]
  },
  {
   "cell_type": "code",
   "execution_count": 5,
   "metadata": {},
   "outputs": [
    {
     "data": {
      "text/plain": [
       "0.9999999999999999"
      ]
     },
     "execution_count": 5,
     "metadata": {},
     "output_type": "execute_result"
    }
   ],
   "source": [
    "w_optimal: np.ndarray = np.dot(np.linalg.inv(covariance_matrix), expected_return)\n",
    "w_optimal /= np.sum(w_optimal)\n",
    "np.sum(w_optimal)"
   ]
  },
  {
   "cell_type": "code",
   "execution_count": 6,
   "metadata": {},
   "outputs": [
    {
     "data": {
      "text/plain": [
       "array([ 0.61176594,  0.24430628,  0.47438002, -0.04228032, -0.50076447,\n",
       "       -0.70967591,  0.06675843,  0.26193796, -0.30043437,  0.89400645])"
      ]
     },
     "execution_count": 6,
     "metadata": {},
     "output_type": "execute_result"
    }
   ],
   "source": [
    "w_optimal"
   ]
  },
  {
   "cell_type": "markdown",
   "metadata": {},
   "source": [
    "If we scale the expected returns by any real number, this does not change our optimal weights"
   ]
  },
  {
   "cell_type": "code",
   "execution_count": 7,
   "metadata": {},
   "outputs": [
    {
     "data": {
      "text/plain": [
       "1.0"
      ]
     },
     "execution_count": 7,
     "metadata": {},
     "output_type": "execute_result"
    }
   ],
   "source": [
    "expected_return: np.ndarray = np.array([1.00] * n)\n",
    "w_optimal: np.ndarray = np.dot(np.linalg.inv(covariance_matrix), expected_return)\n",
    "w_optimal /= np.sum(w_optimal)\n",
    "np.sum(w_optimal)"
   ]
  },
  {
   "cell_type": "code",
   "execution_count": 8,
   "metadata": {},
   "outputs": [
    {
     "data": {
      "text/plain": [
       "array([ 0.61176594,  0.24430628,  0.47438002, -0.04228032, -0.50076447,\n",
       "       -0.70967591,  0.06675843,  0.26193796, -0.30043437,  0.89400645])"
      ]
     },
     "execution_count": 8,
     "metadata": {},
     "output_type": "execute_result"
    }
   ],
   "source": [
    "w_optimal"
   ]
  },
  {
   "cell_type": "markdown",
   "metadata": {},
   "source": [
    "In fact, if we assume they are all equal, we don't need to account for expected returns. Instead, our optimal weights simplify to inverse variance contributions."
   ]
  },
  {
   "cell_type": "code",
   "execution_count": 9,
   "metadata": {},
   "outputs": [
    {
     "data": {
      "text/plain": [
       "1.0"
      ]
     },
     "execution_count": 9,
     "metadata": {},
     "output_type": "execute_result"
    }
   ],
   "source": [
    "expected_return: np.ndarray = np.array([1.00] * n)\n",
    "w_optimal: np.ndarray = np.sum(np.linalg.inv(covariance_matrix), axis=1)\n",
    "w_optimal /= np.sum(w_optimal)\n",
    "np.sum(w_optimal)"
   ]
  },
  {
   "cell_type": "code",
   "execution_count": 10,
   "metadata": {},
   "outputs": [
    {
     "data": {
      "text/plain": [
       "array([ 0.61176594,  0.24430628,  0.47438002, -0.04228032, -0.50076447,\n",
       "       -0.70967591,  0.06675843,  0.26193796, -0.30043437,  0.89400645])"
      ]
     },
     "execution_count": 10,
     "metadata": {},
     "output_type": "execute_result"
    }
   ],
   "source": [
    "w_optimal"
   ]
  },
  {
   "cell_type": "markdown",
   "metadata": {},
   "source": [
    "Now that we have omitted expected returns from our optimization process, something interesting happens in terms of our asset-level risk contribution... each asset contributes equally to our overall risk! This is definitionally risk parity.  "
   ]
  },
  {
   "cell_type": "code",
   "execution_count": 11,
   "metadata": {},
   "outputs": [
    {
     "data": {
      "text/plain": [
       "array([0.00011298, 0.00011298, 0.00011298, 0.00011298, 0.00011298,\n",
       "       0.00011298, 0.00011298, 0.00011298, 0.00011298, 0.00011298])"
      ]
     },
     "execution_count": 11,
     "metadata": {},
     "output_type": "execute_result"
    }
   ],
   "source": [
    "variance_contribution = np.dot(covariance_matrix, w_optimal)\n",
    "variance_contribution"
   ]
  },
  {
   "cell_type": "markdown",
   "metadata": {},
   "source": [
    "Additionally, if we revisit the first order condition to mean-variance optimization, we see the following:\n",
    "\n",
    "max w' er - lambda w' Sigma w\n",
    "\n",
    "FOC: \n",
    "er - lambda Sigma w = 0\n",
    "w* = lambda Sigma^-1 er\n",
    "\n",
    "If we omit expected returns or assume equal expected returns for each asset, we simplify to the following optimization problem:\n",
    "\n",
    "max - lambda w' Sigma w\n",
    "min lambda w' Sigma w\n",
    "s.t. w' Ones = 1\n",
    "\n",
    "This is definitionally a minimum variance optimization... this leads us to a very handy equivilance relation... risk parity IS the solution to the minimum variance optimization:\n",
    "\n",
    "w* = Sigma^-1 Ones / Ones' Sigma^-1 Ones"
   ]
  },
  {
   "cell_type": "code",
   "execution_count": 12,
   "metadata": {},
   "outputs": [],
   "source": [
    "w_min_variance_optimal: np.ndarray = np.dot(np.linalg.inv(covariance_matrix), np.ones(n)) / np.dot(np.transpose(np.ones(n)), np.dot(np.linalg.inv(covariance_matrix), np.ones(n)))"
   ]
  },
  {
   "cell_type": "code",
   "execution_count": 13,
   "metadata": {},
   "outputs": [
    {
     "data": {
      "text/plain": [
       "array([ 0.61176594,  0.24430628,  0.47438002, -0.04228032, -0.50076447,\n",
       "       -0.70967591,  0.06675843,  0.26193796, -0.30043437,  0.89400645])"
      ]
     },
     "execution_count": 13,
     "metadata": {},
     "output_type": "execute_result"
    }
   ],
   "source": [
    "w_min_variance_optimal"
   ]
  },
  {
   "cell_type": "markdown",
   "metadata": {},
   "source": [
    "If we assume a diagonal covariance matrix (i.e., all portfolio constituents are orthogonal/uncorrelated to each other), we can abstract away from the matrix form of the optimization. This simplifies to a simple inverse variance optimization using only the vector of diagonals. "
   ]
  },
  {
   "cell_type": "code",
   "execution_count": 14,
   "metadata": {},
   "outputs": [
    {
     "data": {
      "text/html": [
       "<div>\n",
       "<style scoped>\n",
       "    .dataframe tbody tr th:only-of-type {\n",
       "        vertical-align: middle;\n",
       "    }\n",
       "\n",
       "    .dataframe tbody tr th {\n",
       "        vertical-align: top;\n",
       "    }\n",
       "\n",
       "    .dataframe thead th {\n",
       "        text-align: right;\n",
       "    }\n",
       "</style>\n",
       "<table border=\"1\" class=\"dataframe\">\n",
       "  <thead>\n",
       "    <tr style=\"text-align: right;\">\n",
       "      <th></th>\n",
       "      <th>0</th>\n",
       "      <th>1</th>\n",
       "      <th>2</th>\n",
       "      <th>3</th>\n",
       "      <th>4</th>\n",
       "      <th>5</th>\n",
       "      <th>6</th>\n",
       "      <th>7</th>\n",
       "      <th>8</th>\n",
       "      <th>9</th>\n",
       "    </tr>\n",
       "  </thead>\n",
       "  <tbody>\n",
       "    <tr>\n",
       "      <th>0</th>\n",
       "      <td>0.741957</td>\n",
       "      <td>0.000000</td>\n",
       "      <td>0.000000</td>\n",
       "      <td>0.000000</td>\n",
       "      <td>0.000000</td>\n",
       "      <td>0.0</td>\n",
       "      <td>0.00000</td>\n",
       "      <td>0.000000</td>\n",
       "      <td>0.00000</td>\n",
       "      <td>0.000000</td>\n",
       "    </tr>\n",
       "    <tr>\n",
       "      <th>1</th>\n",
       "      <td>0.000000</td>\n",
       "      <td>0.803357</td>\n",
       "      <td>0.000000</td>\n",
       "      <td>0.000000</td>\n",
       "      <td>0.000000</td>\n",
       "      <td>0.0</td>\n",
       "      <td>0.00000</td>\n",
       "      <td>0.000000</td>\n",
       "      <td>0.00000</td>\n",
       "      <td>0.000000</td>\n",
       "    </tr>\n",
       "    <tr>\n",
       "      <th>2</th>\n",
       "      <td>0.000000</td>\n",
       "      <td>0.000000</td>\n",
       "      <td>0.452875</td>\n",
       "      <td>0.000000</td>\n",
       "      <td>0.000000</td>\n",
       "      <td>0.0</td>\n",
       "      <td>0.00000</td>\n",
       "      <td>0.000000</td>\n",
       "      <td>0.00000</td>\n",
       "      <td>0.000000</td>\n",
       "    </tr>\n",
       "    <tr>\n",
       "      <th>3</th>\n",
       "      <td>0.000000</td>\n",
       "      <td>0.000000</td>\n",
       "      <td>0.000000</td>\n",
       "      <td>0.695702</td>\n",
       "      <td>0.000000</td>\n",
       "      <td>0.0</td>\n",
       "      <td>0.00000</td>\n",
       "      <td>0.000000</td>\n",
       "      <td>0.00000</td>\n",
       "      <td>0.000000</td>\n",
       "    </tr>\n",
       "    <tr>\n",
       "      <th>4</th>\n",
       "      <td>0.000000</td>\n",
       "      <td>0.000000</td>\n",
       "      <td>0.000000</td>\n",
       "      <td>0.000000</td>\n",
       "      <td>0.772054</td>\n",
       "      <td>0.0</td>\n",
       "      <td>0.00000</td>\n",
       "      <td>0.000000</td>\n",
       "      <td>0.00000</td>\n",
       "      <td>0.000000</td>\n",
       "    </tr>\n",
       "    <tr>\n",
       "      <th>5</th>\n",
       "      <td>0.000000</td>\n",
       "      <td>0.000000</td>\n",
       "      <td>0.000000</td>\n",
       "      <td>0.000000</td>\n",
       "      <td>0.000000</td>\n",
       "      <td>1.0</td>\n",
       "      <td>0.00000</td>\n",
       "      <td>0.000000</td>\n",
       "      <td>0.00000</td>\n",
       "      <td>0.000000</td>\n",
       "    </tr>\n",
       "    <tr>\n",
       "      <th>6</th>\n",
       "      <td>0.000000</td>\n",
       "      <td>0.000000</td>\n",
       "      <td>0.000000</td>\n",
       "      <td>0.000000</td>\n",
       "      <td>0.000000</td>\n",
       "      <td>0.0</td>\n",
       "      <td>0.49715</td>\n",
       "      <td>0.000000</td>\n",
       "      <td>0.00000</td>\n",
       "      <td>0.000000</td>\n",
       "    </tr>\n",
       "    <tr>\n",
       "      <th>7</th>\n",
       "      <td>0.000000</td>\n",
       "      <td>0.000000</td>\n",
       "      <td>0.000000</td>\n",
       "      <td>0.000000</td>\n",
       "      <td>0.000000</td>\n",
       "      <td>0.0</td>\n",
       "      <td>0.00000</td>\n",
       "      <td>0.138298</td>\n",
       "      <td>0.00000</td>\n",
       "      <td>0.000000</td>\n",
       "    </tr>\n",
       "    <tr>\n",
       "      <th>8</th>\n",
       "      <td>0.000000</td>\n",
       "      <td>0.000000</td>\n",
       "      <td>0.000000</td>\n",
       "      <td>0.000000</td>\n",
       "      <td>0.000000</td>\n",
       "      <td>0.0</td>\n",
       "      <td>0.00000</td>\n",
       "      <td>0.000000</td>\n",
       "      <td>0.24511</td>\n",
       "      <td>0.000000</td>\n",
       "    </tr>\n",
       "    <tr>\n",
       "      <th>9</th>\n",
       "      <td>0.000000</td>\n",
       "      <td>0.000000</td>\n",
       "      <td>0.000000</td>\n",
       "      <td>0.000000</td>\n",
       "      <td>0.000000</td>\n",
       "      <td>0.0</td>\n",
       "      <td>0.00000</td>\n",
       "      <td>0.000000</td>\n",
       "      <td>0.00000</td>\n",
       "      <td>0.381112</td>\n",
       "    </tr>\n",
       "  </tbody>\n",
       "</table>\n",
       "</div>"
      ],
      "text/plain": [
       "          0         1         2         3         4    5        6         7  \\\n",
       "0  0.741957  0.000000  0.000000  0.000000  0.000000  0.0  0.00000  0.000000   \n",
       "1  0.000000  0.803357  0.000000  0.000000  0.000000  0.0  0.00000  0.000000   \n",
       "2  0.000000  0.000000  0.452875  0.000000  0.000000  0.0  0.00000  0.000000   \n",
       "3  0.000000  0.000000  0.000000  0.695702  0.000000  0.0  0.00000  0.000000   \n",
       "4  0.000000  0.000000  0.000000  0.000000  0.772054  0.0  0.00000  0.000000   \n",
       "5  0.000000  0.000000  0.000000  0.000000  0.000000  1.0  0.00000  0.000000   \n",
       "6  0.000000  0.000000  0.000000  0.000000  0.000000  0.0  0.49715  0.000000   \n",
       "7  0.000000  0.000000  0.000000  0.000000  0.000000  0.0  0.00000  0.138298   \n",
       "8  0.000000  0.000000  0.000000  0.000000  0.000000  0.0  0.00000  0.000000   \n",
       "9  0.000000  0.000000  0.000000  0.000000  0.000000  0.0  0.00000  0.000000   \n",
       "\n",
       "         8         9  \n",
       "0  0.00000  0.000000  \n",
       "1  0.00000  0.000000  \n",
       "2  0.00000  0.000000  \n",
       "3  0.00000  0.000000  \n",
       "4  0.00000  0.000000  \n",
       "5  0.00000  0.000000  \n",
       "6  0.00000  0.000000  \n",
       "7  0.00000  0.000000  \n",
       "8  0.24511  0.000000  \n",
       "9  0.00000  0.381112  "
      ]
     },
     "execution_count": 14,
     "metadata": {},
     "output_type": "execute_result"
    }
   ],
   "source": [
    "n: int = 10\n",
    "shrinkage: float = 1.00\n",
    "weight: np.ndarray = np.array([1 / n] * n)\n",
    "expected_return: np.ndarray = np.array([0.10] * n)\n",
    "\n",
    "covariance_matrix: np.ndarray = simulate_covariance_matrix(n=n, shrinkage=shrinkage)\n",
    "covariance_matrix /= np.max(np.diag(covariance_matrix))\n",
    "\n",
    "pd.DataFrame(covariance_matrix)"
   ]
  },
  {
   "cell_type": "code",
   "execution_count": 15,
   "metadata": {},
   "outputs": [
    {
     "data": {
      "text/plain": [
       "array([0.05505828, 0.05085024, 0.09020335, 0.05871891, 0.05291198,\n",
       "       0.04085088, 0.08217018, 0.29538386, 0.16666366, 0.10718863])"
      ]
     },
     "execution_count": 15,
     "metadata": {},
     "output_type": "execute_result"
    }
   ],
   "source": [
    "expected_return: np.ndarray = np.array([1.00] * n)\n",
    "w_optimal: np.ndarray = np.dot(np.linalg.inv(covariance_matrix), expected_return)\n",
    "w_optimal /= np.sum(w_optimal)\n",
    "w_optimal"
   ]
  },
  {
   "cell_type": "code",
   "execution_count": 16,
   "metadata": {},
   "outputs": [
    {
     "data": {
      "text/plain": [
       "array([0.05505828, 0.05085024, 0.09020335, 0.05871891, 0.05291198,\n",
       "       0.04085088, 0.08217018, 0.29538386, 0.16666366, 0.10718863])"
      ]
     },
     "execution_count": 16,
     "metadata": {},
     "output_type": "execute_result"
    }
   ],
   "source": [
    "w_optimal = (1 / np.diag(covariance_matrix)) / np.sum(1 / np.diag(covariance_matrix))\n",
    "w_optimal"
   ]
  },
  {
   "cell_type": "code",
   "execution_count": 17,
   "metadata": {},
   "outputs": [
    {
     "data": {
      "text/plain": [
       "array([0.05505828, 0.05085024, 0.09020335, 0.05871891, 0.05291198,\n",
       "       0.04085088, 0.08217018, 0.29538386, 0.16666366, 0.10718863])"
      ]
     },
     "execution_count": 17,
     "metadata": {},
     "output_type": "execute_result"
    }
   ],
   "source": [
    "np.linalg.inv(covariance_matrix).dot(np.ones(n)) /np.ones(n).T.dot(np.linalg.inv(covariance_matrix).dot(np.ones(n)))"
   ]
  },
  {
   "cell_type": "code",
   "execution_count": 18,
   "metadata": {},
   "outputs": [
    {
     "data": {
      "text/plain": [
       "array([0.05505828, 0.05085024, 0.09020335, 0.05871891, 0.05291198,\n",
       "       0.04085088, 0.08217018, 0.29538386, 0.16666366, 0.10718863])"
      ]
     },
     "execution_count": 18,
     "metadata": {},
     "output_type": "execute_result"
    }
   ],
   "source": [
    "np.sum(np.linalg.inv(covariance_matrix), axis=1) / np.sum(np.sum(np.linalg.inv(covariance_matrix), axis=1))"
   ]
  },
  {
   "cell_type": "markdown",
   "metadata": {},
   "source": [
    "This serves as a very powerful framwork to analyze seemingly simple, yet naunced problems. \n",
    "\n",
    "A prime example is the world of expected return agnostic portfolio management. For example, it is well known that the market-capitalization weighted benchmark is not very well risk-balanced and is highly concentrated in a few key risk and/or industry factors (e.g., size, growth, industry). A common alternative is the 1/N naive portolio that is completely agnostic to cross-sectional and individual asset risk properties. Neither of these is optimal from a diversification perspective, though. \n",
    "\n",
    "Assuming each stock equally contributes to the equity risk premium, we can omit asset-level returns from our portfolio optimization process. The PM can simply proceed as if the entire tradable universe has positive expectancy. This is desireable from a PM's perspective as expected returns are notoriously more difficult to predict than risk.  In this setting, it is adventageous to take advantage of the diversifying properties of non-perfectly correlated assets. One heuristic for this is equal industry exposure. Industries represent distinct sources of risk and return, and therefore, in expectation, provide diversifying properties to each other. Industry classifications are, however, only proxies, not definitions, of lowly correlated sources of risk. A more empirical, less fundamental, approach is equally weighted empirical correlation clusters. This serves as a more systematic, data-driven correlary to discretionary, and potentially imprecise, industry classiciations. A highly related, but slightly different, concept is principal component portfolios which directly orthogonalize latent sources of risk. Regardless of the approach, these serve as sufficient heuristics that, ex ante, provide more diversified exposures than both the market-capitalization and 1/N weighted portfolios. \n",
    "\n",
    "Despite the theoretical benefit of these heuristic approaches, they are strictly dominated by a process that explicitly seeks to maximize diversification. Risk parity, equal risk contribution, minimum variance, or inverse variance optimization procedures directly maximize the \"balance\" of risk across the key drivers of risk. These do not require potentially biased clustering algorithms or discretionary classification maps. This optimization procedure also explicitly controls for risk exposures, whereas the heuristic approaches only control for dollar exposures. This is not to say that you can't imagine a scenario where the heuristic clustering approach accounts for risk instead of dollar weight. In this scenario, the PM could assume his clusters are orthogonal and apply an inverse variance weighting scheme across his clusters. This is optimal if his constituents are clusters and the PM has no notion of each cluster's underlying constituents. However, this is not the case in reality, and the cluster-based approach potentially introduces less precision and suboptimal diversification. The PM is well aware of the full cross-section and can directly predict each stock's individual and cross-sectional risk properties with a tolerable degree of confidence and estimation error. Assuming the PM runs his book with an unbiased risk model, the asset-level (i.e., not cluster-level) risk parity approach is the most precise and theoretically optimal approach. \n",
    "\n",
    "Therefore, if the objective is to arrive at a risk-balanced portfolio that has meaningful exposure to the equity risk premium, the minimum variance / risk parity approach is optimal.  "
   ]
  },
  {
   "cell_type": "code",
   "execution_count": null,
   "metadata": {},
   "outputs": [],
   "source": []
  },
  {
   "cell_type": "markdown",
   "metadata": {},
   "source": [
    "Let's simulate this behavior... center each stock's expected return around the ERP... randomize each stock's variance... each stock is uncorrelated... compare 1/N vs. Risk Parity / Min Variance optimization approaches... \n",
    "\n",
    "This will indicate that in the presence of unknown magnitude, but known directional expectancy, a risk parity optimization approach will likely dominate a 1/N or risk-imbalanced (e.g., market capitalization weighted) naive implementation.   "
   ]
  },
  {
   "cell_type": "code",
   "execution_count": 19,
   "metadata": {},
   "outputs": [],
   "source": [
    "equity_risk_premium: float = 0.07\n",
    "expected_returns: np.ndarray = np.random.normal(loc=equity_risk_premium, scale=0.03, size=n)\n",
    "expected_variances: np.ndarray = np.random.randn(n) ** 2\n",
    "\n",
    "covariance_matrix: np.ndarray = np.multiply(expected_variances, np.identity(n))\n",
    "\n",
    "equal_weight: np.ndarray = np.array([1 / n] * n)\n",
    "minimum_variance_optimal_weight: np.ndarray = np.dot(np.linalg.inv(covariance_matrix), np.ones(n)) / np.dot(np.transpose(np.ones(n)), np.dot(np.linalg.inv(covariance_matrix), np.ones(n)))\n",
    "\n",
    "expected_sharpe_ratios: np.ndarray = expected_returns / np.sqrt(expected_variances)\n",
    "expected_equal_weight_sharpe_ratio: np.ndarray = np.dot(np.transpose(expected_returns), equal_weight) / np.sqrt(np.dot(np.dot(np.transpose(equal_weight), covariance_matrix), equal_weight))\n",
    "expected_minimum_variance_sharpe_ratio: np.ndarray = np.dot(np.transpose(expected_returns), minimum_variance_optimal_weight) / np.sqrt(np.dot(np.dot(np.transpose(minimum_variance_optimal_weight), covariance_matrix), minimum_variance_optimal_weight))"
   ]
  },
  {
   "cell_type": "code",
   "execution_count": 20,
   "metadata": {},
   "outputs": [
    {
     "data": {
      "text/plain": [
       "<Axes: title={'center': 'E[SR] of 1/N vs. Min Var / Risk Parity vs. Portfolio Constituents'}>"
      ]
     },
     "execution_count": 20,
     "metadata": {},
     "output_type": "execute_result"
    },
    {
     "data": {
      "image/png": "[encoded data removed]",
      "text/plain": [
       "<Figure size 640x480 with 1 Axes>"
      ]
     },
     "metadata": {},
     "output_type": "display_data"
    }
   ],
   "source": [
    "pd.concat(\n",
    "    [\n",
    "        pd.Series({f\"E[SR {i}]\": sr for i, sr in enumerate(expected_sharpe_ratios)}),\n",
    "        pd.Series({\"E[1/N SR]\": expected_equal_weight_sharpe_ratio}),\n",
    "        pd.Series({\"E[Min Var SR]\": expected_minimum_variance_sharpe_ratio}),\n",
    "    ]\n",
    ").plot(kind=\"bar\", title=\"E[SR] of 1/N vs. Min Var / Risk Parity vs. Portfolio Constituents\")"
   ]
  }
 ],
 "metadata": {
  "kernelspec": {
   "display_name": "real_estate",
   "language": "python",
   "name": "python3"
  },
  "language_info": {
   "codemirror_mode": {
    "name": "ipython",
    "version": 3
   },
   "file_extension": ".py",
   "mimetype": "text/x-python",
   "name": "python",
   "nbconvert_exporter": "python",
   "pygments_lexer": "ipython3",
   "version": "3.12.3"
  }
 },
 "nbformat": 4,
 "nbformat_minor": 2
}

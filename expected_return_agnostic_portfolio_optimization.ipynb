{
 "cells": [
  {
   "cell_type": "code",
   "execution_count": 187,
   "metadata": {},
   "outputs": [],
   "source": [
    "from typing import Dict, List, Optional, Tuple\n",
    "\n",
    "import numpy as np\n",
    "import pandas as pd\n",
    "import yfinance as yf\n",
    "from matplotlib import pyplot as plt"
   ]
  },
  {
   "cell_type": "code",
   "execution_count": 296,
   "metadata": {},
   "outputs": [],
   "source": [
    "def simulate_covariance_matrix(n: int, shrinkage: Optional[float] = None) -> np.ndarray:\n",
    "    \"\"\"\n",
    "    Generates a random positive semi-definite covariance matrix of size n x n.\n",
    "    \n",
    "    If the optional `shrinkage` parameter is provided, the function applies a shrinkage \n",
    "    transformation to regularize the matrix. Shrinkage blends the covariance matrix \n",
    "    with a scaled identity matrix, which can help ensure positive semi-definiteness \n",
    "    and improve numerical stability in certain applications.\n",
    "\n",
    "    Args:\n",
    "        n (int): The size of the covariance matrix to generate.\n",
    "        shrinkage (Optional[float]): A value between 0 and 1 controlling the degree of shrinkage applied to the covariance matrix.\n",
    "            - If `shrinkage` is 0, no shrinkage is applied.\n",
    "            - If `shrinkage` is 1, the covariance matrix is replaced by a diagonal matrix scaled by its variances.\n",
    "            - If `shrinkage` is None, no shrinkage is applied unless the matrix is not positive semi-definite.\n",
    "\n",
    "    Returns:6\n",
    "        np.ndarray: An n x n positive semi-definite covariance matrix.\n",
    "    \n",
    "    Raises:\n",
    "        AssertionError: If `shrinkage` is provided and is not in the range [0, 1].\n",
    "    \"\"\"\n",
    "\n",
    "    # Generate a random matrix\n",
    "    A = np.random.randn(n, n)\n",
    "    \n",
    "    # Construct a positive semi-definite matrix - A' * A ensures positive semi-definiteness\n",
    "    covariance_matrix = np.dot(np.transpose(A), A)\n",
    "\n",
    "    # Regularize/shrink if the matrix is not positive semi-definite\n",
    "    if shrinkage is not None or not all(np.linalg.eigvals(covariance_matrix) >= 0):\n",
    "\n",
    "        assert 0 <= shrinkage <= 1\n",
    "\n",
    "        # Lambda * Cov + (1 - Lambda) * I * Diagonal(Cov)\n",
    "        covariance_matrix = (1  - shrinkage) * covariance_matrix + shrinkage * np.multiply(np.diag(covariance_matrix), np.identity(n=n))\n",
    "    \n",
    "    # Normalize diagonal entries / adjust variances\n",
    "    for i in range(n):\n",
    "\n",
    "         # Ensure non-zero diagonal\n",
    "        covariance_matrix[i, i] = max(covariance_matrix[i, i], 1e-8) \n",
    "    \n",
    "    return covariance_matrix"
   ]
  },
  {
   "cell_type": "markdown",
   "metadata": {},
   "source": [
    "Assume equal expected returns and a randomly generated covariance matrix"
   ]
  },
  {
   "cell_type": "code",
   "execution_count": 4,
   "metadata": {},
   "outputs": [
    {
     "data": {
      "text/html": [
       "<div>\n",
       "<style scoped>\n",
       "    .dataframe tbody tr th:only-of-type {\n",
       "        vertical-align: middle;\n",
       "    }\n",
       "\n",
       "    .dataframe tbody tr th {\n",
       "        vertical-align: top;\n",
       "    }\n",
       "\n",
       "    .dataframe thead th {\n",
       "        text-align: right;\n",
       "    }\n",
       "</style>\n",
       "<table border=\"1\" class=\"dataframe\">\n",
       "  <thead>\n",
       "    <tr style=\"text-align: right;\">\n",
       "      <th></th>\n",
       "      <th>0</th>\n",
       "      <th>1</th>\n",
       "      <th>2</th>\n",
       "      <th>3</th>\n",
       "      <th>4</th>\n",
       "      <th>5</th>\n",
       "      <th>6</th>\n",
       "      <th>7</th>\n",
       "      <th>8</th>\n",
       "      <th>9</th>\n",
       "    </tr>\n",
       "  </thead>\n",
       "  <tbody>\n",
       "    <tr>\n",
       "      <th>0</th>\n",
       "      <td>0.381507</td>\n",
       "      <td>0.052902</td>\n",
       "      <td>-0.460421</td>\n",
       "      <td>0.091174</td>\n",
       "      <td>0.044215</td>\n",
       "      <td>0.163740</td>\n",
       "      <td>0.053846</td>\n",
       "      <td>-0.065963</td>\n",
       "      <td>-0.195052</td>\n",
       "      <td>0.077731</td>\n",
       "    </tr>\n",
       "    <tr>\n",
       "      <th>1</th>\n",
       "      <td>0.052902</td>\n",
       "      <td>0.616898</td>\n",
       "      <td>-0.307003</td>\n",
       "      <td>-0.050129</td>\n",
       "      <td>0.050504</td>\n",
       "      <td>0.132555</td>\n",
       "      <td>0.061073</td>\n",
       "      <td>-0.120444</td>\n",
       "      <td>-0.101492</td>\n",
       "      <td>0.086012</td>\n",
       "    </tr>\n",
       "    <tr>\n",
       "      <th>2</th>\n",
       "      <td>-0.460421</td>\n",
       "      <td>-0.307003</td>\n",
       "      <td>1.000000</td>\n",
       "      <td>-0.052908</td>\n",
       "      <td>-0.170276</td>\n",
       "      <td>0.029537</td>\n",
       "      <td>-0.071896</td>\n",
       "      <td>-0.086830</td>\n",
       "      <td>0.460702</td>\n",
       "      <td>-0.020340</td>\n",
       "    </tr>\n",
       "    <tr>\n",
       "      <th>3</th>\n",
       "      <td>0.091174</td>\n",
       "      <td>-0.050129</td>\n",
       "      <td>-0.052908</td>\n",
       "      <td>0.868746</td>\n",
       "      <td>-0.077121</td>\n",
       "      <td>-0.162184</td>\n",
       "      <td>-0.036259</td>\n",
       "      <td>0.192100</td>\n",
       "      <td>-0.192100</td>\n",
       "      <td>-0.269480</td>\n",
       "    </tr>\n",
       "    <tr>\n",
       "      <th>4</th>\n",
       "      <td>0.044215</td>\n",
       "      <td>0.050504</td>\n",
       "      <td>-0.170276</td>\n",
       "      <td>-0.077121</td>\n",
       "      <td>0.343049</td>\n",
       "      <td>-0.178416</td>\n",
       "      <td>0.089621</td>\n",
       "      <td>-0.028291</td>\n",
       "      <td>0.038680</td>\n",
       "      <td>0.107894</td>\n",
       "    </tr>\n",
       "    <tr>\n",
       "      <th>5</th>\n",
       "      <td>0.163740</td>\n",
       "      <td>0.132555</td>\n",
       "      <td>0.029537</td>\n",
       "      <td>-0.162184</td>\n",
       "      <td>-0.178416</td>\n",
       "      <td>0.634229</td>\n",
       "      <td>-0.049367</td>\n",
       "      <td>-0.067953</td>\n",
       "      <td>0.042419</td>\n",
       "      <td>0.269888</td>\n",
       "    </tr>\n",
       "    <tr>\n",
       "      <th>6</th>\n",
       "      <td>0.053846</td>\n",
       "      <td>0.061073</td>\n",
       "      <td>-0.071896</td>\n",
       "      <td>-0.036259</td>\n",
       "      <td>0.089621</td>\n",
       "      <td>-0.049367</td>\n",
       "      <td>0.852067</td>\n",
       "      <td>-0.037043</td>\n",
       "      <td>0.412994</td>\n",
       "      <td>0.080052</td>\n",
       "    </tr>\n",
       "    <tr>\n",
       "      <th>7</th>\n",
       "      <td>-0.065963</td>\n",
       "      <td>-0.120444</td>\n",
       "      <td>-0.086830</td>\n",
       "      <td>0.192100</td>\n",
       "      <td>-0.028291</td>\n",
       "      <td>-0.067953</td>\n",
       "      <td>-0.037043</td>\n",
       "      <td>0.856126</td>\n",
       "      <td>0.083892</td>\n",
       "      <td>-0.156332</td>\n",
       "    </tr>\n",
       "    <tr>\n",
       "      <th>8</th>\n",
       "      <td>-0.195052</td>\n",
       "      <td>-0.101492</td>\n",
       "      <td>0.460702</td>\n",
       "      <td>-0.192100</td>\n",
       "      <td>0.038680</td>\n",
       "      <td>0.042419</td>\n",
       "      <td>0.412994</td>\n",
       "      <td>0.083892</td>\n",
       "      <td>0.677093</td>\n",
       "      <td>0.135250</td>\n",
       "    </tr>\n",
       "    <tr>\n",
       "      <th>9</th>\n",
       "      <td>0.077731</td>\n",
       "      <td>0.086012</td>\n",
       "      <td>-0.020340</td>\n",
       "      <td>-0.269480</td>\n",
       "      <td>0.107894</td>\n",
       "      <td>0.269888</td>\n",
       "      <td>0.080052</td>\n",
       "      <td>-0.156332</td>\n",
       "      <td>0.135250</td>\n",
       "      <td>0.281433</td>\n",
       "    </tr>\n",
       "  </tbody>\n",
       "</table>\n",
       "</div>"
      ],
      "text/plain": [
       "          0         1         2         3         4         5         6  \\\n",
       "0  0.381507  0.052902 -0.460421  0.091174  0.044215  0.163740  0.053846   \n",
       "1  0.052902  0.616898 -0.307003 -0.050129  0.050504  0.132555  0.061073   \n",
       "2 -0.460421 -0.307003  1.000000 -0.052908 -0.170276  0.029537 -0.071896   \n",
       "3  0.091174 -0.050129 -0.052908  0.868746 -0.077121 -0.162184 -0.036259   \n",
       "4  0.044215  0.050504 -0.170276 -0.077121  0.343049 -0.178416  0.089621   \n",
       "5  0.163740  0.132555  0.029537 -0.162184 -0.178416  0.634229 -0.049367   \n",
       "6  0.053846  0.061073 -0.071896 -0.036259  0.089621 -0.049367  0.852067   \n",
       "7 -0.065963 -0.120444 -0.086830  0.192100 -0.028291 -0.067953 -0.037043   \n",
       "8 -0.195052 -0.101492  0.460702 -0.192100  0.038680  0.042419  0.412994   \n",
       "9  0.077731  0.086012 -0.020340 -0.269480  0.107894  0.269888  0.080052   \n",
       "\n",
       "          7         8         9  \n",
       "0 -0.065963 -0.195052  0.077731  \n",
       "1 -0.120444 -0.101492  0.086012  \n",
       "2 -0.086830  0.460702 -0.020340  \n",
       "3  0.192100 -0.192100 -0.269480  \n",
       "4 -0.028291  0.038680  0.107894  \n",
       "5 -0.067953  0.042419  0.269888  \n",
       "6 -0.037043  0.412994  0.080052  \n",
       "7  0.856126  0.083892 -0.156332  \n",
       "8  0.083892  0.677093  0.135250  \n",
       "9 -0.156332  0.135250  0.281433  "
      ]
     },
     "execution_count": 4,
     "metadata": {},
     "output_type": "execute_result"
    }
   ],
   "source": [
    "n: int = 10\n",
    "shrinkage: float = 0.00\n",
    "weight: np.ndarray = np.array([1 / n] * n)\n",
    "expected_return: np.ndarray = np.array([0.10] * n)\n",
    "\n",
    "covariance_matrix: np.ndarray = simulate_covariance_matrix(n=n, shrinkage=shrinkage)\n",
    "covariance_matrix /= np.max(np.diag(covariance_matrix))\n",
    "\n",
    "pd.DataFrame(covariance_matrix)"
   ]
  },
  {
   "cell_type": "code",
   "execution_count": 5,
   "metadata": {},
   "outputs": [
    {
     "data": {
      "text/plain": [
       "0.9999999999999999"
      ]
     },
     "execution_count": 5,
     "metadata": {},
     "output_type": "execute_result"
    }
   ],
   "source": [
    "w_optimal: np.ndarray = np.dot(np.linalg.inv(covariance_matrix), expected_return)\n",
    "w_optimal /= np.sum(w_optimal)\n",
    "np.sum(w_optimal)"
   ]
  },
  {
   "cell_type": "code",
   "execution_count": 6,
   "metadata": {},
   "outputs": [
    {
     "data": {
      "text/plain": [
       "array([ 0.61176594,  0.24430628,  0.47438002, -0.04228032, -0.50076447,\n",
       "       -0.70967591,  0.06675843,  0.26193796, -0.30043437,  0.89400645])"
      ]
     },
     "execution_count": 6,
     "metadata": {},
     "output_type": "execute_result"
    }
   ],
   "source": [
    "w_optimal"
   ]
  },
  {
   "cell_type": "markdown",
   "metadata": {},
   "source": [
    "If we scale the expected returns by any real number, this does not change our optimal weights"
   ]
  },
  {
   "cell_type": "code",
   "execution_count": 7,
   "metadata": {},
   "outputs": [
    {
     "data": {
      "text/plain": [
       "1.0"
      ]
     },
     "execution_count": 7,
     "metadata": {},
     "output_type": "execute_result"
    }
   ],
   "source": [
    "expected_return: np.ndarray = np.array([1.00] * n)\n",
    "w_optimal: np.ndarray = np.dot(np.linalg.inv(covariance_matrix), expected_return)\n",
    "w_optimal /= np.sum(w_optimal)\n",
    "np.sum(w_optimal)"
   ]
  },
  {
   "cell_type": "code",
   "execution_count": 8,
   "metadata": {},
   "outputs": [
    {
     "data": {
      "text/plain": [
       "array([ 0.61176594,  0.24430628,  0.47438002, -0.04228032, -0.50076447,\n",
       "       -0.70967591,  0.06675843,  0.26193796, -0.30043437,  0.89400645])"
      ]
     },
     "execution_count": 8,
     "metadata": {},
     "output_type": "execute_result"
    }
   ],
   "source": [
    "w_optimal"
   ]
  },
  {
   "cell_type": "markdown",
   "metadata": {},
   "source": [
    "In fact, if we assume they are all equal, we don't need to account for expected returns. Instead, our optimal weights simplify to inverse variance contributions."
   ]
  },
  {
   "cell_type": "code",
   "execution_count": 9,
   "metadata": {},
   "outputs": [
    {
     "data": {
      "text/plain": [
       "1.0"
      ]
     },
     "execution_count": 9,
     "metadata": {},
     "output_type": "execute_result"
    }
   ],
   "source": [
    "expected_return: np.ndarray = np.array([1.00] * n)\n",
    "w_optimal: np.ndarray = np.sum(np.linalg.inv(covariance_matrix), axis=1)\n",
    "w_optimal /= np.sum(w_optimal)\n",
    "np.sum(w_optimal)"
   ]
  },
  {
   "cell_type": "code",
   "execution_count": 10,
   "metadata": {},
   "outputs": [
    {
     "data": {
      "text/plain": [
       "array([ 0.61176594,  0.24430628,  0.47438002, -0.04228032, -0.50076447,\n",
       "       -0.70967591,  0.06675843,  0.26193796, -0.30043437,  0.89400645])"
      ]
     },
     "execution_count": 10,
     "metadata": {},
     "output_type": "execute_result"
    }
   ],
   "source": [
    "w_optimal"
   ]
  },
  {
   "cell_type": "markdown",
   "metadata": {},
   "source": [
    "Now that we have omitted expected returns from our optimization process, something interesting happens in terms of our asset-level risk contribution... each asset contributes equally to our overall risk! This is definitionally risk parity.  "
   ]
  },
  {
   "cell_type": "code",
   "execution_count": 11,
   "metadata": {},
   "outputs": [
    {
     "data": {
      "text/plain": [
       "array([0.00011298, 0.00011298, 0.00011298, 0.00011298, 0.00011298,\n",
       "       0.00011298, 0.00011298, 0.00011298, 0.00011298, 0.00011298])"
      ]
     },
     "execution_count": 11,
     "metadata": {},
     "output_type": "execute_result"
    }
   ],
   "source": [
    "variance_contribution = np.dot(covariance_matrix, w_optimal)\n",
    "variance_contribution"
   ]
  },
  {
   "cell_type": "markdown",
   "metadata": {},
   "source": [
    "Additionally, if we revisit the first order condition to mean-variance optimization, we see the following:\n",
    "\n",
    "max w' er - lambda w' Sigma w\n",
    "\n",
    "FOC: \n",
    "er - lambda Sigma w = 0\n",
    "\n",
    "w* = lambda Sigma^-1 er\n",
    "\n",
    "If we omit expected returns or assume equal expected returns for each asset, we simplify to the following optimization problem:\n",
    "\n",
    "max - lambda w' Sigma w\n",
    "\n",
    "min lambda w' Sigma w\n",
    "\n",
    "s.t. w' Ones = 1\n",
    "\n",
    "This is definitionally a minimum variance optimization... this leads us to a very handy equivilance relation... risk parity IS the solution to the minimum variance optimization:\n",
    "\n",
    "w* = Sigma^-1 Ones / Ones' Sigma^-1 Ones"
   ]
  },
  {
   "cell_type": "code",
   "execution_count": 12,
   "metadata": {},
   "outputs": [],
   "source": [
    "w_min_variance_optimal: np.ndarray = np.dot(np.linalg.inv(covariance_matrix), np.ones(n)) / np.dot(np.transpose(np.ones(n)), np.dot(np.linalg.inv(covariance_matrix), np.ones(n)))"
   ]
  },
  {
   "cell_type": "code",
   "execution_count": 13,
   "metadata": {},
   "outputs": [
    {
     "data": {
      "text/plain": [
       "array([ 0.61176594,  0.24430628,  0.47438002, -0.04228032, -0.50076447,\n",
       "       -0.70967591,  0.06675843,  0.26193796, -0.30043437,  0.89400645])"
      ]
     },
     "execution_count": 13,
     "metadata": {},
     "output_type": "execute_result"
    }
   ],
   "source": [
    "w_min_variance_optimal"
   ]
  },
  {
   "cell_type": "markdown",
   "metadata": {},
   "source": [
    "If we assume a diagonal covariance matrix (i.e., all portfolio constituents are orthogonal/uncorrelated to each other), we can abstract away from the matrix form of the optimization. This simplifies to a simple inverse variance optimization using only the vector of diagonals. "
   ]
  },
  {
   "cell_type": "code",
   "execution_count": 14,
   "metadata": {},
   "outputs": [
    {
     "data": {
      "text/html": [
       "<div>\n",
       "<style scoped>\n",
       "    .dataframe tbody tr th:only-of-type {\n",
       "        vertical-align: middle;\n",
       "    }\n",
       "\n",
       "    .dataframe tbody tr th {\n",
       "        vertical-align: top;\n",
       "    }\n",
       "\n",
       "    .dataframe thead th {\n",
       "        text-align: right;\n",
       "    }\n",
       "</style>\n",
       "<table border=\"1\" class=\"dataframe\">\n",
       "  <thead>\n",
       "    <tr style=\"text-align: right;\">\n",
       "      <th></th>\n",
       "      <th>0</th>\n",
       "      <th>1</th>\n",
       "      <th>2</th>\n",
       "      <th>3</th>\n",
       "      <th>4</th>\n",
       "      <th>5</th>\n",
       "      <th>6</th>\n",
       "      <th>7</th>\n",
       "      <th>8</th>\n",
       "      <th>9</th>\n",
       "    </tr>\n",
       "  </thead>\n",
       "  <tbody>\n",
       "    <tr>\n",
       "      <th>0</th>\n",
       "      <td>0.741957</td>\n",
       "      <td>0.000000</td>\n",
       "      <td>0.000000</td>\n",
       "      <td>0.000000</td>\n",
       "      <td>0.000000</td>\n",
       "      <td>0.0</td>\n",
       "      <td>0.00000</td>\n",
       "      <td>0.000000</td>\n",
       "      <td>0.00000</td>\n",
       "      <td>0.000000</td>\n",
       "    </tr>\n",
       "    <tr>\n",
       "      <th>1</th>\n",
       "      <td>0.000000</td>\n",
       "      <td>0.803357</td>\n",
       "      <td>0.000000</td>\n",
       "      <td>0.000000</td>\n",
       "      <td>0.000000</td>\n",
       "      <td>0.0</td>\n",
       "      <td>0.00000</td>\n",
       "      <td>0.000000</td>\n",
       "      <td>0.00000</td>\n",
       "      <td>0.000000</td>\n",
       "    </tr>\n",
       "    <tr>\n",
       "      <th>2</th>\n",
       "      <td>0.000000</td>\n",
       "      <td>0.000000</td>\n",
       "      <td>0.452875</td>\n",
       "      <td>0.000000</td>\n",
       "      <td>0.000000</td>\n",
       "      <td>0.0</td>\n",
       "      <td>0.00000</td>\n",
       "      <td>0.000000</td>\n",
       "      <td>0.00000</td>\n",
       "      <td>0.000000</td>\n",
       "    </tr>\n",
       "    <tr>\n",
       "      <th>3</th>\n",
       "      <td>0.000000</td>\n",
       "      <td>0.000000</td>\n",
       "      <td>0.000000</td>\n",
       "      <td>0.695702</td>\n",
       "      <td>0.000000</td>\n",
       "      <td>0.0</td>\n",
       "      <td>0.00000</td>\n",
       "      <td>0.000000</td>\n",
       "      <td>0.00000</td>\n",
       "      <td>0.000000</td>\n",
       "    </tr>\n",
       "    <tr>\n",
       "      <th>4</th>\n",
       "      <td>0.000000</td>\n",
       "      <td>0.000000</td>\n",
       "      <td>0.000000</td>\n",
       "      <td>0.000000</td>\n",
       "      <td>0.772054</td>\n",
       "      <td>0.0</td>\n",
       "      <td>0.00000</td>\n",
       "      <td>0.000000</td>\n",
       "      <td>0.00000</td>\n",
       "      <td>0.000000</td>\n",
       "    </tr>\n",
       "    <tr>\n",
       "      <th>5</th>\n",
       "      <td>0.000000</td>\n",
       "      <td>0.000000</td>\n",
       "      <td>0.000000</td>\n",
       "      <td>0.000000</td>\n",
       "      <td>0.000000</td>\n",
       "      <td>1.0</td>\n",
       "      <td>0.00000</td>\n",
       "      <td>0.000000</td>\n",
       "      <td>0.00000</td>\n",
       "      <td>0.000000</td>\n",
       "    </tr>\n",
       "    <tr>\n",
       "      <th>6</th>\n",
       "      <td>0.000000</td>\n",
       "      <td>0.000000</td>\n",
       "      <td>0.000000</td>\n",
       "      <td>0.000000</td>\n",
       "      <td>0.000000</td>\n",
       "      <td>0.0</td>\n",
       "      <td>0.49715</td>\n",
       "      <td>0.000000</td>\n",
       "      <td>0.00000</td>\n",
       "      <td>0.000000</td>\n",
       "    </tr>\n",
       "    <tr>\n",
       "      <th>7</th>\n",
       "      <td>0.000000</td>\n",
       "      <td>0.000000</td>\n",
       "      <td>0.000000</td>\n",
       "      <td>0.000000</td>\n",
       "      <td>0.000000</td>\n",
       "      <td>0.0</td>\n",
       "      <td>0.00000</td>\n",
       "      <td>0.138298</td>\n",
       "      <td>0.00000</td>\n",
       "      <td>0.000000</td>\n",
       "    </tr>\n",
       "    <tr>\n",
       "      <th>8</th>\n",
       "      <td>0.000000</td>\n",
       "      <td>0.000000</td>\n",
       "      <td>0.000000</td>\n",
       "      <td>0.000000</td>\n",
       "      <td>0.000000</td>\n",
       "      <td>0.0</td>\n",
       "      <td>0.00000</td>\n",
       "      <td>0.000000</td>\n",
       "      <td>0.24511</td>\n",
       "      <td>0.000000</td>\n",
       "    </tr>\n",
       "    <tr>\n",
       "      <th>9</th>\n",
       "      <td>0.000000</td>\n",
       "      <td>0.000000</td>\n",
       "      <td>0.000000</td>\n",
       "      <td>0.000000</td>\n",
       "      <td>0.000000</td>\n",
       "      <td>0.0</td>\n",
       "      <td>0.00000</td>\n",
       "      <td>0.000000</td>\n",
       "      <td>0.00000</td>\n",
       "      <td>0.381112</td>\n",
       "    </tr>\n",
       "  </tbody>\n",
       "</table>\n",
       "</div>"
      ],
      "text/plain": [
       "          0         1         2         3         4    5        6         7  \\\n",
       "0  0.741957  0.000000  0.000000  0.000000  0.000000  0.0  0.00000  0.000000   \n",
       "1  0.000000  0.803357  0.000000  0.000000  0.000000  0.0  0.00000  0.000000   \n",
       "2  0.000000  0.000000  0.452875  0.000000  0.000000  0.0  0.00000  0.000000   \n",
       "3  0.000000  0.000000  0.000000  0.695702  0.000000  0.0  0.00000  0.000000   \n",
       "4  0.000000  0.000000  0.000000  0.000000  0.772054  0.0  0.00000  0.000000   \n",
       "5  0.000000  0.000000  0.000000  0.000000  0.000000  1.0  0.00000  0.000000   \n",
       "6  0.000000  0.000000  0.000000  0.000000  0.000000  0.0  0.49715  0.000000   \n",
       "7  0.000000  0.000000  0.000000  0.000000  0.000000  0.0  0.00000  0.138298   \n",
       "8  0.000000  0.000000  0.000000  0.000000  0.000000  0.0  0.00000  0.000000   \n",
       "9  0.000000  0.000000  0.000000  0.000000  0.000000  0.0  0.00000  0.000000   \n",
       "\n",
       "         8         9  \n",
       "0  0.00000  0.000000  \n",
       "1  0.00000  0.000000  \n",
       "2  0.00000  0.000000  \n",
       "3  0.00000  0.000000  \n",
       "4  0.00000  0.000000  \n",
       "5  0.00000  0.000000  \n",
       "6  0.00000  0.000000  \n",
       "7  0.00000  0.000000  \n",
       "8  0.24511  0.000000  \n",
       "9  0.00000  0.381112  "
      ]
     },
     "execution_count": 14,
     "metadata": {},
     "output_type": "execute_result"
    }
   ],
   "source": [
    "n: int = 10\n",
    "shrinkage: float = 1.00\n",
    "weight: np.ndarray = np.array([1 / n] * n)\n",
    "expected_return: np.ndarray = np.array([0.10] * n)\n",
    "\n",
    "covariance_matrix: np.ndarray = simulate_covariance_matrix(n=n, shrinkage=shrinkage)\n",
    "covariance_matrix /= np.max(np.diag(covariance_matrix))\n",
    "\n",
    "pd.DataFrame(covariance_matrix)"
   ]
  },
  {
   "cell_type": "code",
   "execution_count": 15,
   "metadata": {},
   "outputs": [
    {
     "data": {
      "text/plain": [
       "array([0.05505828, 0.05085024, 0.09020335, 0.05871891, 0.05291198,\n",
       "       0.04085088, 0.08217018, 0.29538386, 0.16666366, 0.10718863])"
      ]
     },
     "execution_count": 15,
     "metadata": {},
     "output_type": "execute_result"
    }
   ],
   "source": [
    "expected_return: np.ndarray = np.array([1.00] * n)\n",
    "w_optimal: np.ndarray = np.dot(np.linalg.inv(covariance_matrix), expected_return)\n",
    "w_optimal /= np.sum(w_optimal)\n",
    "w_optimal"
   ]
  },
  {
   "cell_type": "code",
   "execution_count": 16,
   "metadata": {},
   "outputs": [
    {
     "data": {
      "text/plain": [
       "array([0.05505828, 0.05085024, 0.09020335, 0.05871891, 0.05291198,\n",
       "       0.04085088, 0.08217018, 0.29538386, 0.16666366, 0.10718863])"
      ]
     },
     "execution_count": 16,
     "metadata": {},
     "output_type": "execute_result"
    }
   ],
   "source": [
    "w_optimal = (1 / np.diag(covariance_matrix)) / np.sum(1 / np.diag(covariance_matrix))\n",
    "w_optimal"
   ]
  },
  {
   "cell_type": "code",
   "execution_count": 17,
   "metadata": {},
   "outputs": [
    {
     "data": {
      "text/plain": [
       "array([0.05505828, 0.05085024, 0.09020335, 0.05871891, 0.05291198,\n",
       "       0.04085088, 0.08217018, 0.29538386, 0.16666366, 0.10718863])"
      ]
     },
     "execution_count": 17,
     "metadata": {},
     "output_type": "execute_result"
    }
   ],
   "source": [
    "np.linalg.inv(covariance_matrix).dot(np.ones(n)) / np.ones(n).T.dot(np.linalg.inv(covariance_matrix).dot(np.ones(n)))"
   ]
  },
  {
   "cell_type": "code",
   "execution_count": 18,
   "metadata": {},
   "outputs": [
    {
     "data": {
      "text/plain": [
       "array([0.05505828, 0.05085024, 0.09020335, 0.05871891, 0.05291198,\n",
       "       0.04085088, 0.08217018, 0.29538386, 0.16666366, 0.10718863])"
      ]
     },
     "execution_count": 18,
     "metadata": {},
     "output_type": "execute_result"
    }
   ],
   "source": [
    "np.sum(np.linalg.inv(covariance_matrix), axis=1) / np.sum(np.sum(np.linalg.inv(covariance_matrix), axis=1))"
   ]
  },
  {
   "cell_type": "markdown",
   "metadata": {},
   "source": [
    "This serves as a very powerful framwork to analyze seemingly simple, yet naunced problems. \n",
    "\n",
    "A prime example is the world of expected return agnostic portfolio management. For example, it is well known that the market-capitalization weighted benchmark is not very well risk-balanced and is highly concentrated in a few key risk and/or industry factors (e.g., size, growth, industry). A common alternative is the 1/N naive portolio that is completely agnostic to cross-sectional and individual asset risk properties. Neither of these is optimal from a diversification perspective, though. \n",
    "\n",
    "Assuming each stock equally contributes to the equity risk premium, we can omit asset-level returns from our portfolio optimization process. The PM can simply proceed as if the entire tradable universe has positive expectancy. This is desireable from a PM's perspective as expected returns are notoriously more difficult to predict than risk.  In this setting, it is adventageous to take advantage of the diversifying properties of non-perfectly correlated assets. One heuristic for this is equal industry exposure. Industries represent distinct sources of risk and return, and therefore, in expectation, provide diversifying properties to each other. Industry classifications are, however, only proxies, not definitions, of lowly correlated sources of risk. A more empirical, less fundamental, approach is equally weighted empirical correlation clusters. This serves as a more systematic, data-driven correlary to discretionary, and potentially imprecise, industry classiciations. A highly related, but slightly different, concept is principal component portfolios which directly orthogonalize latent sources of risk. Regardless of the approach, these serve as sufficient heuristics that, ex ante, provide more diversified exposures than both the market-capitalization and 1/N weighted portfolios. \n",
    "\n",
    "Despite the theoretical benefit of these heuristic approaches, they are strictly dominated by a process that explicitly seeks to maximize diversification. Risk parity, equal risk contribution, minimum variance, or inverse variance optimization procedures directly maximize the \"balance\" of risk across the key drivers of risk. These do not require potentially biased clustering algorithms or discretionary classification maps. This optimization procedure also explicitly controls for risk exposures, whereas the heuristic approaches only control for dollar exposures. This is not to say that you can't imagine a scenario where the heuristic clustering approach accounts for risk instead of dollar weight. In this scenario, the PM could assume his clusters are orthogonal and apply an inverse variance weighting scheme across his clusters. This is optimal if his constituents are clusters and the PM has no notion of each cluster's underlying constituents. However, this is not the case in reality, and the cluster-based approach potentially introduces less precision and suboptimal diversification. The PM is well aware of the full cross-section and can directly predict each stock's individual and cross-sectional risk properties with a tolerable degree of confidence and estimation error. Assuming the PM runs his book with an unbiased risk model, the asset-level (i.e., not cluster-level) risk parity approach is the most precise and theoretically optimal approach. \n",
    "\n",
    "Therefore, if the objective is to arrive at a risk-balanced portfolio that has meaningful exposure to the equity risk premium, the minimum variance / risk parity approach is optimal.  "
   ]
  },
  {
   "cell_type": "code",
   "execution_count": null,
   "metadata": {},
   "outputs": [],
   "source": []
  },
  {
   "cell_type": "markdown",
   "metadata": {},
   "source": [
    "Let's simulate this behavior... center each stock's expected return around the ERP... randomize each stock's variance... each stock is uncorrelated... compare 1/N vs. Risk Parity / Min Variance optimization approaches... \n",
    "\n",
    "This will indicate that in the presence of unknown magnitude, but known directional expectancy, a risk parity optimization approach will likely dominate a 1/N or risk-imbalanced (e.g., market capitalization weighted) naive implementation.   "
   ]
  },
  {
   "cell_type": "code",
   "execution_count": 36,
   "metadata": {},
   "outputs": [],
   "source": [
    "equity_risk_premium: float = 0.07\n",
    "expected_returns: np.ndarray = np.random.normal(loc=equity_risk_premium, scale=0.03, size=n)\n",
    "expected_variances: np.ndarray = np.random.normal(loc=0.40, scale=0.20, size=n) ** 2\n",
    "\n",
    "covariance_matrix: np.ndarray = np.multiply(expected_variances, np.identity(n))\n",
    "\n",
    "equal_weight: np.ndarray = np.array([1 / n] * n)\n",
    "minimum_variance_optimal_weight: np.ndarray = np.dot(np.linalg.inv(covariance_matrix), np.ones(n)) / np.dot(np.transpose(np.ones(n)), np.dot(np.linalg.inv(covariance_matrix), np.ones(n)))\n",
    "\n",
    "expected_sharpe_ratios: np.ndarray = expected_returns / np.sqrt(expected_variances)\n",
    "expected_equal_weight_sharpe_ratio: np.ndarray = np.dot(np.transpose(expected_returns), equal_weight) / np.sqrt(np.dot(np.dot(np.transpose(equal_weight), covariance_matrix), equal_weight))\n",
    "expected_minimum_variance_sharpe_ratio: np.ndarray = np.dot(np.transpose(expected_returns), minimum_variance_optimal_weight) / np.sqrt(np.dot(np.dot(np.transpose(minimum_variance_optimal_weight), covariance_matrix), minimum_variance_optimal_weight))"
   ]
  },
  {
   "cell_type": "code",
   "execution_count": 38,
   "metadata": {},
   "outputs": [
    {
     "data": {
      "text/plain": [
       "<Axes: title={'center': 'E[SR] of 1/N vs. Min Var / Risk Parity vs. Portfolio Constituents'}>"
      ]
     },
     "execution_count": 38,
     "metadata": {},
     "output_type": "execute_result"
    },
    {
     "data": {
      "image/png": "[encoded data removed]",
      "text/plain": [
       "<Figure size 640x480 with 1 Axes>"
      ]
     },
     "metadata": {},
     "output_type": "display_data"
    }
   ],
   "source": [
    "pd.concat(\n",
    "    [\n",
    "        pd.Series({f\"E[SR {i}]\": sr for i, sr in enumerate(expected_sharpe_ratios)}),\n",
    "        pd.Series({\"E[1/N SR]\": expected_equal_weight_sharpe_ratio}),\n",
    "        pd.Series({\"E[Min Var SR]\": expected_minimum_variance_sharpe_ratio}),\n",
    "    ]\n",
    ").plot(kind=\"bar\", title=\"E[SR] of 1/N vs. Min Var / Risk Parity vs. Portfolio Constituents\")"
   ]
  },
  {
   "cell_type": "markdown",
   "metadata": {},
   "source": [
    "Let's run an empirical test of this hypothesis... here, we will constrain our weight to long-only as we're interested in harvesting the ERP with lower risk per unit of return... this then decouples risk parity from the min variance approach... |"
   ]
  },
  {
   "cell_type": "code",
   "execution_count": 9,
   "metadata": {},
   "outputs": [],
   "source": [
    "LEVERED_EQUITY_SECTOR_ETF_TICKERS: Tuple = (\n",
    "\n",
    "    # Technology\n",
    "    \"TECL\",  # Direxion Daily Technology Bull 3X Shares\n",
    "    \"SOXL\",  # Direxion Daily Semiconductor Bull 3X Shares\n",
    "\n",
    "    # Energy\n",
    "    \"ERX\",   # Direxion Daily Energy Bull 2X Shares\n",
    "    \"GUSH\",  # Direxion Daily S&P Oil & Gas Exploration & Production Bull 2X Shares\n",
    "\n",
    "    # Healthcare\n",
    "    \"CURE\",  # Direxion Daily Healthcare Bull 3X Shares\n",
    "\n",
    "    # Financials\n",
    "    \"FAS\",   # Direxion Daily Financial Bull 3X Shares\n",
    "\n",
    "    # Industrials\n",
    "    \"DFEN\",  # Direxion Daily Aerospace & Defense Bull 3X Shares\n",
    "\n",
    "    # Consumer Discretionary\n",
    "    \"WANT\",  # Direxion Daily Consumer Discretionary Bull 3X Shares\n",
    "\n",
    "    # Communication Services\n",
    "    \"TQQQ\",  # ProShares UltraPro QQQ (focused on Nasdaq-100)\n",
    "    \"LTL\",   # ProShares Ultra Communication Services\n",
    ")\n",
    "\n",
    "N: int = len(LEVERED_EQUITY_SECTOR_ETF_TICKERS)"
   ]
  },
  {
   "cell_type": "code",
   "execution_count": 248,
   "metadata": {},
   "outputs": [
    {
     "data": {
      "text/plain": [
       "<Axes: xlabel='Date'>"
      ]
     },
     "execution_count": 248,
     "metadata": {},
     "output_type": "execute_result"
    },
    {
     "data": {
      "image/png": "[encoded data removed]",
      "text/plain": [
       "<Figure size 640x480 with 1 Axes>"
      ]
     },
     "metadata": {},
     "output_type": "display_data"
    }
   ],
   "source": [
    "import yfinance as yf\n",
    "\n",
    "\n",
    "# Create an empty DataFrame to store daily returns\n",
    "returns = pd.DataFrame()\n",
    "adj_returns = pd.DataFrame()\n",
    "\n",
    "for etf in LEVERED_EQUITY_SECTOR_ETF_TICKERS:\n",
    "\n",
    "    # Fetch historical data\n",
    "    data = yf.download(etf, period=\"max\", progress=False, interval=\"1wk\")\n",
    "    \n",
    "    # Add returns to the DataFrame\n",
    "    returns[etf] = data[\"Close\"].pct_change()\n",
    "    adj_returns[etf] = data[\"Adj Close\"].pct_change()\n",
    "\n",
    "(1 + adj_returns).cumprod().plot()"
   ]
  },
  {
   "cell_type": "code",
   "execution_count": 249,
   "metadata": {},
   "outputs": [],
   "source": [
    "def long_only_min_variance_optimizer(\n",
    "    covariance_matrix: np.ndarray, \n",
    "    weights: np.ndarray, \n",
    "    learning_rate: float = 0.005, \n",
    "    penalty: float = 10.00, \n",
    "    n_iterations: int = 10_000\n",
    ") -> np.ndarray:\n",
    "\n",
    "    weights_evolution: Dict = {}\n",
    "    objective_evolution: np.ndarray = np.empty(shape=n_iterations)\n",
    "        \n",
    "    for i in range(n_iterations):\n",
    "\n",
    "        # Implement the log barrier objective method to maintain long-only exposures - as weights approach 0, the log penalty approaches infinity\n",
    "        objective_evolution[i] = np.dot(np.dot(np.transpose(weights), covariance_matrix), weights) - penalty * np.sum(np.log(weights))\n",
    "        gradient = np.dot(covariance_matrix, weights) - penalty / weights\n",
    "        weights -= learning_rate * gradient\n",
    "        weights_evolution[i] = weights\n",
    "\n",
    "    optimal_weights = weights_evolution[np.argmin(objective_evolution)]    \n",
    "    optimal_weights /= optimal_weights.sum()\n",
    "    \n",
    "    return optimal_weights"
   ]
  },
  {
   "cell_type": "code",
   "execution_count": 257,
   "metadata": {},
   "outputs": [
    {
     "name": "stderr",
     "output_type": "stream",
     "text": [
      "100%|██████████| 829/829 [01:38<00:00,  8.40it/s]\n"
     ]
    }
   ],
   "source": [
    "import datetime as dt\n",
    "from tqdm import tqdm\n",
    "from typing import Dict\n",
    "\n",
    "\n",
    "# Implement naive rolling risk model\n",
    "rolling_vols: pd.DataFrame = returns.rolling(8).std(ddof=1) * np.sqrt(52)\n",
    "rolling_correlation_matrix: pd.DataFrame = returns.rolling(window=24).corr()\n",
    "\n",
    "# Initialize weights object to store optimal weights\n",
    "min_variance_weights: Dict = {}\n",
    "\n",
    "i = -1\n",
    "for date in tqdm(rolling_vols.index):\n",
    "\n",
    "    i += 1\n",
    "\n",
    "    if i == 0 or i == len(rolling_vols) - 1:\n",
    "        continue\n",
    "    \n",
    "    # Format risk model data\n",
    "    risk_model_date: dt.datetime = rolling_vols.index[i - 1]\n",
    "    vols = rolling_vols.loc[risk_model_date].dropna()\n",
    "    tickers = vols.index\n",
    "    correlation_matrix = rolling_correlation_matrix.loc[risk_model_date].loc[tickers, tickers].dropna()\n",
    "\n",
    "    # Validate the integrity of the risk model\n",
    "    n = len(vols)\n",
    "    if np.shape(correlation_matrix) != (n, n) or n == 0:\n",
    "        continue\n",
    "\n",
    "    # Calculate risk model\n",
    "    diagonal_vols = np.multiply(np.reshape(vols, newshape=(-1, 1)), np.identity(n)) \n",
    "    covariance_matrix = np.dot(np.dot(diagonal_vols, correlation_matrix), diagonal_vols)\n",
    "\n",
    "    # Optimize for min variance via custom gradient descent algorithm\n",
    "    min_var_weights = pd.Series(\n",
    "        long_only_min_variance_optimizer(covariance_matrix=covariance_matrix, weights=np.array([1 / n] * n)),\n",
    "        index=tickers\n",
    "    )\n",
    "\n",
    "    # Vol scale them to 25% vol - do not allow for leverage - only de-lever if necessary\n",
    "    ex_ante_vol = np.sqrt(np.dot(np.dot(np.transpose(min_var_weights), covariance_matrix), min_var_weights))\n",
    "    vol_sclaed_min_var_weights = min_var_weights * min(1.00, 0.25 / ex_ante_vol)\n",
    "\n",
    "    # Apply the weights to the following day to model the implementation lag\n",
    "    min_variance_weights[rolling_vols.index[i + 1]] = vol_sclaed_min_var_weights"
   ]
  },
  {
   "cell_type": "markdown",
   "metadata": {},
   "source": [
    "Analyze the behavior of our optimized portfolio weights"
   ]
  },
  {
   "cell_type": "code",
   "execution_count": 258,
   "metadata": {},
   "outputs": [
    {
     "data": {
      "text/html": [
       "<div>\n",
       "<style scoped>\n",
       "    .dataframe tbody tr th:only-of-type {\n",
       "        vertical-align: middle;\n",
       "    }\n",
       "\n",
       "    .dataframe tbody tr th {\n",
       "        vertical-align: top;\n",
       "    }\n",
       "\n",
       "    .dataframe thead th {\n",
       "        text-align: right;\n",
       "    }\n",
       "</style>\n",
       "<table border=\"1\" class=\"dataframe\">\n",
       "  <thead>\n",
       "    <tr style=\"text-align: right;\">\n",
       "      <th></th>\n",
       "      <th>CURE</th>\n",
       "      <th>DFEN</th>\n",
       "      <th>ERX</th>\n",
       "      <th>FAS</th>\n",
       "      <th>GUSH</th>\n",
       "      <th>LTL</th>\n",
       "      <th>SOXL</th>\n",
       "      <th>TECL</th>\n",
       "      <th>TQQQ</th>\n",
       "      <th>WANT</th>\n",
       "    </tr>\n",
       "  </thead>\n",
       "  <tbody>\n",
       "    <tr>\n",
       "      <th>2009-06-29 00:00:00+00:00</th>\n",
       "      <td>NaN</td>\n",
       "      <td>NaN</td>\n",
       "      <td>0.057359</td>\n",
       "      <td>0.036516</td>\n",
       "      <td>NaN</td>\n",
       "      <td>0.127508</td>\n",
       "      <td>NaN</td>\n",
       "      <td>0.120317</td>\n",
       "      <td>NaN</td>\n",
       "      <td>NaN</td>\n",
       "    </tr>\n",
       "    <tr>\n",
       "      <th>2009-07-06 00:00:00+00:00</th>\n",
       "      <td>NaN</td>\n",
       "      <td>NaN</td>\n",
       "      <td>0.056135</td>\n",
       "      <td>0.036802</td>\n",
       "      <td>NaN</td>\n",
       "      <td>0.133663</td>\n",
       "      <td>NaN</td>\n",
       "      <td>0.121153</td>\n",
       "      <td>NaN</td>\n",
       "      <td>NaN</td>\n",
       "    </tr>\n",
       "    <tr>\n",
       "      <th>2009-07-13 00:00:00+00:00</th>\n",
       "      <td>NaN</td>\n",
       "      <td>NaN</td>\n",
       "      <td>0.070967</td>\n",
       "      <td>0.074231</td>\n",
       "      <td>NaN</td>\n",
       "      <td>0.146161</td>\n",
       "      <td>NaN</td>\n",
       "      <td>0.126895</td>\n",
       "      <td>NaN</td>\n",
       "      <td>NaN</td>\n",
       "    </tr>\n",
       "    <tr>\n",
       "      <th>2009-07-20 00:00:00+00:00</th>\n",
       "      <td>NaN</td>\n",
       "      <td>NaN</td>\n",
       "      <td>0.077759</td>\n",
       "      <td>0.115654</td>\n",
       "      <td>NaN</td>\n",
       "      <td>0.151586</td>\n",
       "      <td>NaN</td>\n",
       "      <td>0.123099</td>\n",
       "      <td>NaN</td>\n",
       "      <td>NaN</td>\n",
       "    </tr>\n",
       "    <tr>\n",
       "      <th>2009-07-27 00:00:00+00:00</th>\n",
       "      <td>NaN</td>\n",
       "      <td>NaN</td>\n",
       "      <td>0.059111</td>\n",
       "      <td>0.072957</td>\n",
       "      <td>NaN</td>\n",
       "      <td>0.136516</td>\n",
       "      <td>NaN</td>\n",
       "      <td>0.077453</td>\n",
       "      <td>NaN</td>\n",
       "      <td>NaN</td>\n",
       "    </tr>\n",
       "    <tr>\n",
       "      <th>...</th>\n",
       "      <td>...</td>\n",
       "      <td>...</td>\n",
       "      <td>...</td>\n",
       "      <td>...</td>\n",
       "      <td>...</td>\n",
       "      <td>...</td>\n",
       "      <td>...</td>\n",
       "      <td>...</td>\n",
       "      <td>...</td>\n",
       "      <td>...</td>\n",
       "    </tr>\n",
       "    <tr>\n",
       "      <th>2024-10-14 00:00:00+00:00</th>\n",
       "      <td>0.136950</td>\n",
       "      <td>0.059728</td>\n",
       "      <td>0.079792</td>\n",
       "      <td>0.072128</td>\n",
       "      <td>0.056772</td>\n",
       "      <td>0.111018</td>\n",
       "      <td>0.022166</td>\n",
       "      <td>0.029325</td>\n",
       "      <td>0.039271</td>\n",
       "      <td>0.052247</td>\n",
       "    </tr>\n",
       "    <tr>\n",
       "      <th>2024-10-21 00:00:00+00:00</th>\n",
       "      <td>0.146205</td>\n",
       "      <td>0.061207</td>\n",
       "      <td>0.080047</td>\n",
       "      <td>0.078853</td>\n",
       "      <td>0.058404</td>\n",
       "      <td>0.108923</td>\n",
       "      <td>0.025293</td>\n",
       "      <td>0.034468</td>\n",
       "      <td>0.045295</td>\n",
       "      <td>0.057862</td>\n",
       "    </tr>\n",
       "    <tr>\n",
       "      <th>2024-10-28 00:00:00+00:00</th>\n",
       "      <td>0.159083</td>\n",
       "      <td>0.059921</td>\n",
       "      <td>0.076325</td>\n",
       "      <td>0.078857</td>\n",
       "      <td>0.054889</td>\n",
       "      <td>0.110824</td>\n",
       "      <td>0.024851</td>\n",
       "      <td>0.034291</td>\n",
       "      <td>0.045183</td>\n",
       "      <td>0.059643</td>\n",
       "    </tr>\n",
       "    <tr>\n",
       "      <th>2024-11-04 00:00:00+00:00</th>\n",
       "      <td>0.140270</td>\n",
       "      <td>0.052953</td>\n",
       "      <td>0.077363</td>\n",
       "      <td>0.076755</td>\n",
       "      <td>0.055426</td>\n",
       "      <td>0.110826</td>\n",
       "      <td>0.025266</td>\n",
       "      <td>0.034973</td>\n",
       "      <td>0.046098</td>\n",
       "      <td>0.060278</td>\n",
       "    </tr>\n",
       "    <tr>\n",
       "      <th>2024-11-11 00:00:00+00:00</th>\n",
       "      <td>0.152800</td>\n",
       "      <td>0.060322</td>\n",
       "      <td>0.090199</td>\n",
       "      <td>0.100642</td>\n",
       "      <td>0.063196</td>\n",
       "      <td>0.194658</td>\n",
       "      <td>0.034219</td>\n",
       "      <td>0.044999</td>\n",
       "      <td>0.064554</td>\n",
       "      <td>0.067668</td>\n",
       "    </tr>\n",
       "  </tbody>\n",
       "</table>\n",
       "<p>719 rows × 10 columns</p>\n",
       "</div>"
      ],
      "text/plain": [
       "                               CURE      DFEN       ERX       FAS      GUSH  \\\n",
       "2009-06-29 00:00:00+00:00       NaN       NaN  0.057359  0.036516       NaN   \n",
       "2009-07-06 00:00:00+00:00       NaN       NaN  0.056135  0.036802       NaN   \n",
       "2009-07-13 00:00:00+00:00       NaN       NaN  0.070967  0.074231       NaN   \n",
       "2009-07-20 00:00:00+00:00       NaN       NaN  0.077759  0.115654       NaN   \n",
       "2009-07-27 00:00:00+00:00       NaN       NaN  0.059111  0.072957       NaN   \n",
       "...                             ...       ...       ...       ...       ...   \n",
       "2024-10-14 00:00:00+00:00  0.136950  0.059728  0.079792  0.072128  0.056772   \n",
       "2024-10-21 00:00:00+00:00  0.146205  0.061207  0.080047  0.078853  0.058404   \n",
       "2024-10-28 00:00:00+00:00  0.159083  0.059921  0.076325  0.078857  0.054889   \n",
       "2024-11-04 00:00:00+00:00  0.140270  0.052953  0.077363  0.076755  0.055426   \n",
       "2024-11-11 00:00:00+00:00  0.152800  0.060322  0.090199  0.100642  0.063196   \n",
       "\n",
       "                                LTL      SOXL      TECL      TQQQ      WANT  \n",
       "2009-06-29 00:00:00+00:00  0.127508       NaN  0.120317       NaN       NaN  \n",
       "2009-07-06 00:00:00+00:00  0.133663       NaN  0.121153       NaN       NaN  \n",
       "2009-07-13 00:00:00+00:00  0.146161       NaN  0.126895       NaN       NaN  \n",
       "2009-07-20 00:00:00+00:00  0.151586       NaN  0.123099       NaN       NaN  \n",
       "2009-07-27 00:00:00+00:00  0.136516       NaN  0.077453       NaN       NaN  \n",
       "...                             ...       ...       ...       ...       ...  \n",
       "2024-10-14 00:00:00+00:00  0.111018  0.022166  0.029325  0.039271  0.052247  \n",
       "2024-10-21 00:00:00+00:00  0.108923  0.025293  0.034468  0.045295  0.057862  \n",
       "2024-10-28 00:00:00+00:00  0.110824  0.024851  0.034291  0.045183  0.059643  \n",
       "2024-11-04 00:00:00+00:00  0.110826  0.025266  0.034973  0.046098  0.060278  \n",
       "2024-11-11 00:00:00+00:00  0.194658  0.034219  0.044999  0.064554  0.067668  \n",
       "\n",
       "[719 rows x 10 columns]"
      ]
     },
     "execution_count": 258,
     "metadata": {},
     "output_type": "execute_result"
    },
    {
     "data": {
      "image/png": "[encoded data removed]",
      "text/plain": [
       "<Figure size 640x480 with 1 Axes>"
      ]
     },
     "metadata": {},
     "output_type": "display_data"
    }
   ],
   "source": [
    "weights = pd.DataFrame(min_variance_weights).T\n",
    "weights.sum(axis=1).plot()\n",
    "weights"
   ]
  },
  {
   "cell_type": "code",
   "execution_count": 262,
   "metadata": {},
   "outputs": [
    {
     "data": {
      "text/html": [
       "<div>\n",
       "<style scoped>\n",
       "    .dataframe tbody tr th:only-of-type {\n",
       "        vertical-align: middle;\n",
       "    }\n",
       "\n",
       "    .dataframe tbody tr th {\n",
       "        vertical-align: top;\n",
       "    }\n",
       "\n",
       "    .dataframe thead th {\n",
       "        text-align: right;\n",
       "    }\n",
       "</style>\n",
       "<table border=\"1\" class=\"dataframe\">\n",
       "  <thead>\n",
       "    <tr style=\"text-align: right;\">\n",
       "      <th></th>\n",
       "      <th>CURE</th>\n",
       "      <th>DFEN</th>\n",
       "      <th>ERX</th>\n",
       "      <th>FAS</th>\n",
       "      <th>GUSH</th>\n",
       "      <th>LTL</th>\n",
       "      <th>SOXL</th>\n",
       "      <th>TECL</th>\n",
       "      <th>TQQQ</th>\n",
       "      <th>WANT</th>\n",
       "    </tr>\n",
       "  </thead>\n",
       "  <tbody>\n",
       "    <tr>\n",
       "      <th>2009-06-29 00:00:00+00:00</th>\n",
       "      <td>NaN</td>\n",
       "      <td>NaN</td>\n",
       "      <td>-0.004906</td>\n",
       "      <td>-0.003187</td>\n",
       "      <td>NaN</td>\n",
       "      <td>-0.007041</td>\n",
       "      <td>NaN</td>\n",
       "      <td>-0.005269</td>\n",
       "      <td>NaN</td>\n",
       "      <td>NaN</td>\n",
       "    </tr>\n",
       "    <tr>\n",
       "      <th>2009-07-06 00:00:00+00:00</th>\n",
       "      <td>NaN</td>\n",
       "      <td>NaN</td>\n",
       "      <td>-0.006373</td>\n",
       "      <td>-0.003742</td>\n",
       "      <td>NaN</td>\n",
       "      <td>-0.009369</td>\n",
       "      <td>NaN</td>\n",
       "      <td>-0.007687</td>\n",
       "      <td>NaN</td>\n",
       "      <td>NaN</td>\n",
       "    </tr>\n",
       "    <tr>\n",
       "      <th>2009-07-13 00:00:00+00:00</th>\n",
       "      <td>NaN</td>\n",
       "      <td>NaN</td>\n",
       "      <td>0.018603</td>\n",
       "      <td>0.019955</td>\n",
       "      <td>NaN</td>\n",
       "      <td>0.012140</td>\n",
       "      <td>NaN</td>\n",
       "      <td>0.038504</td>\n",
       "      <td>NaN</td>\n",
       "      <td>NaN</td>\n",
       "    </tr>\n",
       "    <tr>\n",
       "      <th>2009-07-20 00:00:00+00:00</th>\n",
       "      <td>NaN</td>\n",
       "      <td>NaN</td>\n",
       "      <td>0.014112</td>\n",
       "      <td>0.009636</td>\n",
       "      <td>NaN</td>\n",
       "      <td>0.012342</td>\n",
       "      <td>NaN</td>\n",
       "      <td>0.011818</td>\n",
       "      <td>NaN</td>\n",
       "      <td>NaN</td>\n",
       "    </tr>\n",
       "    <tr>\n",
       "      <th>2009-07-27 00:00:00+00:00</th>\n",
       "      <td>NaN</td>\n",
       "      <td>NaN</td>\n",
       "      <td>-0.003066</td>\n",
       "      <td>0.008615</td>\n",
       "      <td>NaN</td>\n",
       "      <td>-0.001024</td>\n",
       "      <td>NaN</td>\n",
       "      <td>0.000027</td>\n",
       "      <td>NaN</td>\n",
       "      <td>NaN</td>\n",
       "    </tr>\n",
       "    <tr>\n",
       "      <th>...</th>\n",
       "      <td>...</td>\n",
       "      <td>...</td>\n",
       "      <td>...</td>\n",
       "      <td>...</td>\n",
       "      <td>...</td>\n",
       "      <td>...</td>\n",
       "      <td>...</td>\n",
       "      <td>...</td>\n",
       "      <td>...</td>\n",
       "      <td>...</td>\n",
       "    </tr>\n",
       "    <tr>\n",
       "      <th>2024-10-14 00:00:00+00:00</th>\n",
       "      <td>-0.002600</td>\n",
       "      <td>0.002182</td>\n",
       "      <td>-0.004249</td>\n",
       "      <td>0.005351</td>\n",
       "      <td>-0.004825</td>\n",
       "      <td>0.001815</td>\n",
       "      <td>-0.001949</td>\n",
       "      <td>-0.000089</td>\n",
       "      <td>0.000180</td>\n",
       "      <td>0.002245</td>\n",
       "    </tr>\n",
       "    <tr>\n",
       "      <th>2024-10-21 00:00:00+00:00</th>\n",
       "      <td>-0.012872</td>\n",
       "      <td>-0.006268</td>\n",
       "      <td>-0.001155</td>\n",
       "      <td>-0.005040</td>\n",
       "      <td>-0.000378</td>\n",
       "      <td>-0.000970</td>\n",
       "      <td>0.000007</td>\n",
       "      <td>-0.000339</td>\n",
       "      <td>0.000061</td>\n",
       "      <td>0.000766</td>\n",
       "    </tr>\n",
       "    <tr>\n",
       "      <th>2024-10-28 00:00:00+00:00</th>\n",
       "      <td>-0.003066</td>\n",
       "      <td>-0.006120</td>\n",
       "      <td>-0.003140</td>\n",
       "      <td>-0.000603</td>\n",
       "      <td>-0.004267</td>\n",
       "      <td>0.003716</td>\n",
       "      <td>-0.003135</td>\n",
       "      <td>-0.002982</td>\n",
       "      <td>-0.002303</td>\n",
       "      <td>-0.000735</td>\n",
       "    </tr>\n",
       "    <tr>\n",
       "      <th>2024-11-04 00:00:00+00:00</th>\n",
       "      <td>0.006614</td>\n",
       "      <td>0.012651</td>\n",
       "      <td>0.010207</td>\n",
       "      <td>0.012448</td>\n",
       "      <td>0.009282</td>\n",
       "      <td>0.008715</td>\n",
       "      <td>0.003753</td>\n",
       "      <td>0.006301</td>\n",
       "      <td>0.007682</td>\n",
       "      <td>0.014077</td>\n",
       "    </tr>\n",
       "    <tr>\n",
       "      <th>2024-11-11 00:00:00+00:00</th>\n",
       "      <td>-0.024779</td>\n",
       "      <td>-0.006788</td>\n",
       "      <td>0.001730</td>\n",
       "      <td>0.003962</td>\n",
       "      <td>0.000523</td>\n",
       "      <td>-0.004052</td>\n",
       "      <td>-0.008456</td>\n",
       "      <td>-0.004648</td>\n",
       "      <td>-0.006615</td>\n",
       "      <td>-0.002012</td>\n",
       "    </tr>\n",
       "  </tbody>\n",
       "</table>\n",
       "<p>719 rows × 10 columns</p>\n",
       "</div>"
      ],
      "text/plain": [
       "                               CURE      DFEN       ERX       FAS      GUSH  \\\n",
       "2009-06-29 00:00:00+00:00       NaN       NaN -0.004906 -0.003187       NaN   \n",
       "2009-07-06 00:00:00+00:00       NaN       NaN -0.006373 -0.003742       NaN   \n",
       "2009-07-13 00:00:00+00:00       NaN       NaN  0.018603  0.019955       NaN   \n",
       "2009-07-20 00:00:00+00:00       NaN       NaN  0.014112  0.009636       NaN   \n",
       "2009-07-27 00:00:00+00:00       NaN       NaN -0.003066  0.008615       NaN   \n",
       "...                             ...       ...       ...       ...       ...   \n",
       "2024-10-14 00:00:00+00:00 -0.002600  0.002182 -0.004249  0.005351 -0.004825   \n",
       "2024-10-21 00:00:00+00:00 -0.012872 -0.006268 -0.001155 -0.005040 -0.000378   \n",
       "2024-10-28 00:00:00+00:00 -0.003066 -0.006120 -0.003140 -0.000603 -0.004267   \n",
       "2024-11-04 00:00:00+00:00  0.006614  0.012651  0.010207  0.012448  0.009282   \n",
       "2024-11-11 00:00:00+00:00 -0.024779 -0.006788  0.001730  0.003962  0.000523   \n",
       "\n",
       "                                LTL      SOXL      TECL      TQQQ      WANT  \n",
       "2009-06-29 00:00:00+00:00 -0.007041       NaN -0.005269       NaN       NaN  \n",
       "2009-07-06 00:00:00+00:00 -0.009369       NaN -0.007687       NaN       NaN  \n",
       "2009-07-13 00:00:00+00:00  0.012140       NaN  0.038504       NaN       NaN  \n",
       "2009-07-20 00:00:00+00:00  0.012342       NaN  0.011818       NaN       NaN  \n",
       "2009-07-27 00:00:00+00:00 -0.001024       NaN  0.000027       NaN       NaN  \n",
       "...                             ...       ...       ...       ...       ...  \n",
       "2024-10-14 00:00:00+00:00  0.001815 -0.001949 -0.000089  0.000180  0.002245  \n",
       "2024-10-21 00:00:00+00:00 -0.000970  0.000007 -0.000339  0.000061  0.000766  \n",
       "2024-10-28 00:00:00+00:00  0.003716 -0.003135 -0.002982 -0.002303 -0.000735  \n",
       "2024-11-04 00:00:00+00:00  0.008715  0.003753  0.006301  0.007682  0.014077  \n",
       "2024-11-11 00:00:00+00:00 -0.004052 -0.008456 -0.004648 -0.006615 -0.002012  \n",
       "\n",
       "[719 rows x 10 columns]"
      ]
     },
     "execution_count": 262,
     "metadata": {},
     "output_type": "execute_result"
    }
   ],
   "source": [
    "adj_returns.loc[weights.index] * weights"
   ]
  },
  {
   "cell_type": "markdown",
   "metadata": {},
   "source": [
    "Inspect the empirical SR and cumulative returns vs. the benchmark"
   ]
  },
  {
   "cell_type": "code",
   "execution_count": 282,
   "metadata": {},
   "outputs": [
    {
     "data": {
      "image/png": "[encoded data removed]",
      "text/plain": [
       "<Figure size 640x480 with 1 Axes>"
      ]
     },
     "metadata": {},
     "output_type": "display_data"
    },
    {
     "data": {
      "image/png": "[encoded data removed]",
      "text/plain": [
       "<Figure size 640x480 with 1 Axes>"
      ]
     },
     "metadata": {},
     "output_type": "display_data"
    },
    {
     "data": {
      "text/plain": [
       "(0.8424393288406008, 0.2883600319526809)"
      ]
     },
     "execution_count": 282,
     "metadata": {},
     "output_type": "execute_result"
    }
   ],
   "source": [
    "portfolo_returns = (adj_returns.loc[weights.index] * weights).sum(axis=1)\n",
    "\n",
    "portfolo_returns.plot()\n",
    "plt.show()\n",
    "\n",
    "(1 + portfolo_returns).cumprod().plot()\n",
    "plt.show()\n",
    "\n",
    "portfolo_returns.mean() / portfolo_returns.std() * np.sqrt(52), portfolo_returns.std() * np.sqrt(52)"
   ]
  },
  {
   "cell_type": "code",
   "execution_count": 268,
   "metadata": {},
   "outputs": [
    {
     "data": {
      "text/plain": [
       "(Ticker\n",
       " SPY    0.969727\n",
       " dtype: float64,\n",
       " Ticker\n",
       " SPY    0.160399\n",
       " dtype: float64)"
      ]
     },
     "execution_count": 268,
     "metadata": {},
     "output_type": "execute_result"
    },
    {
     "data": {
      "image/png": "[encoded data removed]",
      "text/plain": [
       "<Figure size 640x480 with 1 Axes>"
      ]
     },
     "metadata": {},
     "output_type": "display_data"
    }
   ],
   "source": [
    "# Fetch historical data\n",
    "spy_returns = yf.download(\"SPY\", period=\"max\", progress=False, interval=\"1wk\")[\"Adj Close\"].pct_change().loc[weights.index]\n",
    "\n",
    "(1 + spy_returns).cumprod().plot()\n",
    "spy_returns.mean() / spy_returns.std() * np.sqrt(52), spy_returns.std() * np.sqrt(52)"
   ]
  },
  {
   "cell_type": "code",
   "execution_count": 277,
   "metadata": {},
   "outputs": [
    {
     "data": {
      "text/plain": [
       "(Ticker\n",
       " SPUU    0.622595\n",
       " dtype: float64,\n",
       " Ticker\n",
       " SPUU    0.334675\n",
       " dtype: float64)"
      ]
     },
     "execution_count": 277,
     "metadata": {},
     "output_type": "execute_result"
    }
   ],
   "source": [
    "spuu = yf.download(\"SPUU\", period=\"max\", progress=False, interval=\"1wk\")[\"Close\"].pct_change()\n",
    "\n",
    "spuu.mean() / spuu.std() * np.sqrt(52), spuu.std() * np.sqrt(52)"
   ]
  },
  {
   "cell_type": "code",
   "execution_count": 285,
   "metadata": {},
   "outputs": [
    {
     "data": {
      "text/plain": [
       "(Ticker\n",
       " SPUU    0.719978\n",
       " dtype: float64,\n",
       " Ticker\n",
       " SPUU    0.344324\n",
       " dtype: float64)"
      ]
     },
     "execution_count": 285,
     "metadata": {},
     "output_type": "execute_result"
    }
   ],
   "source": [
    "spuu = yf.download(\"SPUU\", period=\"max\", progress=False, interval=\"1wk\")[\"Adj Close\"].pct_change()\n",
    "spuu = spuu.loc[spuu.index.intersection(weights.index)]\n",
    "spuu.mean() / spuu.std() * np.sqrt(52), spuu.std() * np.sqrt(52)"
   ]
  },
  {
   "cell_type": "code",
   "execution_count": 286,
   "metadata": {},
   "outputs": [
    {
     "data": {
      "text/plain": [
       "<Axes: >"
      ]
     },
     "execution_count": 286,
     "metadata": {},
     "output_type": "execute_result"
    },
    {
     "data": {
      "image/png": "[encoded data removed]",
      "text/plain": [
       "<Figure size 640x480 with 1 Axes>"
      ]
     },
     "metadata": {},
     "output_type": "display_data"
    }
   ],
   "source": [
    "(1 + spuu).cumprod().plot()"
   ]
  },
  {
   "cell_type": "code",
   "execution_count": 290,
   "metadata": {},
   "outputs": [
    {
     "data": {
      "text/plain": [
       "0.6130685645803963"
      ]
     },
     "execution_count": 290,
     "metadata": {},
     "output_type": "execute_result"
    },
    {
     "data": {
      "image/png": "[encoded data removed]",
      "text/plain": [
       "<Figure size 640x480 with 1 Axes>"
      ]
     },
     "metadata": {},
     "output_type": "display_data"
    }
   ],
   "source": [
    "(1 + portfolo_returns.loc[spuu.index.intersection(weights.index)]).cumprod().plot()\n",
    "portfolo_returns.loc[spuu.index.intersection(weights.index)].mean() /  portfolo_returns.loc[spuu.index.intersection(weights.index)].std() * np.sqrt(52)"
   ]
  },
  {
   "cell_type": "code",
   "execution_count": 292,
   "metadata": {},
   "outputs": [
    {
     "data": {
      "text/plain": [
       "Ticker\n",
       "SPY    0.813835\n",
       "dtype: float64"
      ]
     },
     "execution_count": 292,
     "metadata": {},
     "output_type": "execute_result"
    },
    {
     "data": {
      "image/png": "[encoded data removed]",
      "text/plain": [
       "<Figure size 640x480 with 1 Axes>"
      ]
     },
     "metadata": {},
     "output_type": "display_data"
    }
   ],
   "source": [
    "(1 + spy_returns.loc[spuu.index.intersection(weights.index)]).cumprod().plot()\n",
    "spy_returns.loc[spuu.index.intersection(weights.index)].mean() /  spy_returns.loc[spuu.index.intersection(weights.index)].std() * np.sqrt(52)"
   ]
  },
  {
   "cell_type": "code",
   "execution_count": 269,
   "metadata": {},
   "outputs": [
    {
     "data": {
      "text/plain": [
       "Ticker\n",
       "SPY    0.160399\n",
       "dtype: float64"
      ]
     },
     "execution_count": 269,
     "metadata": {},
     "output_type": "execute_result"
    }
   ],
   "source": [
    "spy_returns.std() * np.sqrt(52)"
   ]
  },
  {
   "cell_type": "code",
   "execution_count": 270,
   "metadata": {},
   "outputs": [
    {
     "data": {
      "text/plain": [
       "Ticker\n",
       "SPY    0.153054\n",
       "Name: 2024-11-11 00:00:00+00:00, dtype: float64"
      ]
     },
     "execution_count": 270,
     "metadata": {},
     "output_type": "execute_result"
    }
   ],
   "source": [
    "(1 + spy_returns).cumprod().iloc[-1] ** (52 / len(spy_returns)) - 1"
   ]
  },
  {
   "cell_type": "markdown",
   "metadata": {},
   "source": [
    "High annualized volatility, despite the lack of leverage, indicates strong capital efficiency "
   ]
  },
  {
   "cell_type": "code",
   "execution_count": 271,
   "metadata": {},
   "outputs": [
    {
     "data": {
      "text/plain": [
       "0.2883600319526809"
      ]
     },
     "execution_count": 271,
     "metadata": {},
     "output_type": "execute_result"
    }
   ],
   "source": [
    "portfolo_returns.std() * np.sqrt(52)"
   ]
  },
  {
   "cell_type": "markdown",
   "metadata": {},
   "source": [
    "Strong CAGR to accompany the high volatility and SR"
   ]
  },
  {
   "cell_type": "code",
   "execution_count": 272,
   "metadata": {},
   "outputs": [
    {
     "data": {
      "text/plain": [
       "15.97630316616557"
      ]
     },
     "execution_count": 272,
     "metadata": {},
     "output_type": "execute_result"
    }
   ],
   "source": [
    "(1 + portfolo_returns).cumprod().iloc[-1]"
   ]
  },
  {
   "cell_type": "code",
   "execution_count": 273,
   "metadata": {},
   "outputs": [
    {
     "data": {
      "text/plain": [
       "0.22190831244577947"
      ]
     },
     "execution_count": 273,
     "metadata": {},
     "output_type": "execute_result"
    }
   ],
   "source": [
    "(1 + portfolo_returns).cumprod().iloc[-1] ** (52 / len(portfolo_returns)) - 1"
   ]
  },
  {
   "cell_type": "code",
   "execution_count": 274,
   "metadata": {},
   "outputs": [
    {
     "data": {
      "text/plain": [
       "15.976303166165591"
      ]
     },
     "execution_count": 274,
     "metadata": {},
     "output_type": "execute_result"
    }
   ],
   "source": [
    "((1 + portfolo_returns).cumprod().iloc[-1] ** (52 / len(portfolo_returns)))** (len(portfolo_returns) / 52)"
   ]
  },
  {
   "cell_type": "code",
   "execution_count": 275,
   "metadata": {},
   "outputs": [
    {
     "data": {
      "text/plain": [
       "0.003861548702294826"
      ]
     },
     "execution_count": 275,
     "metadata": {},
     "output_type": "execute_result"
    }
   ],
   "source": [
    "(1 + portfolo_returns).cumprod().iloc[-1] ** (1 / len(portfolo_returns)) - 1"
   ]
  },
  {
   "cell_type": "code",
   "execution_count": 276,
   "metadata": {},
   "outputs": [
    {
     "data": {
      "text/plain": [
       "15.97630316616618"
      ]
     },
     "execution_count": 276,
     "metadata": {},
     "output_type": "execute_result"
    }
   ],
   "source": [
    "((1 + portfolo_returns).cumprod().iloc[-1] ** (1 / len(portfolo_returns))) ** len(portfolo_returns)"
   ]
  },
  {
   "cell_type": "code",
   "execution_count": null,
   "metadata": {},
   "outputs": [],
   "source": []
  },
  {
   "cell_type": "code",
   "execution_count": 294,
   "metadata": {},
   "outputs": [
    {
     "data": {
      "text/plain": [
       "array([ 0.09635437,  0.08632882,  0.08837133,  0.05936581,  0.04552102,\n",
       "        0.08059958, -0.00184435,  0.08227097,  0.11918509,  0.11110756])"
      ]
     },
     "execution_count": 294,
     "metadata": {},
     "output_type": "execute_result"
    }
   ],
   "source": [
    "alphas = np.random.normal(loc=0.10, scale=0.05, size=10)\n",
    "alphas"
   ]
  },
  {
   "cell_type": "code",
   "execution_count": 312,
   "metadata": {},
   "outputs": [
    {
     "data": {
      "text/plain": [
       "(array([ 0.17664736,  1.97174118,  0.61631735,  1.47635998,  0.99143868,\n",
       "         0.49014328, -0.01323227, -0.17911384,  0.55735932,  0.17370512]),\n",
       " array([0.51668539, 1.44897416, 0.82518728, 0.93104702, 1.25904084,\n",
       "        0.3629249 , 1.08189733, 0.48151564, 0.92000426, 0.54584618]))"
      ]
     },
     "execution_count": 312,
     "metadata": {},
     "output_type": "execute_result"
    }
   ],
   "source": [
    "w = np.array([1/10] * 10)\n",
    "C = simulate_covariance_matrix(n=10)\n",
    "C_shrunken = np.diag(C) * np.identity(n=10)\n",
    "w.T.dot(C), w.T.dot(C_shrunken)"
   ]
  },
  {
   "cell_type": "code",
   "execution_count": 313,
   "metadata": {},
   "outputs": [
    {
     "data": {
      "text/plain": [
       "<Axes: >"
      ]
     },
     "execution_count": 313,
     "metadata": {},
     "output_type": "execute_result"
    },
    {
     "data": {
      "image/png": "[encoded data removed]",
      "text/plain": [
       "<Figure size 640x480 with 1 Axes>"
      ]
     },
     "metadata": {},
     "output_type": "display_data"
    }
   ],
   "source": [
    "pd.Series(np.diag(pd.DataFrame(C))).plot(kind=\"bar\")"
   ]
  },
  {
   "cell_type": "code",
   "execution_count": 327,
   "metadata": {},
   "outputs": [
    {
     "data": {
      "text/plain": [
       "<Axes: >"
      ]
     },
     "execution_count": 327,
     "metadata": {},
     "output_type": "execute_result"
    },
    {
     "data": {
      "image/png": "[encoded data removed]",
      "text/plain": [
       "<Figure size 640x480 with 1 Axes>"
      ]
     },
     "metadata": {},
     "output_type": "display_data"
    }
   ],
   "source": [
    "pd.Series(alphas).plot(kind=\"bar\")"
   ]
  },
  {
   "cell_type": "code",
   "execution_count": 323,
   "metadata": {},
   "outputs": [
    {
     "data": {
      "text/plain": [
       "array([ 0.21769913,  0.0850035 , -0.06343307, -0.30507423,  0.06670182,\n",
       "       -0.15084238, -0.10089648,  0.22160555,  0.53998965,  0.48924651])"
      ]
     },
     "execution_count": 323,
     "metadata": {},
     "output_type": "execute_result"
    }
   ],
   "source": [
    "np.linalg.inv(C).dot(alphas) / np.sum(np.linalg.inv(C).dot(alphas))"
   ]
  },
  {
   "cell_type": "code",
   "execution_count": 324,
   "metadata": {},
   "outputs": [
    {
     "data": {
      "text/plain": [
       "array([ 0.15838607,  0.05060191,  0.09095585,  0.05415474,  0.03070746,\n",
       "        0.18862   , -0.00144787,  0.14511354,  0.11002816,  0.17288014])"
      ]
     },
     "execution_count": 324,
     "metadata": {},
     "output_type": "execute_result"
    }
   ],
   "source": [
    "np.linalg.inv(C_shrunken).dot(alphas) / np.sum(np.linalg.inv(C_shrunken).dot(alphas))"
   ]
  },
  {
   "cell_type": "code",
   "execution_count": 325,
   "metadata": {},
   "outputs": [
    {
     "data": {
      "text/plain": [
       "array([ 0.1555464 , -0.0088533 ,  0.04063834, -0.26425684,  0.12244199,\n",
       "       -0.04084441,  0.041966  ,  0.02614744,  0.47206401,  0.45515037])"
      ]
     },
     "execution_count": 325,
     "metadata": {},
     "output_type": "execute_result"
    }
   ],
   "source": [
    "np.linalg.inv(C).dot(np.ones(n)) / np.sum(np.linalg.inv(C).dot(np.ones(n)))"
   ]
  },
  {
   "cell_type": "markdown",
   "metadata": {},
   "source": [
    "When accounting for expected returns in portfolio optimization, we must take into consideration the impact of heterogeneous return expectations for highly correlated assets.\n",
    "\n",
    "For example, let stock A and stock B have expected returns of 0.10 and 0.12 respectively. Assume they are perfectly correlated with equal variance. In this scenario, for a max SR optimization, this looks like a pure arbitrage. The optimization algorithm will attempt to long stock B and short stock A since they have a 0.02 expected return differential, but equal risk properties. \n",
    "\n",
    "In reality, as a PM, a more intuitive approach is to equally weight these stocks as there is no statistically or economically significant differential in their behavior. In other words, this is only a noisy statistical arbitrage, not an economically meaningful arbitrage that we can trust. \n",
    "\n",
    "This begs the question, under what conditions do we trust these statistical arbitrages?\n",
    "\n",
    "I'd argue that creating some proxy for statistical significance in expected return discrepancies would serve to mitigate the instability and arbitrage hunting nature of MVO.\n",
    "\n",
    "Given a sufficient proxy, this would allow the optimization process to navigate the spectrum of statistical arbitrage and equal weight allocation decisions.\n",
    "\n",
    "As a numerical example, refer to the following experiment below:"
   ]
  },
  {
   "cell_type": "code",
   "execution_count": 350,
   "metadata": {},
   "outputs": [],
   "source": [
    "stock_a_alpha = 0.10\n",
    "stock_b_alpha = 0.12\n",
    "alphas = np.array(\n",
    "    [\n",
    "        [stock_a_alpha], \n",
    "        [stock_b_alpha]\n",
    "    ]\n",
    ")\n",
    "cov = np.array(\n",
    "    [\n",
    "        [0.01, 0.01 * 0.95],\n",
    "        [0.01 * 0.95, 0.01]\n",
    "    ]\n",
    ")\n",
    "shrunken_cov = np.array(\n",
    "    [\n",
    "        [0.01, 0],\n",
    "        [0, 0.01]\n",
    "    ]\n",
    ")\n",
    "equal_shrunken_cov = np.array(\n",
    "    [\n",
    "        [0.01, 0.01 * 0.5],\n",
    "        [0.01 * 0.5, 0.01]\n",
    "    ]\n",
    ")"
   ]
  },
  {
   "cell_type": "code",
   "execution_count": 347,
   "metadata": {},
   "outputs": [
    {
     "data": {
      "text/plain": [
       "array([[-1.27272727],\n",
       "       [ 2.27272727]])"
      ]
     },
     "execution_count": 347,
     "metadata": {},
     "output_type": "execute_result"
    }
   ],
   "source": [
    "np.dot(np.linalg.inv(cov), alphas) / np.sum(np.dot(np.linalg.inv(cov), alphas))"
   ]
  },
  {
   "cell_type": "code",
   "execution_count": 348,
   "metadata": {},
   "outputs": [
    {
     "data": {
      "text/plain": [
       "array([[0.45454545],\n",
       "       [0.54545455]])"
      ]
     },
     "execution_count": 348,
     "metadata": {},
     "output_type": "execute_result"
    }
   ],
   "source": [
    "np.dot(np.linalg.inv(shrunken_cov), alphas) / np.sum(np.dot(np.linalg.inv(shrunken_cov), alphas))"
   ]
  },
  {
   "cell_type": "code",
   "execution_count": 351,
   "metadata": {},
   "outputs": [
    {
     "data": {
      "text/plain": [
       "array([[0.36363636],\n",
       "       [0.63636364]])"
      ]
     },
     "execution_count": 351,
     "metadata": {},
     "output_type": "execute_result"
    }
   ],
   "source": [
    "np.dot(np.linalg.inv(equal_shrunken_cov), alphas) / np.sum(np.dot(np.linalg.inv(equal_shrunken_cov), alphas))"
   ]
  },
  {
   "cell_type": "code",
   "execution_count": 345,
   "metadata": {},
   "outputs": [
    {
     "data": {
      "text/plain": [
       "array([[-0.40909091],\n",
       "       [ 1.40909091]])"
      ]
     },
     "execution_count": 345,
     "metadata": {},
     "output_type": "execute_result"
    }
   ],
   "source": [
    "np.dot(np.linalg.inv(cov), alphas) / np.sum(np.dot(np.linalg.inv(cov), alphas)) * 0.5 + np.dot(np.linalg.inv(shrunken_cov), alphas) / np.sum(np.dot(np.linalg.inv(shrunken_cov), alphas)) * 0.5"
   ]
  },
  {
   "cell_type": "code",
   "execution_count": null,
   "metadata": {},
   "outputs": [],
   "source": []
  },
  {
   "cell_type": "markdown",
   "metadata": {},
   "source": [
    "Optimize an equity, trend, and market-neutral portfolio"
   ]
  },
  {
   "cell_type": "code",
   "execution_count": 600,
   "metadata": {},
   "outputs": [
    {
     "data": {
      "text/plain": [
       "array([[0.04   , 0.0075 , 0.001  ],\n",
       "       [0.0075 , 0.0225 , 0.00375],\n",
       "       [0.001  , 0.00375, 0.01   ]])"
      ]
     },
     "execution_count": 600,
     "metadata": {},
     "output_type": "execute_result"
    }
   ],
   "source": [
    "covariance_matrix = np.array(\n",
    "    [[0.20 ** 2,          0.25 * 0.15 * 0.20, 0.05 * 0.10 * 0.20],\n",
    "     [0.25 * 0.15 * 0.20, 0.15 ** 2,          0.25 * 0.10 * 0.15],\n",
    "     [0.05 * 0.10 * 0.20, 0.25 * 0.10 * 0.15, 0.10 ** 2]\n",
    "    ]\n",
    ")\n",
    "covariance_matrix"
   ]
  },
  {
   "cell_type": "code",
   "execution_count": 602,
   "metadata": {},
   "outputs": [
    {
     "data": {
      "text/plain": [
       "array([[0.14006868],\n",
       "       [0.17856497],\n",
       "       [0.68136635]])"
      ]
     },
     "execution_count": 602,
     "metadata": {},
     "output_type": "execute_result"
    }
   ],
   "source": [
    "expected_returns = np.array([[0.05], [0.05], [0.05]])\n",
    "\n",
    "weights = np.dot(np.linalg.inv(covariance_matrix), expected_returns) / np.dot(np.linalg.inv(covariance_matrix), expected_returns).sum()\n",
    "weights"
   ]
  },
  {
   "cell_type": "code",
   "execution_count": 603,
   "metadata": {},
   "outputs": [
    {
     "data": {
      "text/plain": [
       "array([[0.05]])"
      ]
     },
     "execution_count": 603,
     "metadata": {},
     "output_type": "execute_result"
    }
   ],
   "source": [
    "np.dot(np.transpose(expected_returns), weights)"
   ]
  },
  {
   "cell_type": "code",
   "execution_count": 604,
   "metadata": {},
   "outputs": [
    {
     "data": {
      "text/plain": [
       "array([[0.0873118]])"
      ]
     },
     "execution_count": 604,
     "metadata": {},
     "output_type": "execute_result"
    }
   ],
   "source": [
    "np.dot(np.dot(np.transpose(weights), covariance_matrix), weights) ** 0.5"
   ]
  },
  {
   "cell_type": "code",
   "execution_count": 605,
   "metadata": {},
   "outputs": [
    {
     "data": {
      "text/plain": [
       "array([[0.15]])"
      ]
     },
     "execution_count": 605,
     "metadata": {},
     "output_type": "execute_result"
    }
   ],
   "source": [
    "practical_weights = [[2.00], [0.25], [0.75]]\n",
    "np.dot(np.transpose(expected_returns), practical_weights)"
   ]
  },
  {
   "cell_type": "code",
   "execution_count": 606,
   "metadata": {},
   "outputs": [
    {
     "data": {
      "text/plain": [
       "array([[0.42301005]])"
      ]
     },
     "execution_count": 606,
     "metadata": {},
     "output_type": "execute_result"
    }
   ],
   "source": [
    "np.dot(np.dot(np.transpose(practical_weights), covariance_matrix), practical_weights) ** 0.5"
   ]
  },
  {
   "cell_type": "code",
   "execution_count": 607,
   "metadata": {},
   "outputs": [
    {
     "data": {
      "text/plain": [
       "array([[0.06053125]])"
      ]
     },
     "execution_count": 607,
     "metadata": {},
     "output_type": "execute_result"
    }
   ],
   "source": [
    "np.dot(np.transpose(expected_returns), practical_weights) - 0.5 * np.dot(np.dot(np.transpose(practical_weights), covariance_matrix), practical_weights)"
   ]
  },
  {
   "cell_type": "code",
   "execution_count": 626,
   "metadata": {},
   "outputs": [
    {
     "data": {
      "image/png": "[encoded data removed]",
      "text/plain": [
       "<Figure size 640x480 with 1 Axes>"
      ]
     },
     "metadata": {},
     "output_type": "display_data"
    }
   ],
   "source": [
    "def constrained_max_cagr_optimizer(\n",
    "    expected_returns: np.ndarray,\n",
    "    covariance_matrix: np.ndarray, \n",
    "    weights: np.ndarray, \n",
    "    learning_rate: float = 0.001,\n",
    "    n_iterations: int = 1_000_000,\n",
    "    penalty_0: float = 0.0001,\n",
    "    penalty_1: float = 0.0001,\n",
    "    penalty_2: float = 0.0001,\n",
    "    penalty_3: float = 0.0001\n",
    ") -> np.ndarray:\n",
    "\n",
    "    penalty_vector: np.ndarray = np.array(\n",
    "        [\n",
    "            [penalty_0], \n",
    "            [penalty_1], \n",
    "            [penalty_2]\n",
    "        ]\n",
    "    )\n",
    "\n",
    "    weights_evolution: Dict = {}\n",
    "    objective_evolution: np.ndarray = np.empty(shape=n_iterations)\n",
    "        \n",
    "    for i in range(n_iterations):\n",
    "\n",
    "        # Implement the log barrier objective method to maintain long-only exposures - as weights approach 0, the log penalty approaches infinity\n",
    "        objective_evolution[i] = 0.5 * np.dot(np.dot(np.transpose(weights), covariance_matrix), weights)[0][0] - np.dot(np.transpose(expected_returns), weights)[0][0]\n",
    "\n",
    "        constrained_objective = (\n",
    "            0.5 * np.dot(np.dot(np.transpose(weights), covariance_matrix), weights)[0][0] \n",
    "            - np.dot(np.transpose(expected_returns), weights)[0][0]\n",
    "            - penalty_0 * np.log(3 - weights[0][0])                  # at most 3x market \n",
    "            - penalty_1 * np.log(1 - weights[1][0] - weights[2][0])  # at most 1x trend + emn\n",
    "            - penalty_3 * np.sum(np.log(weights))                    # long-only\n",
    "        )\n",
    "\n",
    "        gradient = np.dot(covariance_matrix, weights) - expected_returns + penalty_vector * np.array([[1 / (3 - weights[0][0])], [1 / (1 - weights[1][0] - weights[2][0])], [1 / (1 - weights[1][0] - weights[2][0])]]) - penalty_3 * 1 / weights\n",
    "        \n",
    "        weights -= learning_rate * gradient\n",
    "        \n",
    "        weights_evolution[i] = weights\n",
    "\n",
    "    optimal_weights = weights_evolution[np.argmin(objective_evolution)]\n",
    "\n",
    "    pd.Series(objective_evolution).plot()\n",
    "    \n",
    "    return optimal_weights\n",
    "\n",
    "max_cagr_weights = constrained_max_cagr_optimizer(expected_returns=expected_returns, covariance_matrix=covariance_matrix, weights=np.array([1 / 3] * 3).reshape(-1, 1))"
   ]
  },
  {
   "cell_type": "code",
   "execution_count": 627,
   "metadata": {},
   "outputs": [
    {
     "data": {
      "text/plain": [
       "array([[1.21973074],\n",
       "       [0.03679067],\n",
       "       [0.96065439]])"
      ]
     },
     "execution_count": 627,
     "metadata": {},
     "output_type": "execute_result"
    }
   ],
   "source": [
    "max_cagr_weights"
   ]
  },
  {
   "cell_type": "code",
   "execution_count": 612,
   "metadata": {},
   "outputs": [
    {
     "data": {
      "text/plain": [
       "array([0.25])"
      ]
     },
     "execution_count": 612,
     "metadata": {},
     "output_type": "execute_result"
    }
   ],
   "source": [
    "np.dot(np.transpose(expected_returns), max_cagr_weights) / np.sqrt(np.dot(np.dot(np.transpose(max_cagr_weights), covariance_matrix), max_cagr_weights))"
   ]
  },
  {
   "cell_type": "code",
   "execution_count": 613,
   "metadata": {},
   "outputs": [
    {
     "data": {
      "text/plain": [
       "array([[1.53862795]])"
      ]
     },
     "execution_count": 613,
     "metadata": {},
     "output_type": "execute_result"
    }
   ],
   "source": [
    "np.dot(np.transpose(expected_returns), max_cagr_weights) / np.dot(np.dot(np.transpose(max_cagr_weights), covariance_matrix), max_cagr_weights)"
   ]
  },
  {
   "cell_type": "code",
   "execution_count": 524,
   "metadata": {},
   "outputs": [
    {
     "data": {
      "text/plain": [
       "array([[0.        ],\n",
       "       [1.12106918],\n",
       "       [3.11014177]])"
      ]
     },
     "execution_count": 524,
     "metadata": {},
     "output_type": "execute_result"
    }
   ],
   "source": [
    "np.array([[0], [1 / (1 - weights[1][0])], [1 / (1 - weights[2][0])]])"
   ]
  },
  {
   "cell_type": "code",
   "execution_count": 521,
   "metadata": {},
   "outputs": [
    {
     "data": {
      "text/plain": [
       "array([[ 1.44384741e+00],\n",
       "       [-4.84045154e-04],\n",
       "       [-4.88036263e-04]])"
      ]
     },
     "execution_count": 521,
     "metadata": {},
     "output_type": "execute_result"
    }
   ],
   "source": [
    "max_cagr_weights"
   ]
  },
  {
   "cell_type": "code",
   "execution_count": 474,
   "metadata": {},
   "outputs": [
    {
     "data": {
      "text/plain": [
       "0.3333333333333333"
      ]
     },
     "execution_count": 474,
     "metadata": {},
     "output_type": "execute_result"
    }
   ],
   "source": [
    "np.array([1 / 3] * 3).reshape(-1, 1)[1][0]"
   ]
  },
  {
   "cell_type": "code",
   "execution_count": 452,
   "metadata": {},
   "outputs": [
    {
     "data": {
      "text/plain": [
       "-0.6931471805599453"
      ]
     },
     "execution_count": 452,
     "metadata": {},
     "output_type": "execute_result"
    }
   ],
   "source": [
    "np.log(0.5)"
   ]
  },
  {
   "cell_type": "code",
   "execution_count": 453,
   "metadata": {},
   "outputs": [
    {
     "data": {
      "text/plain": [
       "-9.210340371976182"
      ]
     },
     "execution_count": 453,
     "metadata": {},
     "output_type": "execute_result"
    }
   ],
   "source": [
    "np.log(0.0001)"
   ]
  }
 ],
 "metadata": {
  "kernelspec": {
   "display_name": "quant_research",
   "language": "python",
   "name": "python3"
  },
  "language_info": {
   "codemirror_mode": {
    "name": "ipython",
    "version": 3
   },
   "file_extension": ".py",
   "mimetype": "text/x-python",
   "name": "python",
   "nbconvert_exporter": "python",
   "pygments_lexer": "ipython3",
   "version": "3.12.3"
  }
 },
 "nbformat": 4,
 "nbformat_minor": 2
}

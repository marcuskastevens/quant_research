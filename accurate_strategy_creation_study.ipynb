{
 "cells": [
  {
   "attachments": {},
   "cell_type": "markdown",
   "metadata": {},
   "source": [
    "# How to Implement a Quantitative Signal:\n",
    "\n",
    "- This study accounts for common shortfalls and dire mistakes junior quants make when creating an Alpha\n",
    "\n",
    "- These mistakes result in significant bias in backtesting, systemic risk in portfolio construction, & overall inaccurate performance results\n",
    "\n",
    "- Principle of these mistakes is not accounting for the real-life delay in capturing a signal (i.e., you enter a position after, not simultaneously to the signal)"
   ]
  },
  {
   "cell_type": "code",
   "execution_count": 2,
   "metadata": {},
   "outputs": [],
   "source": [
    "import pickle \n",
    "import numpy as np\n",
    "import pandas as pd\n",
    "import datetime as dt\n",
    "import yfinance as yf\n",
    "import matplotlib.pyplot as plt\n",
    "\n",
    "from backtest_tools import portfolio_tools as pt, risk_analysis as ra"
   ]
  },
  {
   "cell_type": "code",
   "execution_count": 3,
   "metadata": {},
   "outputs": [
    {
     "name": "stdout",
     "output_type": "stream",
     "text": [
      "[*********************100%***********************]  1 of 1 completed\n"
     ]
    }
   ],
   "source": [
    "# Define investment universe of ETFs\n",
    "assets = ['SPY']\n",
    "\n",
    "# Returns of opening prices\n",
    "open_asset_returns = pd.DataFrame()\n",
    "# Returns of close prices\n",
    "close_asset_returns = pd.DataFrame()\n",
    "\n",
    "i = 0\n",
    "for ticker in assets:\n",
    "    prices = yf.download(ticker, start='1980-01-01', end=dt.date.today())\n",
    "    \n",
    "    # Get i'th asset's returns\n",
    "    close_rets = prices['Adj Close'].pct_change().dropna()\n",
    "    close_rets = close_rets.rename(ticker)\n",
    "    open_rets = prices['Open'].pct_change().dropna()\n",
    "    open_rets = open_rets.rename(ticker)\n",
    "\n",
    "    close_asset_returns = pd.concat([close_asset_returns, close_rets], axis=1)\n",
    "    open_asset_returns = pd.concat([open_asset_returns, open_rets], axis=1)"
   ]
  },
  {
   "cell_type": "code",
   "execution_count": 4,
   "metadata": {},
   "outputs": [],
   "source": [
    "universe = ['SPY']\n",
    "\n",
    "# Get Close Returns\n",
    "returns = close_asset_returns[universe]\n",
    "open_returns = open_asset_returns[universe]"
   ]
  },
  {
   "attachments": {},
   "cell_type": "markdown",
   "metadata": {},
   "source": [
    "Accurate Implementation of Strategy with Proper Offsetting - Accounts for Implementation Shortfall & Delay on Positioning"
   ]
  },
  {
   "cell_type": "code",
   "execution_count": 5,
   "metadata": {},
   "outputs": [],
   "source": [
    "# Get dates where price is > 200 day moving average\n",
    "long_dates = (pt.cumulative_returns(returns) > pt.cumulative_returns(returns).rolling(200).mean())\n",
    "\n",
    "# Place binary \"buy\" position two days after signal... this captures the opening price returns for when the trade would be executed (two days after open price / one day after open price - 1)\n",
    "buy_open_return_dates = long_dates.where((long_dates.SPY == True) & (long_dates.SPY.shift(1) == False)).shift(2) \n",
    "\n",
    "# Place binary \"sell\" signal two days after signal... longs will be closed the next moring, and there will be no position two days later\n",
    "sell_open_return_dates = long_dates.where((long_dates.SPY == False) & (long_dates.SPY.shift(1) == True)).shift(2) \n",
    "\n",
    "# Strategy positions equate to shifting our long_dates up by two \n",
    "position_indicators = long_dates.SPY.shift(2)\n",
    "position_indicators.iloc[np.where(position_indicators == True)] = 1\n",
    "position_indicators.iloc[np.where(position_indicators == False)] = 0\n",
    "position_indicators.dropna(inplace=True)"
   ]
  },
  {
   "attachments": {},
   "cell_type": "markdown",
   "metadata": {},
   "source": [
    "200 Day Moving Average Strategy Generates Long Signal as of 2023-03-21"
   ]
  },
  {
   "cell_type": "code",
   "execution_count": 6,
   "metadata": {},
   "outputs": [
    {
     "data": {
      "text/plain": [
       "1993-02-03    0\n",
       "1993-02-04    0\n",
       "1993-02-05    0\n",
       "1993-02-08    0\n",
       "1993-02-09    0\n",
       "             ..\n",
       "2023-03-27    1\n",
       "2023-03-28    1\n",
       "2023-03-29    1\n",
       "2023-03-30    1\n",
       "2023-03-31    1\n",
       "Name: SPY, Length: 7595, dtype: object"
      ]
     },
     "execution_count": 6,
     "metadata": {},
     "output_type": "execute_result"
    }
   ],
   "source": [
    "position_indicators"
   ]
  }
 ],
 "metadata": {
  "kernelspec": {
   "display_name": "Python 3",
   "language": "python",
   "name": "python3"
  },
  "language_info": {
   "codemirror_mode": {
    "name": "ipython",
    "version": 3
   },
   "file_extension": ".py",
   "mimetype": "text/x-python",
   "name": "python",
   "nbconvert_exporter": "python",
   "pygments_lexer": "ipython3",
   "version": "3.7.9"
  },
  "orig_nbformat": 4
 },
 "nbformat": 4,
 "nbformat_minor": 2
}

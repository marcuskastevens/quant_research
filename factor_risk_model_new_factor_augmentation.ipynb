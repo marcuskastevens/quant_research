{
 "cells": [
  {
   "cell_type": "code",
   "execution_count": 16,
   "metadata": {},
   "outputs": [
    {
     "name": "stdout",
     "output_type": "stream",
     "text": [
      "[[ 1.     -0.2236 -0.2887 -0.4082 -0.7071]\n",
      " [ 1.      0.8944  0.     -0.     -0.    ]\n",
      " [ 1.     -0.2236  0.866   0.      0.    ]\n",
      " [ 1.     -0.2236 -0.2887  0.8165 -0.    ]\n",
      " [ 1.     -0.2236 -0.2887 -0.4082  0.7071]]\n",
      "Transformation matrix T:\n",
      " [[ 1.     -0.2236 -0.2887 -0.4082 -0.7071]\n",
      " [ 1.      0.8944  0.     -0.     -0.    ]\n",
      " [ 1.     -0.2236  0.866   0.      0.    ]\n",
      " [ 1.     -0.2236 -0.2887  0.8165 -0.    ]\n",
      " [ 1.     -0.2236 -0.2887 -0.4082  0.7071]]\n",
      "Old F:\n",
      " [[ 6.4321 -0.4109  1.8228 -0.5361  3.0964]\n",
      " [-0.4109  8.397  -0.0347 -1.0842 -2.1113]\n",
      " [ 1.8228 -0.0347  5.0954  1.2112 -2.2113]\n",
      " [-0.5361 -1.0842  1.2112  2.1838  0.9606]\n",
      " [ 3.0964 -2.1113 -2.2113  0.9606  7.9724]]\n",
      "New F:\n",
      " [[31.4854 -1.7232 -0.9227 -5.1604 -1.9074]\n",
      " [-1.7232  9.6926  1.3366  1.3154 -0.9178]\n",
      " [-0.9227  1.3366  5.3793  2.8564 -3.0903]\n",
      " [-5.1604  1.3154  2.8564  4.6057  0.4195]\n",
      " [-1.9074 -0.9178 -3.0903  0.4195  4.1059]]\n",
      "Old portfolio variance: 151.6080983554587\n",
      "New portfolio variance: 3858.646691549563\n"
     ]
    }
   ],
   "source": [
    "import numpy as np\n",
    "\n",
    "def build_rotation_matrix(X: np.ndarray, F: np.ndarray, K: float, L: float):\n",
    "    \"\"\"\n",
    "    We have K=3 industries, L=2 styles => total dim=5.\n",
    "    We'll REPLACE old factor #0 (Industry0) with 'Market' = average of [Ind0, Ind1, Ind2],\n",
    "    and then partial out Ind1, Ind2 w.r.t. Market. \n",
    "    The style factors remain as is.\n",
    "    \n",
    "    X is Nx5, F is 5x5.\n",
    "    We return T, also 5x5, full-rank if 'Market' is truly a sum of old Ind0..Ind2.\n",
    "    \"\"\"\n",
    "\n",
    "    T = np.zeros(shape=(X.shape[1], X.shape[1]))  # we'll fill columns carefully\n",
    "    \n",
    "    # 1) Define Market factor from old Ind0..Ind2\n",
    "    # Put that as the FIRST column => new factor #0\n",
    "    T[:, 0] = np.ones(X.shape[1])\n",
    "    \n",
    "    # 2) For old factor #1..(K-1), partial out Market\n",
    "    #    i.e. if K=3, we do i=1..2 => partial out Ind1, Ind2\n",
    "    for old_ind in range(1, K+L):\n",
    "    \n",
    "        e_i = np.zeros(X.shape[1])\n",
    "        e_i[old_ind] = 1.0\n",
    "        T[:, old_ind] = e_i\n",
    "\n",
    "        # Execute Gram-Schmidt\n",
    "        for j in range(old_ind):        \n",
    "            alpha = (T[:, old_ind].T @ T[:, j]) / (T[:, j].T @ T[:, j])\n",
    "            T[:, old_ind] -= alpha * T[:, j]\n",
    "        \n",
    "        # Make this unit norm\n",
    "        T[:, old_ind] /= np.linalg.norm(T[:, old_ind])\n",
    "        # That is the \"pure industry residual\" for old_ind\n",
    "        \n",
    "    print(T)\n",
    "    return T\n",
    "\n",
    "\n",
    "# === Example usage ===\n",
    "if __name__ == \"__main__\":\n",
    "    np.set_printoptions(precision=4, suppress=True)\n",
    "    \n",
    "    # Suppose we have N=10 stocks, K=3 industries, L=2 styles => total 5 factors\n",
    "    N = 10\n",
    "    K = 3\n",
    "    L = 2\n",
    "    dim = K+L\n",
    "    \n",
    "    np.random.seed(123)\n",
    "    \n",
    "    # Fake X (N x dim)\n",
    "    X = np.random.randn(N, dim)\n",
    "    \n",
    "    # Fake F (dim x dim), must be pos. semidef for real usage\n",
    "    R = np.random.randn(dim, dim)\n",
    "    F_approx = R @ R.T   # random SPD\n",
    "    \n",
    "    # Build the corrected T\n",
    "    T = build_rotation_matrix(X, F_approx, K, L)\n",
    "    \n",
    "    # New exposures\n",
    "    X_new = X @ T\n",
    "    \n",
    "    # New factor covariance\n",
    "    F_new = T.T @ F_approx @ T\n",
    "    \n",
    "    print(\"Transformation matrix T:\\n\", T)\n",
    "    print(\"Old F:\\n\", F_approx)\n",
    "    print(\"New F:\\n\", F_new)\n",
    "    \n",
    "    # Test for random portfolio\n",
    "    wtest = np.random.randn(N)\n",
    "    old_var = wtest @ (X @ F_approx) @ (X.T) @ wtest\n",
    "    new_var = wtest @ (X_new @ F_new) @ (X_new.T) @ wtest\n",
    "    \n",
    "    print(\"Old portfolio variance:\", old_var)\n",
    "    print(\"New portfolio variance:\", new_var)\n"
   ]
  },
  {
   "cell_type": "code",
   "execution_count": 8,
   "metadata": {},
   "outputs": [
    {
     "data": {
      "text/plain": [
       "array([-1.8902, -0.805 , -0.3651,  5.3486,  1.2142, -2.1612, -4.5982,\n",
       "       -0.0785, -2.0115,  6.0103])"
      ]
     },
     "execution_count": 8,
     "metadata": {},
     "output_type": "execute_result"
    }
   ],
   "source": [
    "X.sum(axis=1)"
   ]
  }
 ],
 "metadata": {
  "kernelspec": {
   "display_name": "quant_research",
   "language": "python",
   "name": "python3"
  },
  "language_info": {
   "codemirror_mode": {
    "name": "ipython",
    "version": 3
   },
   "file_extension": ".py",
   "mimetype": "text/x-python",
   "name": "python",
   "nbconvert_exporter": "python",
   "pygments_lexer": "ipython3",
   "version": "3.12.3"
  }
 },
 "nbformat": 4,
 "nbformat_minor": 2
}

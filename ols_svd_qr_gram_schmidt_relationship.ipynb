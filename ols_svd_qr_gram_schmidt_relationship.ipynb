{
 "cells": [
  {
   "cell_type": "code",
   "execution_count": 2,
   "metadata": {},
   "outputs": [],
   "source": [
    "import numpy as np\n",
    "import pandas as pd"
   ]
  },
  {
   "cell_type": "code",
   "execution_count": 3,
   "metadata": {},
   "outputs": [],
   "source": [
    "def ols(X: np.ndarray, y: np.ndarray) -> np.ndarray:\n",
    "    return np.linalg.inv(X.T @ X) @ X.T @ y"
   ]
  },
  {
   "cell_type": "code",
   "execution_count": null,
   "metadata": {},
   "outputs": [],
   "source": [
    "def ols_gram_schmidt(X: np.ndarray, y: np.ndarray) -> np.ndarray:\n",
    "    raise NotImplementedError"
   ]
  },
  {
   "cell_type": "code",
   "execution_count": 4,
   "metadata": {},
   "outputs": [],
   "source": [
    "def ols_svd(X: np.ndarray, y: np.ndarray) -> np.ndarray:\n",
    "\n",
    "    U, S, V_T = np.linalg.svd(a=X, full_matrices=False)\n",
    "    S: np.ndarray = np.diag(S)\n",
    "\n",
    "    return V_T.T @ np.linalg.inv(S) @ U.T @ y"
   ]
  },
  {
   "cell_type": "code",
   "execution_count": 10,
   "metadata": {},
   "outputs": [],
   "source": [
    "def ols_qr(X: np.ndarray, y: np.ndarray) -> np.ndarray:\n",
    "\n",
    "    Q, R = np.linalg.qr(a=X)\n",
    "\n",
    "    # X'X = (QR).T(QR) = R.T Q.T Q R\n",
    "    # (X'X)-1X'y = (QR).T(QR)^-1(QR).Ty = (R.T Q.T Q R)^-1 R.T Q.T y = (R.T R)^-1 R.T Q.T y = R^-1 Q.T y\n",
    "    \n",
    "    return np.linalg.inv(R) @ Q.T @ y"
   ]
  },
  {
   "cell_type": "code",
   "execution_count": 11,
   "metadata": {},
   "outputs": [],
   "source": [
    "y: np.ndarray = np.random.normal(loc=0.0, scale=1.0, size=(100, 1))\n",
    "X: np.ndarray = np.random.normal(loc=0.0, scale=1.0, size=(100, 10))"
   ]
  },
  {
   "cell_type": "code",
   "execution_count": 12,
   "metadata": {},
   "outputs": [
    {
     "data": {
      "text/plain": [
       "array([[-0.00805791],\n",
       "       [-0.12307501],\n",
       "       [-0.07806972],\n",
       "       [ 0.16176667],\n",
       "       [ 0.00613117],\n",
       "       [ 0.03289824],\n",
       "       [ 0.05440614],\n",
       "       [-0.04665317],\n",
       "       [ 0.02624644],\n",
       "       [-0.07776617]])"
      ]
     },
     "execution_count": 12,
     "metadata": {},
     "output_type": "execute_result"
    }
   ],
   "source": [
    "ols(X=X, y=y)"
   ]
  },
  {
   "cell_type": "code",
   "execution_count": 13,
   "metadata": {},
   "outputs": [
    {
     "data": {
      "text/plain": [
       "array([[-0.00805791],\n",
       "       [-0.12307501],\n",
       "       [-0.07806972],\n",
       "       [ 0.16176667],\n",
       "       [ 0.00613117],\n",
       "       [ 0.03289824],\n",
       "       [ 0.05440614],\n",
       "       [-0.04665317],\n",
       "       [ 0.02624644],\n",
       "       [-0.07776617]])"
      ]
     },
     "execution_count": 13,
     "metadata": {},
     "output_type": "execute_result"
    }
   ],
   "source": [
    "ols_svd(X=X, y=y)"
   ]
  },
  {
   "cell_type": "code",
   "execution_count": 14,
   "metadata": {},
   "outputs": [
    {
     "data": {
      "text/plain": [
       "array([[-0.00805791],\n",
       "       [-0.12307501],\n",
       "       [-0.07806972],\n",
       "       [ 0.16176667],\n",
       "       [ 0.00613117],\n",
       "       [ 0.03289824],\n",
       "       [ 0.05440614],\n",
       "       [-0.04665317],\n",
       "       [ 0.02624644],\n",
       "       [-0.07776617]])"
      ]
     },
     "execution_count": 14,
     "metadata": {},
     "output_type": "execute_result"
    }
   ],
   "source": [
    "ols_qr(X=X, y=y)"
   ]
  },
  {
   "cell_type": "code",
   "execution_count": null,
   "metadata": {},
   "outputs": [],
   "source": [
    "# TODO: do the same thing for Ridge Regression - illustrate how OLS loads highly on small eigenvalues and ridge directly penalizes small eigenvalues\n",
    "# TODO: this is because when we take the inverse cov of the design matrix, the inverse of a number becomes a much larger number and vice-versa "
   ]
  }
 ],
 "metadata": {
  "kernelspec": {
   "display_name": "quant_research",
   "language": "python",
   "name": "python3"
  },
  "language_info": {
   "codemirror_mode": {
    "name": "ipython",
    "version": 3
   },
   "file_extension": ".py",
   "mimetype": "text/x-python",
   "name": "python",
   "nbconvert_exporter": "python",
   "pygments_lexer": "ipython3",
   "version": "3.12.3"
  }
 },
 "nbformat": 4,
 "nbformat_minor": 2
}

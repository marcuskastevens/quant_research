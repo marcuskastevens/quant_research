{
 "cells": [
  {
   "cell_type": "code",
   "execution_count": 28,
   "metadata": {},
   "outputs": [],
   "source": [
    "import pandas as pd\n",
    "import numpy as np\n",
    "import yfinance as yf\n",
    "import datetime as dt"
   ]
  },
  {
   "cell_type": "code",
   "execution_count": 55,
   "metadata": {},
   "outputs": [
    {
     "data": {
      "text/plain": [
       "(            asset1      asset2      asset3      asset4\n",
       " asset1  313.646861  -18.563098  -35.368990 -103.537422\n",
       " asset2  -18.563098  232.220116   69.611234  -47.357780\n",
       " asset3  -35.368990   69.611234  113.471526   16.707104\n",
       " asset4 -103.537422  -47.357780   16.707104  335.331959,\n",
       " asset1    313.646861\n",
       " asset2    232.220116\n",
       " asset3    113.471526\n",
       " asset4    335.331959\n",
       " Name: 251, dtype: float64)"
      ]
     },
     "execution_count": 55,
     "metadata": {},
     "output_type": "execute_result"
    }
   ],
   "source": [
    "def ewm_covariance_matrix_annualized(returns: pd.DataFrame, lookback_window=20) -> pd.DataFrame:\n",
    "    \"\"\" Function to estimate ex-ante covariance matrix via exponentially weighted volatiilty.\n",
    "\n",
    "    Args:\n",
    "        returns (pd.DataFrame): _description_\n",
    "        lookback_window (int, optional): _description_. Defaults to 20.\n",
    "\n",
    "    Returns:\n",
    "        pd.DataFrame: _description_\n",
    "    \"\"\"\n",
    "\n",
    "    # Compute rolling EWMA volatility \n",
    "    vol = returns.ewm(span=lookback_window).std().iloc[-1] * np.sqrt(252)\n",
    "    var = returns.ewm(span=lookback_window).var().iloc[-1] * 252\n",
    "\n",
    "    # Get correlation matrix\n",
    "    correlation = returns.tail(lookback_window).corr()\n",
    "\n",
    "    # Compoenent-wise multiply volatility, then multiply with correlation coefficient to obtain covariance matrix\n",
    "    covariance_matrix = correlation * np.outer(vol, vol)\n",
    "\n",
    "    return covariance_matrix, var\n",
    "\n",
    "\n",
    "# Assume we have a dataframe of daily returns for 4 assets\n",
    "df_returns = pd.DataFrame(np.random.randn(252, 4), columns=['asset1', 'asset2', 'asset3', 'asset4'])\n",
    "\n",
    "ewm_covariance_matrix(df_returns)\n"
   ]
  },
  {
   "cell_type": "code",
   "execution_count": 30,
   "metadata": {},
   "outputs": [
    {
     "name": "stdout",
     "output_type": "stream",
     "text": [
      "[*********************100%***********************]  1 of 1 completed\n",
      "[*********************100%***********************]  1 of 1 completed\n",
      "[*********************100%***********************]  1 of 1 completed\n",
      "[*********************100%***********************]  1 of 1 completed\n",
      "[*********************100%***********************]  1 of 1 completed\n",
      "[*********************100%***********************]  1 of 1 completed\n",
      "[*********************100%***********************]  1 of 1 completed\n",
      "[*********************100%***********************]  1 of 1 completed\n",
      "[*********************100%***********************]  1 of 1 completed\n",
      "[*********************100%***********************]  1 of 1 completed\n",
      "[*********************100%***********************]  1 of 1 completed\n",
      "[*********************100%***********************]  1 of 1 completed\n",
      "[*********************100%***********************]  1 of 1 completed\n",
      "[*********************100%***********************]  1 of 1 completed\n",
      "[*********************100%***********************]  1 of 1 completed\n",
      "[*********************100%***********************]  1 of 1 completed\n",
      "[*********************100%***********************]  1 of 1 completed\n"
     ]
    }
   ],
   "source": [
    "assets = ['SPY', 'QQQ', 'SPTM', 'MDY', 'IEFA', 'EEM', 'LQD', 'TLT', 'XLE', 'DBC', 'XLRE', 'GLD', 'IEF', 'SLV', 'DBA','JNK', 'HYG'] # , 'BIL']\n",
    "# assets = ['BIL']\n",
    "# Returns of opening prices\n",
    "open_asset_returns = pd.DataFrame()\n",
    "# Returns of close prices\n",
    "close_asset_returns = pd.DataFrame()\n",
    "\n",
    "\n",
    "for ticker in assets:\n",
    "    prices = yf.download(ticker, start='1980-01-01', end=dt.date.today())\n",
    "    \n",
    "    # Get i'th asset's returns\n",
    "    close_rets = prices['Adj Close'].pct_change().dropna()\n",
    "    close_rets = close_rets.rename(ticker)\n",
    "    open_rets = prices['Open'].pct_change().dropna()\n",
    "    open_rets = open_rets.rename(ticker)\n",
    "\n",
    "    close_asset_returns = pd.concat([close_asset_returns, close_rets], axis=1)\n",
    "    open_asset_returns = pd.concat([open_asset_returns, open_rets], axis=1)"
   ]
  },
  {
   "cell_type": "code",
   "execution_count": 58,
   "metadata": {},
   "outputs": [
    {
     "data": {
      "text/html": [
       "<div>\n",
       "<style scoped>\n",
       "    .dataframe tbody tr th:only-of-type {\n",
       "        vertical-align: middle;\n",
       "    }\n",
       "\n",
       "    .dataframe tbody tr th {\n",
       "        vertical-align: top;\n",
       "    }\n",
       "\n",
       "    .dataframe thead th {\n",
       "        text-align: right;\n",
       "    }\n",
       "</style>\n",
       "<table border=\"1\" class=\"dataframe\">\n",
       "  <thead>\n",
       "    <tr style=\"text-align: right;\">\n",
       "      <th></th>\n",
       "      <th>SPY</th>\n",
       "      <th>QQQ</th>\n",
       "      <th>SPTM</th>\n",
       "      <th>MDY</th>\n",
       "      <th>IEFA</th>\n",
       "    </tr>\n",
       "  </thead>\n",
       "  <tbody>\n",
       "    <tr>\n",
       "      <th>SPY</th>\n",
       "      <td>0.022111</td>\n",
       "      <td>0.026339</td>\n",
       "      <td>0.022298</td>\n",
       "      <td>0.024584</td>\n",
       "      <td>0.015610</td>\n",
       "    </tr>\n",
       "    <tr>\n",
       "      <th>QQQ</th>\n",
       "      <td>0.026339</td>\n",
       "      <td>0.037794</td>\n",
       "      <td>0.026216</td>\n",
       "      <td>0.025428</td>\n",
       "      <td>0.016045</td>\n",
       "    </tr>\n",
       "    <tr>\n",
       "      <th>SPTM</th>\n",
       "      <td>0.022298</td>\n",
       "      <td>0.026216</td>\n",
       "      <td>0.022632</td>\n",
       "      <td>0.025564</td>\n",
       "      <td>0.015914</td>\n",
       "    </tr>\n",
       "    <tr>\n",
       "      <th>MDY</th>\n",
       "      <td>0.024584</td>\n",
       "      <td>0.025428</td>\n",
       "      <td>0.025564</td>\n",
       "      <td>0.035869</td>\n",
       "      <td>0.019321</td>\n",
       "    </tr>\n",
       "    <tr>\n",
       "      <th>IEFA</th>\n",
       "      <td>0.015610</td>\n",
       "      <td>0.016045</td>\n",
       "      <td>0.015914</td>\n",
       "      <td>0.019321</td>\n",
       "      <td>0.020995</td>\n",
       "    </tr>\n",
       "  </tbody>\n",
       "</table>\n",
       "</div>"
      ],
      "text/plain": [
       "           SPY       QQQ      SPTM       MDY      IEFA\n",
       "SPY   0.022111  0.026339  0.022298  0.024584  0.015610\n",
       "QQQ   0.026339  0.037794  0.026216  0.025428  0.016045\n",
       "SPTM  0.022298  0.026216  0.022632  0.025564  0.015914\n",
       "MDY   0.024584  0.025428  0.025564  0.035869  0.019321\n",
       "IEFA  0.015610  0.016045  0.015914  0.019321  0.020995"
      ]
     },
     "execution_count": 58,
     "metadata": {},
     "output_type": "execute_result"
    }
   ],
   "source": [
    "cov, var = ewm_covariance_matrix_annualized(close_asset_returns.iloc[:, :5], lookback_window=60)\n",
    "cov"
   ]
  },
  {
   "cell_type": "code",
   "execution_count": 51,
   "metadata": {},
   "outputs": [
    {
     "data": {
      "text/plain": [
       "SPY     0.011550\n",
       "QQQ     0.020448\n",
       "SPTM    0.011660\n",
       "MDY     0.021474\n",
       "IEFA    0.011906\n",
       "Name: 2023-04-21 00:00:00, dtype: float64"
      ]
     },
     "execution_count": 51,
     "metadata": {},
     "output_type": "execute_result"
    }
   ],
   "source": [
    "var"
   ]
  },
  {
   "cell_type": "code",
   "execution_count": 59,
   "metadata": {},
   "outputs": [
    {
     "data": {
      "text/html": [
       "<div>\n",
       "<style scoped>\n",
       "    .dataframe tbody tr th:only-of-type {\n",
       "        vertical-align: middle;\n",
       "    }\n",
       "\n",
       "    .dataframe tbody tr th {\n",
       "        vertical-align: top;\n",
       "    }\n",
       "\n",
       "    .dataframe thead th {\n",
       "        text-align: right;\n",
       "    }\n",
       "</style>\n",
       "<table border=\"1\" class=\"dataframe\">\n",
       "  <thead>\n",
       "    <tr style=\"text-align: right;\">\n",
       "      <th></th>\n",
       "      <th>SPY</th>\n",
       "      <th>QQQ</th>\n",
       "      <th>SPTM</th>\n",
       "      <th>MDY</th>\n",
       "      <th>IEFA</th>\n",
       "    </tr>\n",
       "  </thead>\n",
       "  <tbody>\n",
       "    <tr>\n",
       "      <th>SPY</th>\n",
       "      <td>0.035714</td>\n",
       "      <td>0.046273</td>\n",
       "      <td>0.034783</td>\n",
       "      <td>0.038743</td>\n",
       "      <td>0.025369</td>\n",
       "    </tr>\n",
       "    <tr>\n",
       "      <th>QQQ</th>\n",
       "      <td>0.046273</td>\n",
       "      <td>0.076883</td>\n",
       "      <td>0.040012</td>\n",
       "      <td>0.049045</td>\n",
       "      <td>0.027453</td>\n",
       "    </tr>\n",
       "    <tr>\n",
       "      <th>SPTM</th>\n",
       "      <td>0.034783</td>\n",
       "      <td>0.040012</td>\n",
       "      <td>0.040108</td>\n",
       "      <td>0.038520</td>\n",
       "      <td>0.024841</td>\n",
       "    </tr>\n",
       "    <tr>\n",
       "      <th>MDY</th>\n",
       "      <td>0.038743</td>\n",
       "      <td>0.049045</td>\n",
       "      <td>0.038520</td>\n",
       "      <td>0.047866</td>\n",
       "      <td>0.028662</td>\n",
       "    </tr>\n",
       "    <tr>\n",
       "      <th>IEFA</th>\n",
       "      <td>0.025369</td>\n",
       "      <td>0.027453</td>\n",
       "      <td>0.024841</td>\n",
       "      <td>0.028662</td>\n",
       "      <td>0.029055</td>\n",
       "    </tr>\n",
       "  </tbody>\n",
       "</table>\n",
       "</div>"
      ],
      "text/plain": [
       "           SPY       QQQ      SPTM       MDY      IEFA\n",
       "SPY   0.035714  0.046273  0.034783  0.038743  0.025369\n",
       "QQQ   0.046273  0.076883  0.040012  0.049045  0.027453\n",
       "SPTM  0.034783  0.040012  0.040108  0.038520  0.024841\n",
       "MDY   0.038743  0.049045  0.038520  0.047866  0.028662\n",
       "IEFA  0.025369  0.027453  0.024841  0.028662  0.029055"
      ]
     },
     "execution_count": 59,
     "metadata": {},
     "output_type": "execute_result"
    }
   ],
   "source": [
    "close_asset_returns.iloc[:, :5].cov()*252"
   ]
  }
 ],
 "metadata": {
  "kernelspec": {
   "display_name": "Python 3",
   "language": "python",
   "name": "python3"
  },
  "language_info": {
   "codemirror_mode": {
    "name": "ipython",
    "version": 3
   },
   "file_extension": ".py",
   "mimetype": "text/x-python",
   "name": "python",
   "nbconvert_exporter": "python",
   "pygments_lexer": "ipython3",
   "version": "3.7.9"
  },
  "orig_nbformat": 4
 },
 "nbformat": 4,
 "nbformat_minor": 2
}

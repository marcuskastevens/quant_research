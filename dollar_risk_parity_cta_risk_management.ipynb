{
 "cells": [
  {
   "cell_type": "code",
   "execution_count": 962,
   "metadata": {},
   "outputs": [],
   "source": [
    "import numpy as np\n",
    "import pandas as pd\n",
    "import sklearn as skl\n",
    "import quant_tools.portfolio_tools as pt\n",
    "import matplotlib.pyplot as plt\n",
    "import yfinance as yf\n",
    "import datetime as dt"
   ]
  },
  {
   "cell_type": "code",
   "execution_count": 963,
   "metadata": {},
   "outputs": [
    {
     "data": {
      "text/plain": [
       "array(['MMM', 'AOS', 'ABT', 'ABBV', 'ACN', 'ATVI', 'ADM', 'ADBE', 'ADP',\n",
       "       'AAP', 'AES', 'AFL', 'A', 'APD', 'AKAM', 'ALK', 'ALB', 'ARE',\n",
       "       'ALGN', 'ALLE', 'LNT', 'ALL', 'GOOGL', 'GOOG', 'MO', 'AMZN',\n",
       "       'AMCR', 'AMD', 'AEE', 'AAL'], dtype=object)"
      ]
     },
     "execution_count": 963,
     "metadata": {},
     "output_type": "execute_result"
    }
   ],
   "source": [
    "tickers = pd.read_csv(r'C:\\Users\\marcu\\Documents\\Quant\\Programming\\Data\\sp500-master\\sp500.csv').iloc[:, 0].head(30).values\n",
    "tickers"
   ]
  },
  {
   "cell_type": "code",
   "execution_count": 964,
   "metadata": {},
   "outputs": [
    {
     "name": "stdout",
     "output_type": "stream",
     "text": [
      "[*********************100%***********************]  1 of 1 completed\n",
      "[*********************100%***********************]  1 of 1 completed\n",
      "[*********************100%***********************]  1 of 1 completed\n",
      "[*********************100%***********************]  1 of 1 completed\n",
      "[*********************100%***********************]  1 of 1 completed\n",
      "[*********************100%***********************]  1 of 1 completed\n",
      "[*********************100%***********************]  1 of 1 completed\n",
      "[*********************100%***********************]  1 of 1 completed\n",
      "[*********************100%***********************]  1 of 1 completed\n",
      "[*********************100%***********************]  1 of 1 completed\n",
      "[*********************100%***********************]  1 of 1 completed\n",
      "[*********************100%***********************]  1 of 1 completed\n",
      "[*********************100%***********************]  1 of 1 completed\n",
      "[*********************100%***********************]  1 of 1 completed\n",
      "[*********************100%***********************]  1 of 1 completed\n",
      "[*********************100%***********************]  1 of 1 completed\n",
      "[*********************100%***********************]  1 of 1 completed\n",
      "[*********************100%***********************]  1 of 1 completed\n",
      "[*********************100%***********************]  1 of 1 completed\n",
      "[*********************100%***********************]  1 of 1 completed\n",
      "[*********************100%***********************]  1 of 1 completed\n",
      "[*********************100%***********************]  1 of 1 completed\n",
      "[*********************100%***********************]  1 of 1 completed\n",
      "[*********************100%***********************]  1 of 1 completed\n",
      "[*********************100%***********************]  1 of 1 completed\n",
      "[*********************100%***********************]  1 of 1 completed\n",
      "[*********************100%***********************]  1 of 1 completed\n",
      "[*********************100%***********************]  1 of 1 completed\n",
      "[*********************100%***********************]  1 of 1 completed\n",
      "[*********************100%***********************]  1 of 1 completed\n"
     ]
    }
   ],
   "source": [
    "# Close Prices\n",
    "close_asset_prices = pd.DataFrame()\n",
    "\n",
    "# Returns of opening prices\n",
    "open_asset_returns = pd.DataFrame()\n",
    "\n",
    "# Returns of close prices\n",
    "close_asset_returns = pd.DataFrame()\n",
    "\n",
    "# tickers = ['GLD', 'SPY', 'AAPL', 'BIL']\n",
    "\n",
    "for ticker in tickers:\n",
    "\n",
    "    prices = yf.download(ticker, start='1970-01-01', end=dt.date.today())\n",
    "    \n",
    "    # Get i'th asset's returns\n",
    "    close_prices = prices['Adj Close'].dropna()\n",
    "    close_prices = close_prices.rename(ticker)\n",
    "    close_rets = prices['Adj Close'].pct_change().dropna()\n",
    "    close_rets = close_rets.rename(ticker)\n",
    "    open_rets = prices['Open'].pct_change().dropna()\n",
    "    open_rets = open_rets.rename(ticker)\n",
    "\n",
    "    close_asset_prices = pd.concat([close_asset_prices, close_prices, ], axis=1)\n",
    "    close_asset_returns = pd.concat([close_asset_returns, close_rets], axis=1)\n",
    "    open_asset_returns = pd.concat([open_asset_returns, open_rets], axis=1)"
   ]
  },
  {
   "cell_type": "code",
   "execution_count": 980,
   "metadata": {},
   "outputs": [],
   "source": [
    "from scipy.optimize import minimize as opt\n",
    "from scipy.optimize import Bounds\n",
    "\n",
    "# def dollar_risk_parity_obj(n_units: pd.Series, cov: pd.DataFrame, target_risk: float, portfoio_value: float) -> float:\n",
    "#     \"\"\" Inspired by CTA and Trend Follwers' risk management practices, the Dollar Risk Parity objective function\n",
    "#         targets \"target_risk\" percent risk per position (equal risk contribution) which represents 1 SD of the \n",
    "#         underlying instrument's price movement. Here, the covariance and variance of each asset defines its risk to account for\n",
    "#         correlation structures and mitiage over exposure to a single risk factor.\n",
    "               \n",
    "#         Positions represent how many shares to purchase for a 1SD move in the underlying instrument \n",
    "#         to represent \"target_risk\" percent loss in \"portfolio_value\". This follows the risk management practices of \n",
    "#         select portfolio managers that target equal risk allocation to each trade/position, but leverages stop-losses \n",
    "#         (e.g., 1SD stop) to limit exogenous risk exposure.\n",
    "\n",
    "#         This follows the intuition behind traditional equal variance contribution risk parity, but defines risk as dollar value\n",
    "#         at risk (e.g., stop loss set at 1SD) instead of purely variance.          \n",
    "\n",
    "#     Args:\n",
    "#         n_units (pd.Series): number of units (e.g., shares, contracts) to purchase per portfolio constituent. \n",
    "#         cov (pd.DataFrame): covariance matrix of portfolio constituents' prices.\n",
    "#         target_risk (float): target percent risk per position.\n",
    "#         portfoio_value (float): portfolio dollar value.\n",
    "\n",
    "#     Returns:\n",
    "#         float\n",
    "#     \"\"\"\n",
    "\n",
    "#     # N portfolio constituents\n",
    "#     n = len(n_units)\n",
    "\n",
    "#     # Get equal dollar risk contribution (representing target 1SD move in each instrument)\n",
    "#     # equal_target_risk_contribution = np.array([target_risk] * n) * portfoio_value\n",
    "#     equal_target_risk_contribution = np.array([1/n] * n)\n",
    "\n",
    "#     # Get weighted asbolute risk (vols) - must be absolute value of risk since managers may encounter negative risk contribution\n",
    "#     # weighted_absolute_risk = np.sqrt(np.abs(n_units.T.dot(cov) * n_units))\n",
    "#     weighted_absolute_risk = n_units.T.dot(cov) * n_units\n",
    "\n",
    "#     percent_risk_contribution = weighted_absolute_risk / weighted_absolute_risk.sum()\n",
    "\n",
    "\n",
    "#     # Check if the 1SD dollar risk contribution of current portfolio = equal_target_risk_contribution\n",
    "#     # Measure the absolute difference between current vs. equal risk contribution\n",
    "#     # diff = np.abs((weighted_absolute_risk - equal_target_risk_contribution)).sum()\n",
    "#     diff = np.abs((percent_risk_contribution - equal_target_risk_contribution)).sum()\n",
    "\n",
    "#     # print(weighted_absolute_risk, equal_target_risk_contribution, diff, n_units)\n",
    "#     print(percent_risk_contribution.round(3), equal_target_risk_contribution, diff)\n",
    "\n",
    "#     return diff \n",
    "\n",
    "def dollar_risk_parity_obj(n_units: pd.Series, cov: pd.DataFrame) -> float:\n",
    "    \"\"\" Inspired by CTA and Trend Follwers' risk management practices, the Dollar Risk Parity objective function\n",
    "        targets \"target_risk\" percent risk per position (equal risk contribution) which represents 1 SDs of the \n",
    "        underlying instrument's price movement. Here, the covariance and variance of each asset defines its risk to account for\n",
    "        correlation structures and mitiage over exposure to a single risk factor.\n",
    "               \n",
    "        Positions represent how many shares to purchase for an 1 SD move in the underlying instrument \n",
    "        to represent \"target_risk\" percent loss in \"portfolio_value\". This follows the risk management practices of \n",
    "        select portfolio managers that target equal risk allocation to each trade/position, but leverages stop-losses \n",
    "        (e.g., 1SD stop) to limit exogenous risk exposure.\n",
    "\n",
    "        This follows the intuition behind traditional equal variance contribution risk parity algorithms, but defines risk as dollar value\n",
    "        at risk (e.g., stop loss set at 1SD) instead of purely variance.          \n",
    "\n",
    "    Args:\n",
    "        n_units (pd.Series): number of units (e.g., shares, contracts) to purchase per portfolio constituent. \n",
    "        cov (pd.DataFrame): covariance matrix of portfolio constituents' prices.\n",
    "        target_risk (float): target percent risk per position.\n",
    "        portfoio_value (float): portfolio dollar value.\n",
    "\n",
    "    Returns:\n",
    "        float\n",
    "    \"\"\"\n",
    "\n",
    "    # N portfolio constituents\n",
    "    n = len(n_units)\n",
    "\n",
    "    # Get equal percent risk contribution (representing target 1SD move in each instrument)\n",
    "    equal_risk_contribution = np.array([1/n] * n) \n",
    "\n",
    "    # Get portfolio dollar variance\n",
    "    variance = n_units.T.dot(cov).dot(n_units)\n",
    "    # Get weighted risk (respective dollar variance)    \n",
    "    weighted_dollar_risk = n_units.T.dot(cov) * n_units\n",
    "    # Get percent weighted risk contribution (percent contribution to variance)\n",
    "    percent_risk_contribution = weighted_dollar_risk / variance\n",
    "\n",
    "    # Check if the dollar risk contribution of current portfolio = equal_risk_contribution\n",
    "    # Measure the absolute difference between current vs. equal risk contribution\n",
    "    diff = np.abs((percent_risk_contribution - equal_risk_contribution)).sum()\n",
    "\n",
    "    return diff \n",
    "\n",
    "def dollar_risk_parity(prices: pd.DataFrame, target_risk = 0.001, portfoio_value = 100000, long_only=False) -> pd.Series:\n",
    "    \"\"\" Inspired by CTA and Trend Follwers' risk management practices, the Dollar Risk Parity optimization function\n",
    "        targets \"target_risk\" percent risk per position (equal risk contribution) which represents 1 SD of the \n",
    "        underlying instrument's price movement. Here, the covariance and variance of each asset defines its risk to account for\n",
    "        correlation structures and mitiage over exposure to a single risk factor.\n",
    "               \n",
    "        Positions represent how many shares to purchase for a 1SD move in the underlying instrument \n",
    "        to represent \"target_risk\" percent loss in \"portfolio_value\". This follows the risk management practices of \n",
    "        select portfolio managers that target equal risk allocation to each trade/position, but leverages stop-losses \n",
    "        (e.g., 1SD stop) to limit exogenous risk exposure.\n",
    "\n",
    "        This follows the intuition behind traditional equal variance contribution risk parity, but defines risk as dollar value\n",
    "        at risk (e.g., stop loss set at 1SD) instead of purely variance. \n",
    "\n",
    "    Args:\n",
    "        prices (pd.DataFrame): _description_\n",
    "        target_risk (float, optional): _description_. Defaults to 0.005.\n",
    "        portfoio_value (int, optional): _description_. Defaults to 100000.\n",
    "\n",
    "    Returns:\n",
    "        pd.Series: _description_\n",
    "    \"\"\"\n",
    "\n",
    "    # Determine risk definition\n",
    "    objective_function = dollar_risk_parity_obj\n",
    "\n",
    "    n = len(prices.columns)\n",
    "\n",
    "    # Covariance of prices\n",
    "    cov = prices.cov() \n",
    "\n",
    "    initial_guess = pd.Series(np.array([1/n] * n), index=prices.columns)\n",
    "\n",
    "    constraints =   [# Ensure notional exposure < portfolio_value (i.e., no leverage)\n",
    "                    {\"type\": \"ineq\", \"fun\": lambda n_units: portfoio_value - (n_units*prices.iloc[-1]).sum()}\n",
    "                    ]\n",
    "\n",
    "    # Long-Only or L/S\n",
    "    if long_only:\n",
    "        bounds = Bounds(0, np.inf)\n",
    "        # bounds = Bounds(0, 10000000000)\n",
    "    else:\n",
    "        bounds = Bounds(-np.inf, np.inf)\n",
    "        # bounds = Bounds(-10000000000, 10000000000)\n",
    "    \n",
    "    # Get dollar risk parity weights\n",
    "    n_units = opt(objective_function, \n",
    "            initial_guess, \n",
    "            bounds=bounds,\n",
    "            args=(cov),\n",
    "            method='SLSQP',\n",
    "            constraints=constraints)['x']\n",
    "\n",
    "    n_units = pd.Series(n_units, index=cov.index)\n",
    "\n",
    "    ex_ante_dollar_vol = np.sqrt(n_units.T.dot(cov).dot(n_units))\n",
    "    print(f\"Target Portfolio Risk: {portfoio_value*n*target_risk}\")\n",
    "    \n",
    "    risk_scalar = portfoio_value*n*target_risk / ex_ante_dollar_vol\n",
    "\n",
    "    n_units *= risk_scalar\n",
    "    ex_ante_scaled_dollar_vol = np.sqrt(n_units.T.dot(cov).dot(n_units))\n",
    "    print(f\"Ex-Ante Portfolio Risk: {ex_ante_scaled_dollar_vol}\")\n",
    "    print(f\"Ex-Ante Dollar Risk Contributions: \\n{(n_units.T.dot(cov) *  n_units)**.5}\" )\n",
    "\n",
    "    return n_units"
   ]
  },
  {
   "cell_type": "code",
   "execution_count": 981,
   "metadata": {},
   "outputs": [],
   "source": [
    "portfolio_value = 1000000"
   ]
  },
  {
   "cell_type": "code",
   "execution_count": 1010,
   "metadata": {},
   "outputs": [],
   "source": [
    "n = close_asset_prices.columns.size\n",
    "sd2_pct_move = .2\n",
    "sd2_VaR = sd2_pct_move / n\n",
    "sd1_VaR = sd2_VaR / 2"
   ]
  },
  {
   "cell_type": "code",
   "execution_count": 1014,
   "metadata": {},
   "outputs": [
    {
     "name": "stdout",
     "output_type": "stream",
     "text": [
      "Target Portfolio Risk: 100000.0\n",
      "Ex-Ante Portfolio Risk: 100000.00000000001\n",
      "Ex-Ante Dollar Risk Contributions: \n",
      "MMM      18278.234186\n",
      "AOS      18391.424244\n",
      "ABT      18393.541856\n",
      "ABBV     18406.324963\n",
      "ACN      18599.398662\n",
      "ATVI     18451.824740\n",
      "ADM      18417.109456\n",
      "ADBE     18907.697958\n",
      "ADP      18417.220673\n",
      "AAP      18598.369028\n",
      "AES      18601.018585\n",
      "AFL      18288.306531\n",
      "A        19083.163239\n",
      "APD      18364.594776\n",
      "AKAM     18570.529169\n",
      "ALK      20615.804123\n",
      "ALB      18314.267330\n",
      "ARE      18438.721672\n",
      "ALGN     18301.533003\n",
      "ALLE     18259.932844\n",
      "LNT      18736.549733\n",
      "ALL      18329.042023\n",
      "GOOGL    18652.061107\n",
      "GOOG     18356.119634\n",
      "MO       18292.849074\n",
      "AMZN     19017.919394\n",
      "AMCR     18570.726233\n",
      "AMD      18403.110129\n",
      "AEE      18305.973269\n",
      "AAL               NaN\n",
      "dtype: float64\n"
     ]
    },
    {
     "data": {
      "text/plain": [
       "MMM      3.441860e+02\n",
       "AOS      3.176198e+02\n",
       "ABT      2.272889e+02\n",
       "ABBV     1.580969e+02\n",
       "ACN      6.271953e+01\n",
       "ATVI     3.929918e+02\n",
       "ADM      2.525448e+02\n",
       "ADBE     4.488586e+01\n",
       "ADP      1.212494e+02\n",
       "AAP      1.266786e+02\n",
       "AES      8.745483e+02\n",
       "AFL      5.046822e+02\n",
       "A        1.302477e+02\n",
       "APD      1.453678e+02\n",
       "AKAM     5.026223e+02\n",
       "ALK      1.292037e+03\n",
       "ALB      5.500708e+01\n",
       "ARE      1.910831e+02\n",
       "ALGN     2.726032e+01\n",
       "ALLE     3.216274e+02\n",
       "LNT      8.580738e+02\n",
       "ALL      2.657369e+02\n",
       "GOOGL    1.308104e+02\n",
       "GOOG     1.247017e+02\n",
       "MO       7.985885e+02\n",
       "AMZN     1.775882e+02\n",
       "AMCR     3.141030e+03\n",
       "AMD      1.360161e+02\n",
       "AEE      5.654503e+02\n",
       "AAL      1.148743e-15\n",
       "dtype: float64"
      ]
     },
     "execution_count": 1014,
     "metadata": {},
     "output_type": "execute_result"
    }
   ],
   "source": [
    "dollar_risk_parity_w = dollar_risk_parity(prices = close_asset_prices.tail(1000), target_risk = sd1_VaR, portfoio_value = portfolio_value, long_only=True)\n",
    "dollar_risk_parity_w"
   ]
  },
  {
   "cell_type": "code",
   "execution_count": 1015,
   "metadata": {},
   "outputs": [
    {
     "name": "stdout",
     "output_type": "stream",
     "text": [
      "789081.0641058137 0.7890810641058137 MMM      2.800368e-02\n",
      "AOS      2.584220e-02\n",
      "ABT      1.849270e-02\n",
      "ABBV     1.286309e-02\n",
      "ACN      5.102990e-03\n",
      "ATVI     3.197462e-02\n",
      "ADM      2.054757e-02\n",
      "ADBE     3.652006e-03\n",
      "ADP      9.865103e-03\n",
      "AAP      1.030683e-02\n",
      "AES      7.115506e-02\n",
      "AFL      4.106198e-02\n",
      "A        1.059722e-02\n",
      "APD      1.182743e-02\n",
      "AKAM     4.089439e-02\n",
      "ALK      1.051228e-01\n",
      "ALB      4.475490e-03\n",
      "ARE      1.554691e-02\n",
      "ALGN     2.217955e-03\n",
      "ALLE     2.616827e-02\n",
      "LNT      6.981465e-02\n",
      "ALL      2.162090e-02\n",
      "GOOGL    1.064301e-02\n",
      "GOOG     1.014598e-02\n",
      "MO       6.497481e-02\n",
      "AMZN     1.444895e-02\n",
      "AMCR     2.555607e-01\n",
      "AMD      1.106655e-02\n",
      "AEE      4.600620e-02\n",
      "AAL      9.346411e-20\n",
      "dtype: float64\n"
     ]
    }
   ],
   "source": [
    "# Get dollar exposure\n",
    "notional_exposure = close_asset_prices.iloc[-1].dot(dollar_risk_parity_w)\n",
    "# Get pct exposure\n",
    "notional_pct_exposure = notional_exposure / portfolio_value\n",
    "# Get portfolio weights for tradable capital\n",
    "weights = dollar_risk_parity_w / dollar_risk_parity_w.sum()\n",
    "\n",
    "print(notional_exposure, notional_pct_exposure, weights)"
   ]
  },
  {
   "cell_type": "code",
   "execution_count": 1016,
   "metadata": {},
   "outputs": [
    {
     "data": {
      "image/png": "[encoded data removed]",
      "text/plain": [
       "<Figure size 432x288 with 1 Axes>"
      ]
     },
     "metadata": {
      "needs_background": "light"
     },
     "output_type": "display_data"
    },
    {
     "data": {
      "text/plain": [
       "<AxesSubplot:>"
      ]
     },
     "execution_count": 1016,
     "metadata": {},
     "output_type": "execute_result"
    },
    {
     "data": {
      "image/png": "[encoded data removed]",
      "text/plain": [
       "<Figure size 432x288 with 1 Axes>"
      ]
     },
     "metadata": {
      "needs_background": "light"
     },
     "output_type": "display_data"
    }
   ],
   "source": [
    "# Get weighted returns & scale based on pct notional exposure\n",
    "raw_rets = (close_asset_returns.tail(1000)*weights).sum(1)*notional_pct_exposure\n",
    "pt.cumulative_returns(raw_rets).plot()\n",
    "plt.show()\n",
    "# Scale returns according to portfolio value of $100k\n",
    "(portfolio_value*pt.cumulative_returns(raw_rets)).plot()"
   ]
  },
  {
   "cell_type": "code",
   "execution_count": 1017,
   "metadata": {},
   "outputs": [
    {
     "data": {
      "text/plain": [
       "<AxesSubplot:>"
      ]
     },
     "execution_count": 1017,
     "metadata": {},
     "output_type": "execute_result"
    },
    {
     "data": {
      "image/png": "[encoded data removed]",
      "text/plain": [
       "<Figure size 432x288 with 1 Axes>"
      ]
     },
     "metadata": {
      "needs_background": "light"
     },
     "output_type": "display_data"
    }
   ],
   "source": [
    "pt.cumulative_returns((close_asset_returns.tail(1000) / 30).sum(1)).plot()"
   ]
  },
  {
   "cell_type": "code",
   "execution_count": 1018,
   "metadata": {},
   "outputs": [
    {
     "data": {
      "text/plain": [
       "(                             Performance Summary\n",
       " Sharpe Ratio                               0.455\n",
       " Drift Adjusted Sharpe Ratio                0.356\n",
       " CAGR                                       0.070\n",
       " Vol                                        0.184\n",
       " Sortino Ratio                              0.555\n",
       " Martin (Ulcer) Ratio                       1.392\n",
       " Omega Ratio                                1.017\n",
       " RR Ratio                                   1.092\n",
       " Win Rate                                   0.527\n",
       " Skew                                      -0.725\n",
       " Kurtosis                                  16.192\n",
       " Max Drawdown                              -0.298\n",
       " VaR - Laplace                             -0.044\n",
       " CVaR - Laplace                            -0.055\n",
       " Tail-Risk Density                          0.005,\n",
       "                              Performance Summary\n",
       " Sharpe Ratio                               0.042\n",
       " Drift Adjusted Sharpe Ratio               -0.338\n",
       " CAGR                                      -0.014\n",
       " Vol                                        0.198\n",
       " Sortino Ratio                              0.064\n",
       " Martin (Ulcer) Ratio                       0.077\n",
       " Omega Ratio                                0.951\n",
       " RR Ratio                                   1.007\n",
       " Win Rate                                   0.502\n",
       " Skew                                       0.032\n",
       " Kurtosis                                   4.438\n",
       " Max Drawdown                              -0.227\n",
       " VaR - Laplace                             -0.051\n",
       " CVaR - Laplace                            -0.064\n",
       " Tail-Risk Density                          0.000)"
      ]
     },
     "execution_count": 1018,
     "metadata": {},
     "output_type": "execute_result"
    }
   ],
   "source": [
    "pt.performance_summary(raw_rets), pt.performance_summary((close_asset_returns.tail(1000).tail(500) / 30).sum(1))"
   ]
  }
 ],
 "metadata": {
  "kernelspec": {
   "display_name": "Python 3",
   "language": "python",
   "name": "python3"
  },
  "language_info": {
   "codemirror_mode": {
    "name": "ipython",
    "version": 3
   },
   "file_extension": ".py",
   "mimetype": "text/x-python",
   "name": "python",
   "nbconvert_exporter": "python",
   "pygments_lexer": "ipython3",
   "version": "3.7.9"
  },
  "orig_nbformat": 4
 },
 "nbformat": 4,
 "nbformat_minor": 2
}

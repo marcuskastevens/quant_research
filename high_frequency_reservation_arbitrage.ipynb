{
 "cells": [
  {
   "cell_type": "code",
   "execution_count": 29,
   "metadata": {},
   "outputs": [],
   "source": [
    "# Built-in dependencies\n",
    "import os\n",
    "from typing import List\n",
    "\n",
    "# External dependencies\n",
    "from selenium import webdriver\n",
    "from selenium.webdriver.common.by import By\n",
    "from selenium.webdriver.chrome.options import Options\n",
    "from selenium.webdriver.chrome.service import Service"
   ]
  },
  {
   "cell_type": "code",
   "execution_count": 30,
   "metadata": {},
   "outputs": [],
   "source": [
    "CHROME_USER_PROFILE: str = \"Reservation Arbitrageur\"\n",
    "CHROME_DRIVER_PATH: str = r\"C:\\Program Files\\Google\\Chrome\\Application\\chrome.exe\"\n",
    "CHROME_USER_DATA_PATH: str =r\"C:\\Users\\marcu\\Documents\\Quant\\Programming\\reservation_arbitrage\\User Data\""
   ]
  },
  {
   "cell_type": "markdown",
   "metadata": {},
   "source": [
    "Testing"
   ]
  },
  {
   "cell_type": "code",
   "execution_count": 32,
   "metadata": {},
   "outputs": [],
   "source": [
    "# options = Options()\n",
    "\n",
    "# # Disable GPU to reduce overhead\n",
    "# options.add_argument(\"--disable-gpu\")\n",
    "# options.add_argument(\"--no-sandbox\")\n",
    "\n",
    "# # Specify the user data directory and user profile to avoid profile selection prompts\n",
    "# options.add_argument(f\"--user-data-dir={CHROME_USER_DATA_PATH}\")\n",
    "# options.add_argument(f\"--profile-directory={CHROME_USER_PROFILE}\")\n",
    "\n",
    "# # Update with the path to your driver\n",
    "# service = Service(CHROME_DRIVER_PATH)\n",
    "\n",
    "# driver = webdriver.Chrome(options=options)\n",
    "\n",
    "# # Navigate to the GeeksforGeeks website\n",
    "# driver.get(\"https://www.geeksforgeeks.org/\")"
   ]
  },
  {
   "cell_type": "markdown",
   "metadata": {},
   "source": [
    "Arbitrage functions"
   ]
  },
  {
   "cell_type": "code",
   "execution_count": 33,
   "metadata": {},
   "outputs": [],
   "source": [
    "def setup_browser() -> webdriver.Chrome:\n",
    "    \"\"\"\n",
    "    Sets up the Selenium Chrome WebDriver with appropriate options.\n",
    "    Returns:\n",
    "        webdriver.Chrome: The initialized WebDriver.\n",
    "    \"\"\"\n",
    "\n",
    "    options = Options()\n",
    "\n",
    "    # Run in headless mode for efficiency\n",
    "    # options.add_argument(\"--headless=new\")  \n",
    "    \n",
    "    # Disable GPU to reduce overhead\n",
    "    options.add_argument(\"--disable-gpu\")  \n",
    "    \n",
    "    # Required for some environments\n",
    "    options.add_argument(\"--no-sandbox\")  \n",
    "\n",
    "    # Specify the user data directory and user profile to avoid profile selection prompts\n",
    "    options.add_argument(f\"--user-data-dir={CHROME_USER_DATA_PATH}\")\n",
    "    options.add_argument(f\"--profile-directory={CHROME_USER_PROFILE}\")\n",
    "    \n",
    "    # Update with the path to your driver\n",
    "    # service = Service(CHROME_DRIVER_PATH)\n",
    "\n",
    "    return webdriver.Chrome(options=options)  # webdriver.Chrome(service=service, options=options)\n",
    "\n",
    "\n",
    "def navigate_to_restaurant_page(driver: webdriver.Chrome, url: str) -> None:\n",
    "    \"\"\"\n",
    "    Navigates the browser to the given restaurant's Resy page.\n",
    "    Args:\n",
    "        driver (webdriver.Chrome): The initialized WebDriver.\n",
    "        url (str): The Resy restaurant URL.\n",
    "    \"\"\"\n",
    "    \n",
    "    driver.get(url)\n",
    "    \n",
    "    print(f\"Navigated to {url}\")\n",
    "\n",
    "    return\n",
    "\n",
    "\n",
    "def get_reservation_buttons(driver: webdriver.Chrome) -> list:\n",
    "    \"\"\"\n",
    "    Scans the restaurant page for available reservation slots.\n",
    "    Args:\n",
    "        driver (webdriver.Chrome): The Selenium WebDriver after navigation.\n",
    "    Returns:\n",
    "        list: A list of available reservation slots with details.\n",
    "    \"\"\"\n",
    "    \n",
    "    try:\n",
    "\n",
    "        # Locate reservation elements (update XPATH based on Resy’s structure)\n",
    "        reservation_buttons: List = driver.find_elements(By.XPATH, \"//button[@class='ReservationButton Button Button--primary']\")\n",
    "        print(f\"Found {len(reservation_buttons)} reservation(s)\")\n",
    "        return reservation_buttons\n",
    "    \n",
    "    except Exception as e:\n",
    "\n",
    "        print(f\"Error finding reservation slots: {e}\")\n",
    "        \n",
    "        return []\n",
    "    \n",
    "\n",
    "# def book_reservation(driver: webdriver.Chrome, slot_text: str) -> bool:\n",
    "#     \"\"\"\n",
    "#     Attempts to book the specified reservation slot.\n",
    "#     Args:\n",
    "#         driver (webdriver.Chrome): The Selenium WebDriver.\n",
    "#         slot_text (str): The text identifying the desired reservation slot.\n",
    "#     Returns:\n",
    "#         bool: True if booking was successful, False otherwise.\n",
    "#     \"\"\"\n",
    "#     try:\n",
    "#         # Locate the desired slot button by text (update XPATH if needed)\n",
    "#         slot_button = driver.find_element(By.XPATH, f\"//button[contains(text(), '{slot_text}')]\")\n",
    "#         slot_button.click()  # Click the reservation button\n",
    "        \n",
    "#         # Example: Confirm booking if additional steps are required\n",
    "#         confirm_button = driver.find_element(By.XPATH, \"//button[@id='confirm-button-id']\")\n",
    "#         confirm_button.click()  # Click the confirm button\n",
    "        \n",
    "#         print(f\"Successfully booked: {slot_text}\")\n",
    "#         return True\n",
    "#     except Exception as e:\n",
    "#         print(f\"Error booking reservation: {e}\")\n",
    "#         return False"
   ]
  },
  {
   "cell_type": "code",
   "execution_count": 42,
   "metadata": {},
   "outputs": [
    {
     "name": "stdout",
     "output_type": "stream",
     "text": [
      "Navigated to https://resy.com/cities/new-york-ny/venues/5-napkin-burger-hells-kitchen\n"
     ]
    }
   ],
   "source": [
    "driver: webdriver.Chrome = setup_browser()\n",
    "\n",
    "# navigate_to_restaurant_page(driver=driver, url=r\"https://resy.com/cities/new-york-ny/venues/le-b\")\n",
    "\n",
    "navigate_to_restaurant_page(driver=driver, url=r\"https://resy.com/cities/new-york-ny/venues/5-napkin-burger-hells-kitchen\")"
   ]
  },
  {
   "cell_type": "markdown",
   "metadata": {},
   "source": [
    "Get a list of reservation buttons"
   ]
  },
  {
   "cell_type": "code",
   "execution_count": 43,
   "metadata": {},
   "outputs": [],
   "source": [
    "reservation_buttons: List = driver.find_elements(By.XPATH, \"//button[@class='ReservationButton Button Button--primary']\")"
   ]
  },
  {
   "cell_type": "markdown",
   "metadata": {},
   "source": [
    "Click one of the reservations and switch the context to the confirmation window"
   ]
  },
  {
   "cell_type": "code",
   "execution_count": 44,
   "metadata": {},
   "outputs": [],
   "source": [
    "reservation_buttons[1].click()\n",
    "\n",
    "# This iframe contains the reserve now button\n",
    "iframe = driver.find_element(by=By.XPATH, value=\"//iframe[@title='Resy - Book Now']\")  # MAY WANT TO DO A WAIT UNTIL HERE\n",
    "\n",
    "# Switch to the new iframe\n",
    "driver.switch_to.frame(iframe)"
   ]
  },
  {
   "cell_type": "code",
   "execution_count": 45,
   "metadata": {},
   "outputs": [
    {
     "data": {
      "text/plain": [
       "[<selenium.webdriver.remote.webelement.WebElement (session=\"b2a774e2d5d4753c2f5c601b0fcc530e\", element=\"f.2E85F419F339AA0A57EF0705383D3E57.d.B212888A341B426D423794C8C786B32B.e.675\")>,\n",
       " <selenium.webdriver.remote.webelement.WebElement (session=\"b2a774e2d5d4753c2f5c601b0fcc530e\", element=\"f.2E85F419F339AA0A57EF0705383D3E57.d.B212888A341B426D423794C8C786B32B.e.678\")>,\n",
       " <selenium.webdriver.remote.webelement.WebElement (session=\"b2a774e2d5d4753c2f5c601b0fcc530e\", element=\"f.2E85F419F339AA0A57EF0705383D3E57.d.B212888A341B426D423794C8C786B32B.e.681\")>,\n",
       " <selenium.webdriver.remote.webelement.WebElement (session=\"b2a774e2d5d4753c2f5c601b0fcc530e\", element=\"f.2E85F419F339AA0A57EF0705383D3E57.d.B212888A341B426D423794C8C786B32B.e.684\")>,\n",
       " <selenium.webdriver.remote.webelement.WebElement (session=\"b2a774e2d5d4753c2f5c601b0fcc530e\", element=\"f.2E85F419F339AA0A57EF0705383D3E57.d.B212888A341B426D423794C8C786B32B.e.687\")>,\n",
       " <selenium.webdriver.remote.webelement.WebElement (session=\"b2a774e2d5d4753c2f5c601b0fcc530e\", element=\"f.2E85F419F339AA0A57EF0705383D3E57.d.B212888A341B426D423794C8C786B32B.e.690\")>,\n",
       " <selenium.webdriver.remote.webelement.WebElement (session=\"b2a774e2d5d4753c2f5c601b0fcc530e\", element=\"f.2E85F419F339AA0A57EF0705383D3E57.d.B212888A341B426D423794C8C786B32B.e.693\")>,\n",
       " <selenium.webdriver.remote.webelement.WebElement (session=\"b2a774e2d5d4753c2f5c601b0fcc530e\", element=\"f.2E85F419F339AA0A57EF0705383D3E57.d.B212888A341B426D423794C8C786B32B.e.696\")>,\n",
       " <selenium.webdriver.remote.webelement.WebElement (session=\"b2a774e2d5d4753c2f5c601b0fcc530e\", element=\"f.2E85F419F339AA0A57EF0705383D3E57.d.B212888A341B426D423794C8C786B32B.e.699\")>,\n",
       " <selenium.webdriver.remote.webelement.WebElement (session=\"b2a774e2d5d4753c2f5c601b0fcc530e\", element=\"f.2E85F419F339AA0A57EF0705383D3E57.d.B212888A341B426D423794C8C786B32B.e.702\")>,\n",
       " <selenium.webdriver.remote.webelement.WebElement (session=\"b2a774e2d5d4753c2f5c601b0fcc530e\", element=\"f.2E85F419F339AA0A57EF0705383D3E57.d.B212888A341B426D423794C8C786B32B.e.705\")>,\n",
       " <selenium.webdriver.remote.webelement.WebElement (session=\"b2a774e2d5d4753c2f5c601b0fcc530e\", element=\"f.2E85F419F339AA0A57EF0705383D3E57.d.B212888A341B426D423794C8C786B32B.e.708\")>]"
      ]
     },
     "execution_count": 45,
     "metadata": {},
     "output_type": "execute_result"
    }
   ],
   "source": [
    "reservation_buttons"
   ]
  },
  {
   "cell_type": "markdown",
   "metadata": {},
   "source": [
    "Confirm the reservation"
   ]
  },
  {
   "cell_type": "code",
   "execution_count": 46,
   "metadata": {},
   "outputs": [],
   "source": [
    "reserve_now_button = driver.find_element(by=By.XPATH, value=\"//button[@class='Button Button--primary Button--lg']\")\n",
    "reserve_now_button.click()"
   ]
  },
  {
   "cell_type": "code",
   "execution_count": 47,
   "metadata": {},
   "outputs": [],
   "source": [
    "double_confirm_button = driver.find_element(by=By.XPATH, value=\"//button[@class='Button Button--double-confirm Button--lg']\")\n",
    "double_confirm_button.click()"
   ]
  },
  {
   "cell_type": "markdown",
   "metadata": {},
   "source": [
    "Aggregate functionality into a ReservationExecutionEngine"
   ]
  },
  {
   "cell_type": "code",
   "execution_count": 40,
   "metadata": {},
   "outputs": [],
   "source": [
    "from selenium.webdriver.support.ui import WebDriverWait\n",
    "from selenium.webdriver.support import expected_conditions as EC\n",
    "from selenium.common.exceptions import (\n",
    "    TimeoutException,\n",
    "    ElementClickInterceptedException,\n",
    "    StaleElementReferenceException,\n",
    ")\n",
    "\n",
    "\n",
    "def safe_click(driver, button, timeout: int = 10, retry_delay: int = 1, max_retries: int = 3) -> None:\n",
    "    \"\"\"\n",
    "    Safely clicks a button, handling timing issues and element obstructions.\n",
    "\n",
    "    Parameters:\n",
    "        driver: The Selenium WebDriver instance.\n",
    "        button: The web element to click.\n",
    "        timeout: Maximum time to wait for the element to become clickable.\n",
    "        retry_delay: Time to wait between retries if a click fails.\n",
    "        max_retries: Maximum number of retries after interception.\n",
    "\n",
    "    Returns:\n",
    "        None\n",
    "\n",
    "    Raises:\n",
    "        TimeoutException: If the element does not become clickable within the timeout.\n",
    "        Exception: If all retries fail.\n",
    "    \"\"\"\n",
    "\n",
    "    try:\n",
    "\n",
    "        # Wait for the element to become clickable\n",
    "        WebDriverWait(driver, timeout).until(EC.element_to_be_clickable(button))\n",
    "        \n",
    "        # Try clicking with retry logic\n",
    "        retries = 0\n",
    "        \n",
    "        while retries < max_retries:\n",
    "\n",
    "            try:\n",
    "            \n",
    "                button.click()\n",
    "                print(\"Element clicked successfully.\")\n",
    "                return\n",
    "            \n",
    "            except ElementClickInterceptedException:\n",
    "            \n",
    "                retries += 1\n",
    "                print(f\"Click intercepted. Retrying {retries}/{max_retries}...\")\n",
    "                WebDriverWait(driver, retry_delay).until(lambda d: True)  # Small delay for retry\n",
    "\n",
    "        raise Exception(f\"Failed to click element after {max_retries} retries.\")\n",
    "    \n",
    "    except TimeoutException:\n",
    "        \n",
    "        print(f\"Element not clickable after {timeout} seconds.\")\n",
    "        raise\n",
    "\n",
    "\n",
    "def execute_reservation(driver, reservation_button) -> None:\n",
    "    \"\"\"\n",
    "    TODO: handle timeouts properly\n",
    "    \"\"\"\n",
    "\n",
    "    # Click the reservation button\n",
    "    # try:\n",
    "    safe_click(driver=driver, button=reservation_button)\n",
    "    # except:\n",
    "        # time.sleep(5)\n",
    "        # reservation_button.click()\n",
    "    \n",
    "    # time.sleep(3)\n",
    "    \n",
    "    # This iframe contains the reserve now button\n",
    "    # iframe = driver.find_element(by=By.XPATH, value=\"//iframe[@title='Resy - Book Now']\")  # MAY WANT TO DO A WAIT UNTIL HERE\n",
    "    iframe = WebDriverWait(driver=driver, timeout=10).until(\n",
    "        method=EC.frame_to_be_available_and_switch_to_it(locator=(By.XPATH, \"//iframe[@title='Resy - Book Now']\"))\n",
    "    )\n",
    "\n",
    "    # # Switch to the new iframe\n",
    "    # driver.switch_to.frame(iframe)\n",
    "    # iframe = WebDriverWait(driver, 10).until(\n",
    "    #     EC.frame_to_be_available_and_switch_to_it((By.XPATH, \"//iframe[@title='Resy - Book Now']\"))\n",
    "    # )\n",
    "    # driver.switch_to.frame(iframe)\n",
    "\n",
    "    print(\"Driver switched\")\n",
    "\n",
    "    # Click the first confirm reservation button - repeatedly polls the page for a certain condition until a timeout is reached\n",
    "    reserve_now_button = WebDriverWait(driver=driver, timeout=10).until(\n",
    "        method=EC.element_to_be_clickable((By.XPATH, \"//button[@class='Button Button--primary Button--lg']\"))\n",
    "    )\n",
    "\n",
    "    \n",
    "    # reserve_now_button = driver.find_element(by=By.XPATH, value=\"//button[@class='Button Button--primary Button--lg']\")\n",
    "    # reserve_now_button.click()\n",
    "    safe_click(driver=driver, button=reserve_now_button)\n",
    "    print(\"Reserve button clicked!\")\n",
    "\n",
    "    # time.sleep(2)\n",
    "\n",
    "    # Click the second confirmation button\n",
    "    double_confirm_button = driver.find_element(by=By.XPATH, value=\"//button[@class='Button Button--double-confirm Button--lg']\")\n",
    "    # double_confirm_button = WebDriverWait(driver=driver, timeout=10).until(\n",
    "    #     method=EC.element_to_be_clickable((By.XPATH, \"//button[@class='Button Button--double-confirm Button--lg']\"))\n",
    "    # )\n",
    "    # double_confirm_button.click()\n",
    "    safe_click(driver=driver, button=double_confirm_button)\n",
    "    print(\"Double confirmation button clicked!\")\n",
    "\n",
    "    return"
   ]
  },
  {
   "cell_type": "markdown",
   "metadata": {},
   "source": [
    "Make a robust safe click function "
   ]
  },
  {
   "cell_type": "code",
   "execution_count": 37,
   "metadata": {},
   "outputs": [],
   "source": [
    "import time"
   ]
  },
  {
   "cell_type": "code",
   "execution_count": 55,
   "metadata": {},
   "outputs": [
    {
     "name": "stdout",
     "output_type": "stream",
     "text": [
      "Navigated to https://resy.com/cities/new-york-ny/venues/5-napkin-burger-hells-kitchen\n",
      "Found 16 reservation(s)\n",
      "Element clicked successfully.\n",
      "Driver switched\n",
      "Reserve button clicked!\n"
     ]
    }
   ],
   "source": [
    "driver: webdriver.Chrome = setup_browser()\n",
    "\n",
    "navigate_to_restaurant_page(driver=driver, url=r\"https://resy.com/cities/new-york-ny/venues/5-napkin-burger-hells-kitchen\")\n",
    "# navigate_to_restaurant_page(driver=driver, url=r\"https://resy.com/cities/pittsburgh-pa/venues/fet-fisk?date=2024-12-02\")\n",
    "\n",
    "time.sleep(3)\n",
    "reservation_buttons: List = get_reservation_buttons(driver=driver)  # TODO: wait for things to load\n",
    "reservation_button = reservation_buttons[3]\n",
    "\n",
    "# TODO: create a time priority algorithm\n",
    "execute_reservation(driver=driver, reservation_button=reservation_button)"
   ]
  },
  {
   "cell_type": "code",
   "execution_count": 44,
   "metadata": {},
   "outputs": [
    {
     "data": {
      "text/plain": [
       "[<selenium.webdriver.remote.webelement.WebElement (session=\"9b258008192dc623d56c276fed91622a\", element=\"f.2D47B20855184E8E52F2604E6BE44AFA.d.D559359FC5E4164BAFFF28E6D3F749C3.e.18\")>,\n",
       " <selenium.webdriver.remote.webelement.WebElement (session=\"9b258008192dc623d56c276fed91622a\", element=\"f.2D47B20855184E8E52F2604E6BE44AFA.d.D559359FC5E4164BAFFF28E6D3F749C3.e.19\")>,\n",
       " <selenium.webdriver.remote.webelement.WebElement (session=\"9b258008192dc623d56c276fed91622a\", element=\"f.2D47B20855184E8E52F2604E6BE44AFA.d.D559359FC5E4164BAFFF28E6D3F749C3.e.20\")>,\n",
       " <selenium.webdriver.remote.webelement.WebElement (session=\"9b258008192dc623d56c276fed91622a\", element=\"f.2D47B20855184E8E52F2604E6BE44AFA.d.D559359FC5E4164BAFFF28E6D3F749C3.e.21\")>,\n",
       " <selenium.webdriver.remote.webelement.WebElement (session=\"9b258008192dc623d56c276fed91622a\", element=\"f.2D47B20855184E8E52F2604E6BE44AFA.d.D559359FC5E4164BAFFF28E6D3F749C3.e.22\")>,\n",
       " <selenium.webdriver.remote.webelement.WebElement (session=\"9b258008192dc623d56c276fed91622a\", element=\"f.2D47B20855184E8E52F2604E6BE44AFA.d.D559359FC5E4164BAFFF28E6D3F749C3.e.23\")>,\n",
       " <selenium.webdriver.remote.webelement.WebElement (session=\"9b258008192dc623d56c276fed91622a\", element=\"f.2D47B20855184E8E52F2604E6BE44AFA.d.D559359FC5E4164BAFFF28E6D3F749C3.e.24\")>,\n",
       " <selenium.webdriver.remote.webelement.WebElement (session=\"9b258008192dc623d56c276fed91622a\", element=\"f.2D47B20855184E8E52F2604E6BE44AFA.d.D559359FC5E4164BAFFF28E6D3F749C3.e.25\")>,\n",
       " <selenium.webdriver.remote.webelement.WebElement (session=\"9b258008192dc623d56c276fed91622a\", element=\"f.2D47B20855184E8E52F2604E6BE44AFA.d.D559359FC5E4164BAFFF28E6D3F749C3.e.26\")>,\n",
       " <selenium.webdriver.remote.webelement.WebElement (session=\"9b258008192dc623d56c276fed91622a\", element=\"f.2D47B20855184E8E52F2604E6BE44AFA.d.D559359FC5E4164BAFFF28E6D3F749C3.e.27\")>,\n",
       " <selenium.webdriver.remote.webelement.WebElement (session=\"9b258008192dc623d56c276fed91622a\", element=\"f.2D47B20855184E8E52F2604E6BE44AFA.d.D559359FC5E4164BAFFF28E6D3F749C3.e.28\")>,\n",
       " <selenium.webdriver.remote.webelement.WebElement (session=\"9b258008192dc623d56c276fed91622a\", element=\"f.2D47B20855184E8E52F2604E6BE44AFA.d.D559359FC5E4164BAFFF28E6D3F749C3.e.29\")>,\n",
       " <selenium.webdriver.remote.webelement.WebElement (session=\"9b258008192dc623d56c276fed91622a\", element=\"f.2D47B20855184E8E52F2604E6BE44AFA.d.D559359FC5E4164BAFFF28E6D3F749C3.e.33\")>,\n",
       " <selenium.webdriver.remote.webelement.WebElement (session=\"9b258008192dc623d56c276fed91622a\", element=\"f.2D47B20855184E8E52F2604E6BE44AFA.d.D559359FC5E4164BAFFF28E6D3F749C3.e.34\")>,\n",
       " <selenium.webdriver.remote.webelement.WebElement (session=\"9b258008192dc623d56c276fed91622a\", element=\"f.2D47B20855184E8E52F2604E6BE44AFA.d.D559359FC5E4164BAFFF28E6D3F749C3.e.35\")>,\n",
       " <selenium.webdriver.remote.webelement.WebElement (session=\"9b258008192dc623d56c276fed91622a\", element=\"f.2D47B20855184E8E52F2604E6BE44AFA.d.D559359FC5E4164BAFFF28E6D3F749C3.e.36\")>,\n",
       " <selenium.webdriver.remote.webelement.WebElement (session=\"9b258008192dc623d56c276fed91622a\", element=\"f.2D47B20855184E8E52F2604E6BE44AFA.d.D559359FC5E4164BAFFF28E6D3F749C3.e.37\")>,\n",
       " <selenium.webdriver.remote.webelement.WebElement (session=\"9b258008192dc623d56c276fed91622a\", element=\"f.2D47B20855184E8E52F2604E6BE44AFA.d.D559359FC5E4164BAFFF28E6D3F749C3.e.38\")>,\n",
       " <selenium.webdriver.remote.webelement.WebElement (session=\"9b258008192dc623d56c276fed91622a\", element=\"f.2D47B20855184E8E52F2604E6BE44AFA.d.D559359FC5E4164BAFFF28E6D3F749C3.e.39\")>,\n",
       " <selenium.webdriver.remote.webelement.WebElement (session=\"9b258008192dc623d56c276fed91622a\", element=\"f.2D47B20855184E8E52F2604E6BE44AFA.d.D559359FC5E4164BAFFF28E6D3F749C3.e.40\")>,\n",
       " <selenium.webdriver.remote.webelement.WebElement (session=\"9b258008192dc623d56c276fed91622a\", element=\"f.2D47B20855184E8E52F2604E6BE44AFA.d.D559359FC5E4164BAFFF28E6D3F749C3.e.41\")>,\n",
       " <selenium.webdriver.remote.webelement.WebElement (session=\"9b258008192dc623d56c276fed91622a\", element=\"f.2D47B20855184E8E52F2604E6BE44AFA.d.D559359FC5E4164BAFFF28E6D3F749C3.e.42\")>,\n",
       " <selenium.webdriver.remote.webelement.WebElement (session=\"9b258008192dc623d56c276fed91622a\", element=\"f.2D47B20855184E8E52F2604E6BE44AFA.d.D559359FC5E4164BAFFF28E6D3F749C3.e.43\")>,\n",
       " <selenium.webdriver.remote.webelement.WebElement (session=\"9b258008192dc623d56c276fed91622a\", element=\"f.2D47B20855184E8E52F2604E6BE44AFA.d.D559359FC5E4164BAFFF28E6D3F749C3.e.44\")>,\n",
       " <selenium.webdriver.remote.webelement.WebElement (session=\"9b258008192dc623d56c276fed91622a\", element=\"f.2D47B20855184E8E52F2604E6BE44AFA.d.D559359FC5E4164BAFFF28E6D3F749C3.e.45\")>,\n",
       " <selenium.webdriver.remote.webelement.WebElement (session=\"9b258008192dc623d56c276fed91622a\", element=\"f.2D47B20855184E8E52F2604E6BE44AFA.d.D559359FC5E4164BAFFF28E6D3F749C3.e.46\")>,\n",
       " <selenium.webdriver.remote.webelement.WebElement (session=\"9b258008192dc623d56c276fed91622a\", element=\"f.2D47B20855184E8E52F2604E6BE44AFA.d.D559359FC5E4164BAFFF28E6D3F749C3.e.47\")>,\n",
       " <selenium.webdriver.remote.webelement.WebElement (session=\"9b258008192dc623d56c276fed91622a\", element=\"f.2D47B20855184E8E52F2604E6BE44AFA.d.D559359FC5E4164BAFFF28E6D3F749C3.e.48\")>,\n",
       " <selenium.webdriver.remote.webelement.WebElement (session=\"9b258008192dc623d56c276fed91622a\", element=\"f.2D47B20855184E8E52F2604E6BE44AFA.d.D559359FC5E4164BAFFF28E6D3F749C3.e.49\")>,\n",
       " <selenium.webdriver.remote.webelement.WebElement (session=\"9b258008192dc623d56c276fed91622a\", element=\"f.2D47B20855184E8E52F2604E6BE44AFA.d.D559359FC5E4164BAFFF28E6D3F749C3.e.50\")>,\n",
       " <selenium.webdriver.remote.webelement.WebElement (session=\"9b258008192dc623d56c276fed91622a\", element=\"f.2D47B20855184E8E52F2604E6BE44AFA.d.D559359FC5E4164BAFFF28E6D3F749C3.e.51\")>,\n",
       " <selenium.webdriver.remote.webelement.WebElement (session=\"9b258008192dc623d56c276fed91622a\", element=\"f.2D47B20855184E8E52F2604E6BE44AFA.d.D559359FC5E4164BAFFF28E6D3F749C3.e.52\")>,\n",
       " <selenium.webdriver.remote.webelement.WebElement (session=\"9b258008192dc623d56c276fed91622a\", element=\"f.2D47B20855184E8E52F2604E6BE44AFA.d.D559359FC5E4164BAFFF28E6D3F749C3.e.53\")>,\n",
       " <selenium.webdriver.remote.webelement.WebElement (session=\"9b258008192dc623d56c276fed91622a\", element=\"f.2D47B20855184E8E52F2604E6BE44AFA.d.D559359FC5E4164BAFFF28E6D3F749C3.e.54\")>]"
      ]
     },
     "execution_count": 44,
     "metadata": {},
     "output_type": "execute_result"
    }
   ],
   "source": [
    "reservation_buttons"
   ]
  },
  {
   "cell_type": "code",
   "execution_count": null,
   "metadata": {},
   "outputs": [],
   "source": []
  },
  {
   "cell_type": "code",
   "execution_count": 42,
   "metadata": {},
   "outputs": [
    {
     "ename": "ElementClickInterceptedException",
     "evalue": "Message: element click intercepted: Element is not clickable at point (113, 958)\n  (Session info: chrome=131.0.6778.86)\nStacktrace:\n\tGetHandleVerifier [0x00007FF6E1076CB5+28821]\n\t(No symbol) [0x00007FF6E0FE3840]\n\t(No symbol) [0x00007FF6E0E8578A]\n\t(No symbol) [0x00007FF6E0EE0E8E]\n\t(No symbol) [0x00007FF6E0EDE92C]\n\t(No symbol) [0x00007FF6E0EDBAF6]\n\t(No symbol) [0x00007FF6E0EDAA51]\n\t(No symbol) [0x00007FF6E0ECCBA0]\n\t(No symbol) [0x00007FF6E0EFF2FA]\n\t(No symbol) [0x00007FF6E0ECC3F6]\n\t(No symbol) [0x00007FF6E0EFF510]\n\t(No symbol) [0x00007FF6E0F1F412]\n\t(No symbol) [0x00007FF6E0EFF0A3]\n\t(No symbol) [0x00007FF6E0ECA778]\n\t(No symbol) [0x00007FF6E0ECB8E1]\n\tGetHandleVerifier [0x00007FF6E13AFCAD+3408013]\n\tGetHandleVerifier [0x00007FF6E13C741F+3504127]\n\tGetHandleVerifier [0x00007FF6E13BB5FD+3455453]\n\tGetHandleVerifier [0x00007FF6E113BDBB+835995]\n\t(No symbol) [0x00007FF6E0FEEB5F]\n\t(No symbol) [0x00007FF6E0FEA814]\n\t(No symbol) [0x00007FF6E0FEA9AD]\n\t(No symbol) [0x00007FF6E0FDA199]\n\tBaseThreadInitThunk [0x00007FFCD3637374+20]\n\tRtlUserThreadStart [0x00007FFCD469CC91+33]\n",
     "output_type": "error",
     "traceback": [
      "\u001b[1;31m---------------------------------------------------------------------------\u001b[0m",
      "\u001b[1;31mElementClickInterceptedException\u001b[0m          Traceback (most recent call last)",
      "Cell \u001b[1;32mIn[42], line 1\u001b[0m\n\u001b[1;32m----> 1\u001b[0m reservation_button\u001b[38;5;241m.\u001b[39mclick()\n",
      "File \u001b[1;32mc:\\Users\\marcu\\miniconda3\\envs\\reservation_arbitrage\\Lib\\site-packages\\selenium\\webdriver\\remote\\webelement.py:94\u001b[0m, in \u001b[0;36mWebElement.click\u001b[1;34m(self)\u001b[0m\n\u001b[0;32m     92\u001b[0m \u001b[38;5;28;01mdef\u001b[39;00m \u001b[38;5;21mclick\u001b[39m(\u001b[38;5;28mself\u001b[39m) \u001b[38;5;241m-\u001b[39m\u001b[38;5;241m>\u001b[39m \u001b[38;5;28;01mNone\u001b[39;00m:\n\u001b[0;32m     93\u001b[0m \u001b[38;5;250m    \u001b[39m\u001b[38;5;124;03m\"\"\"Clicks the element.\"\"\"\u001b[39;00m\n\u001b[1;32m---> 94\u001b[0m     \u001b[38;5;28mself\u001b[39m\u001b[38;5;241m.\u001b[39m_execute(Command\u001b[38;5;241m.\u001b[39mCLICK_ELEMENT)\n",
      "File \u001b[1;32mc:\\Users\\marcu\\miniconda3\\envs\\reservation_arbitrage\\Lib\\site-packages\\selenium\\webdriver\\remote\\webelement.py:395\u001b[0m, in \u001b[0;36mWebElement._execute\u001b[1;34m(self, command, params)\u001b[0m\n\u001b[0;32m    393\u001b[0m     params \u001b[38;5;241m=\u001b[39m {}\n\u001b[0;32m    394\u001b[0m params[\u001b[38;5;124m\"\u001b[39m\u001b[38;5;124mid\u001b[39m\u001b[38;5;124m\"\u001b[39m] \u001b[38;5;241m=\u001b[39m \u001b[38;5;28mself\u001b[39m\u001b[38;5;241m.\u001b[39m_id\n\u001b[1;32m--> 395\u001b[0m \u001b[38;5;28;01mreturn\u001b[39;00m \u001b[38;5;28mself\u001b[39m\u001b[38;5;241m.\u001b[39m_parent\u001b[38;5;241m.\u001b[39mexecute(command, params)\n",
      "File \u001b[1;32mc:\\Users\\marcu\\miniconda3\\envs\\reservation_arbitrage\\Lib\\site-packages\\selenium\\webdriver\\remote\\webdriver.py:354\u001b[0m, in \u001b[0;36mWebDriver.execute\u001b[1;34m(self, driver_command, params)\u001b[0m\n\u001b[0;32m    352\u001b[0m response \u001b[38;5;241m=\u001b[39m \u001b[38;5;28mself\u001b[39m\u001b[38;5;241m.\u001b[39mcommand_executor\u001b[38;5;241m.\u001b[39mexecute(driver_command, params)\n\u001b[0;32m    353\u001b[0m \u001b[38;5;28;01mif\u001b[39;00m response:\n\u001b[1;32m--> 354\u001b[0m     \u001b[38;5;28mself\u001b[39m\u001b[38;5;241m.\u001b[39merror_handler\u001b[38;5;241m.\u001b[39mcheck_response(response)\n\u001b[0;32m    355\u001b[0m     response[\u001b[38;5;124m\"\u001b[39m\u001b[38;5;124mvalue\u001b[39m\u001b[38;5;124m\"\u001b[39m] \u001b[38;5;241m=\u001b[39m \u001b[38;5;28mself\u001b[39m\u001b[38;5;241m.\u001b[39m_unwrap_value(response\u001b[38;5;241m.\u001b[39mget(\u001b[38;5;124m\"\u001b[39m\u001b[38;5;124mvalue\u001b[39m\u001b[38;5;124m\"\u001b[39m, \u001b[38;5;28;01mNone\u001b[39;00m))\n\u001b[0;32m    356\u001b[0m     \u001b[38;5;28;01mreturn\u001b[39;00m response\n",
      "File \u001b[1;32mc:\\Users\\marcu\\miniconda3\\envs\\reservation_arbitrage\\Lib\\site-packages\\selenium\\webdriver\\remote\\errorhandler.py:229\u001b[0m, in \u001b[0;36mErrorHandler.check_response\u001b[1;34m(self, response)\u001b[0m\n\u001b[0;32m    227\u001b[0m         alert_text \u001b[38;5;241m=\u001b[39m value[\u001b[38;5;124m\"\u001b[39m\u001b[38;5;124malert\u001b[39m\u001b[38;5;124m\"\u001b[39m]\u001b[38;5;241m.\u001b[39mget(\u001b[38;5;124m\"\u001b[39m\u001b[38;5;124mtext\u001b[39m\u001b[38;5;124m\"\u001b[39m)\n\u001b[0;32m    228\u001b[0m     \u001b[38;5;28;01mraise\u001b[39;00m exception_class(message, screen, stacktrace, alert_text)  \u001b[38;5;66;03m# type: ignore[call-arg]  # mypy is not smart enough here\u001b[39;00m\n\u001b[1;32m--> 229\u001b[0m \u001b[38;5;28;01mraise\u001b[39;00m exception_class(message, screen, stacktrace)\n",
      "\u001b[1;31mElementClickInterceptedException\u001b[0m: Message: element click intercepted: Element is not clickable at point (113, 958)\n  (Session info: chrome=131.0.6778.86)\nStacktrace:\n\tGetHandleVerifier [0x00007FF6E1076CB5+28821]\n\t(No symbol) [0x00007FF6E0FE3840]\n\t(No symbol) [0x00007FF6E0E8578A]\n\t(No symbol) [0x00007FF6E0EE0E8E]\n\t(No symbol) [0x00007FF6E0EDE92C]\n\t(No symbol) [0x00007FF6E0EDBAF6]\n\t(No symbol) [0x00007FF6E0EDAA51]\n\t(No symbol) [0x00007FF6E0ECCBA0]\n\t(No symbol) [0x00007FF6E0EFF2FA]\n\t(No symbol) [0x00007FF6E0ECC3F6]\n\t(No symbol) [0x00007FF6E0EFF510]\n\t(No symbol) [0x00007FF6E0F1F412]\n\t(No symbol) [0x00007FF6E0EFF0A3]\n\t(No symbol) [0x00007FF6E0ECA778]\n\t(No symbol) [0x00007FF6E0ECB8E1]\n\tGetHandleVerifier [0x00007FF6E13AFCAD+3408013]\n\tGetHandleVerifier [0x00007FF6E13C741F+3504127]\n\tGetHandleVerifier [0x00007FF6E13BB5FD+3455453]\n\tGetHandleVerifier [0x00007FF6E113BDBB+835995]\n\t(No symbol) [0x00007FF6E0FEEB5F]\n\t(No symbol) [0x00007FF6E0FEA814]\n\t(No symbol) [0x00007FF6E0FEA9AD]\n\t(No symbol) [0x00007FF6E0FDA199]\n\tBaseThreadInitThunk [0x00007FFCD3637374+20]\n\tRtlUserThreadStart [0x00007FFCD469CC91+33]\n"
     ]
    }
   ],
   "source": [
    "reservation_button.click()"
   ]
  },
  {
   "cell_type": "code",
   "execution_count": null,
   "metadata": {},
   "outputs": [],
   "source": []
  }
 ],
 "metadata": {
  "kernelspec": {
   "display_name": "reservation_arbitrage",
   "language": "python",
   "name": "python3"
  },
  "language_info": {
   "codemirror_mode": {
    "name": "ipython",
    "version": 3
   },
   "file_extension": ".py",
   "mimetype": "text/x-python",
   "name": "python",
   "nbconvert_exporter": "python",
   "pygments_lexer": "ipython3",
   "version": "3.12.7"
  }
 },
 "nbformat": 4,
 "nbformat_minor": 2
}

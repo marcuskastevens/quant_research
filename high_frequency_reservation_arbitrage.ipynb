{
 "cells": [
  {
   "cell_type": "code",
   "execution_count": 49,
   "metadata": {},
   "outputs": [],
   "source": [
    "# Built-in dependencies\n",
    "import os\n",
    "from typing import List\n",
    "\n",
    "# External dependencies\n",
    "from selenium import webdriver\n",
    "from selenium.webdriver.common.by import By\n",
    "from selenium.webdriver.chrome.options import Options\n",
    "from selenium.webdriver.chrome.service import Service"
   ]
  },
  {
   "cell_type": "code",
   "execution_count": 31,
   "metadata": {},
   "outputs": [],
   "source": [
    "CHROME_USER_PROFILE: str = \"Reservation Arbitrageur\"\n",
    "CHROME_DRIVER_PATH: str = r\"C:\\Program Files\\Google\\Chrome\\Application\\chrome.exe\"\n",
    "CHROME_USER_DATA_PATH: str =r\"C:\\Users\\marcu\\Documents\\Quant\\Programming\\reservation_arbitrage\\User Data\""
   ]
  },
  {
   "cell_type": "markdown",
   "metadata": {},
   "source": [
    "Testing"
   ]
  },
  {
   "cell_type": "code",
   "execution_count": 32,
   "metadata": {},
   "outputs": [],
   "source": [
    "# options = Options()\n",
    "\n",
    "# # Disable GPU to reduce overhead\n",
    "# options.add_argument(\"--disable-gpu\")\n",
    "# options.add_argument(\"--no-sandbox\")\n",
    "\n",
    "# # Specify the user data directory and user profile to avoid profile selection prompts\n",
    "# options.add_argument(f\"--user-data-dir={CHROME_USER_DATA_PATH}\")\n",
    "# options.add_argument(f\"--profile-directory={CHROME_USER_PROFILE}\")\n",
    "\n",
    "# # Update with the path to your driver\n",
    "# service = Service(CHROME_DRIVER_PATH)\n",
    "\n",
    "# driver = webdriver.Chrome(options=options)\n",
    "\n",
    "# # Navigate to the GeeksforGeeks website\n",
    "# driver.get(\"https://www.geeksforgeeks.org/\")"
   ]
  },
  {
   "cell_type": "markdown",
   "metadata": {},
   "source": [
    "Arbitrage functions"
   ]
  },
  {
   "cell_type": "code",
   "execution_count": 50,
   "metadata": {},
   "outputs": [],
   "source": [
    "def setup_browser() -> webdriver.Chrome:\n",
    "    \"\"\"\n",
    "    Sets up the Selenium Chrome WebDriver with appropriate options.\n",
    "    Returns:\n",
    "        webdriver.Chrome: The initialized WebDriver.\n",
    "    \"\"\"\n",
    "\n",
    "    options = Options()\n",
    "\n",
    "    # Run in headless mode for efficiency\n",
    "    # options.add_argument(\"--headless=new\")  \n",
    "    \n",
    "    # Disable GPU to reduce overhead\n",
    "    options.add_argument(\"--disable-gpu\")  \n",
    "    \n",
    "    # Required for some environments\n",
    "    options.add_argument(\"--no-sandbox\")  \n",
    "\n",
    "    # Specify the user data directory and user profile to avoid profile selection prompts\n",
    "    options.add_argument(f\"--user-data-dir={CHROME_USER_DATA_PATH}\")\n",
    "    options.add_argument(f\"--profile-directory={CHROME_USER_PROFILE}\")\n",
    "    \n",
    "    # Update with the path to your driver\n",
    "    # service = Service(CHROME_DRIVER_PATH)\n",
    "\n",
    "    return webdriver.Chrome(options=options)  # webdriver.Chrome(service=service, options=options)\n",
    "\n",
    "\n",
    "def navigate_to_restaurant_page(driver: webdriver.Chrome, url: str) -> None:\n",
    "    \"\"\"\n",
    "    Navigates the browser to the given restaurant's Resy page.\n",
    "    Args:\n",
    "        driver (webdriver.Chrome): The initialized WebDriver.\n",
    "        url (str): The Resy restaurant URL.\n",
    "    \"\"\"\n",
    "    \n",
    "    driver.get(url)\n",
    "    \n",
    "    print(f\"Navigated to {url}\")\n",
    "\n",
    "    return\n",
    "\n",
    "\n",
    "def get_reservation_buttons(driver: webdriver.Chrome) -> list:\n",
    "    \"\"\"\n",
    "    Scans the restaurant page for available reservation slots.\n",
    "    Args:\n",
    "        driver (webdriver.Chrome): The Selenium WebDriver after navigation.\n",
    "    Returns:\n",
    "        list: A list of available reservation slots with details.\n",
    "    \"\"\"\n",
    "    \n",
    "    try:\n",
    "\n",
    "        # Locate reservation elements (update XPATH based on Resy’s structure)\n",
    "        reservation_buttons: List = driver.find_elements(By.XPATH, \"//button[@class='ReservationButton Button Button--primary']\")\n",
    "        print(f\"Found {len(reservation_buttons)} reservation(s)\")\n",
    "        return reservation_buttons\n",
    "    \n",
    "    except Exception as e:\n",
    "\n",
    "        print(f\"Error finding reservation slots: {e}\")\n",
    "        \n",
    "        return []\n",
    "    \n",
    "\n",
    "# def book_reservation(driver: webdriver.Chrome, slot_text: str) -> bool:\n",
    "#     \"\"\"\n",
    "#     Attempts to book the specified reservation slot.\n",
    "#     Args:\n",
    "#         driver (webdriver.Chrome): The Selenium WebDriver.\n",
    "#         slot_text (str): The text identifying the desired reservation slot.\n",
    "#     Returns:\n",
    "#         bool: True if booking was successful, False otherwise.\n",
    "#     \"\"\"\n",
    "#     try:\n",
    "#         # Locate the desired slot button by text (update XPATH if needed)\n",
    "#         slot_button = driver.find_element(By.XPATH, f\"//button[contains(text(), '{slot_text}')]\")\n",
    "#         slot_button.click()  # Click the reservation button\n",
    "        \n",
    "#         # Example: Confirm booking if additional steps are required\n",
    "#         confirm_button = driver.find_element(By.XPATH, \"//button[@id='confirm-button-id']\")\n",
    "#         confirm_button.click()  # Click the confirm button\n",
    "        \n",
    "#         print(f\"Successfully booked: {slot_text}\")\n",
    "#         return True\n",
    "#     except Exception as e:\n",
    "#         print(f\"Error booking reservation: {e}\")\n",
    "#         return False"
   ]
  },
  {
   "cell_type": "code",
   "execution_count": 42,
   "metadata": {},
   "outputs": [
    {
     "name": "stdout",
     "output_type": "stream",
     "text": [
      "Navigated to https://resy.com/cities/new-york-ny/venues/5-napkin-burger-hells-kitchen\n"
     ]
    }
   ],
   "source": [
    "driver: webdriver.Chrome = setup_browser()\n",
    "\n",
    "# navigate_to_restaurant_page(driver=driver, url=r\"https://resy.com/cities/new-york-ny/venues/le-b\")\n",
    "\n",
    "navigate_to_restaurant_page(driver=driver, url=r\"https://resy.com/cities/new-york-ny/venues/5-napkin-burger-hells-kitchen\")"
   ]
  },
  {
   "cell_type": "markdown",
   "metadata": {},
   "source": [
    "Get a list of reservation buttons"
   ]
  },
  {
   "cell_type": "code",
   "execution_count": 43,
   "metadata": {},
   "outputs": [],
   "source": [
    "reservation_buttons: list = driver.find_elements(By.XPATH, \"//button[@class='ReservationButton Button Button--primary']\")"
   ]
  },
  {
   "cell_type": "markdown",
   "metadata": {},
   "source": [
    "Click one of the reservations and switch the context to the confirmation window"
   ]
  },
  {
   "cell_type": "code",
   "execution_count": 44,
   "metadata": {},
   "outputs": [],
   "source": [
    "reservation_buttons[1].click()\n",
    "\n",
    "# This iframe contains the reserve now button\n",
    "iframe = driver.find_element(by=By.XPATH, value=\"//iframe[@title='Resy - Book Now']\")  # MAY WANT TO DO A WAIT UNTIL HERE\n",
    "\n",
    "# Switch to the new iframe\n",
    "driver.switch_to.frame(iframe)"
   ]
  },
  {
   "cell_type": "code",
   "execution_count": 45,
   "metadata": {},
   "outputs": [
    {
     "data": {
      "text/plain": [
       "[<selenium.webdriver.remote.webelement.WebElement (session=\"b2a774e2d5d4753c2f5c601b0fcc530e\", element=\"f.2E85F419F339AA0A57EF0705383D3E57.d.B212888A341B426D423794C8C786B32B.e.675\")>,\n",
       " <selenium.webdriver.remote.webelement.WebElement (session=\"b2a774e2d5d4753c2f5c601b0fcc530e\", element=\"f.2E85F419F339AA0A57EF0705383D3E57.d.B212888A341B426D423794C8C786B32B.e.678\")>,\n",
       " <selenium.webdriver.remote.webelement.WebElement (session=\"b2a774e2d5d4753c2f5c601b0fcc530e\", element=\"f.2E85F419F339AA0A57EF0705383D3E57.d.B212888A341B426D423794C8C786B32B.e.681\")>,\n",
       " <selenium.webdriver.remote.webelement.WebElement (session=\"b2a774e2d5d4753c2f5c601b0fcc530e\", element=\"f.2E85F419F339AA0A57EF0705383D3E57.d.B212888A341B426D423794C8C786B32B.e.684\")>,\n",
       " <selenium.webdriver.remote.webelement.WebElement (session=\"b2a774e2d5d4753c2f5c601b0fcc530e\", element=\"f.2E85F419F339AA0A57EF0705383D3E57.d.B212888A341B426D423794C8C786B32B.e.687\")>,\n",
       " <selenium.webdriver.remote.webelement.WebElement (session=\"b2a774e2d5d4753c2f5c601b0fcc530e\", element=\"f.2E85F419F339AA0A57EF0705383D3E57.d.B212888A341B426D423794C8C786B32B.e.690\")>,\n",
       " <selenium.webdriver.remote.webelement.WebElement (session=\"b2a774e2d5d4753c2f5c601b0fcc530e\", element=\"f.2E85F419F339AA0A57EF0705383D3E57.d.B212888A341B426D423794C8C786B32B.e.693\")>,\n",
       " <selenium.webdriver.remote.webelement.WebElement (session=\"b2a774e2d5d4753c2f5c601b0fcc530e\", element=\"f.2E85F419F339AA0A57EF0705383D3E57.d.B212888A341B426D423794C8C786B32B.e.696\")>,\n",
       " <selenium.webdriver.remote.webelement.WebElement (session=\"b2a774e2d5d4753c2f5c601b0fcc530e\", element=\"f.2E85F419F339AA0A57EF0705383D3E57.d.B212888A341B426D423794C8C786B32B.e.699\")>,\n",
       " <selenium.webdriver.remote.webelement.WebElement (session=\"b2a774e2d5d4753c2f5c601b0fcc530e\", element=\"f.2E85F419F339AA0A57EF0705383D3E57.d.B212888A341B426D423794C8C786B32B.e.702\")>,\n",
       " <selenium.webdriver.remote.webelement.WebElement (session=\"b2a774e2d5d4753c2f5c601b0fcc530e\", element=\"f.2E85F419F339AA0A57EF0705383D3E57.d.B212888A341B426D423794C8C786B32B.e.705\")>,\n",
       " <selenium.webdriver.remote.webelement.WebElement (session=\"b2a774e2d5d4753c2f5c601b0fcc530e\", element=\"f.2E85F419F339AA0A57EF0705383D3E57.d.B212888A341B426D423794C8C786B32B.e.708\")>]"
      ]
     },
     "execution_count": 45,
     "metadata": {},
     "output_type": "execute_result"
    }
   ],
   "source": [
    "reservation_buttons"
   ]
  },
  {
   "cell_type": "markdown",
   "metadata": {},
   "source": [
    "Confirm the reservation"
   ]
  },
  {
   "cell_type": "code",
   "execution_count": 46,
   "metadata": {},
   "outputs": [],
   "source": [
    "reserve_now_button = driver.find_element(by=By.XPATH, value=\"//button[@class='Button Button--primary Button--lg']\")\n",
    "reserve_now_button.click()"
   ]
  },
  {
   "cell_type": "code",
   "execution_count": 47,
   "metadata": {},
   "outputs": [],
   "source": [
    "double_confirm_button = driver.find_element(by=By.XPATH, value=\"//button[@class='Button Button--double-confirm Button--lg']\")\n",
    "double_confirm_button.click()"
   ]
  },
  {
   "cell_type": "markdown",
   "metadata": {},
   "source": [
    "Aggregate functionality into a ReservationExecutionEngine"
   ]
  },
  {
   "cell_type": "code",
   "execution_count": 103,
   "metadata": {},
   "outputs": [],
   "source": [
    "from selenium.webdriver.support.ui import WebDriverWait\n",
    "from selenium.webdriver.support import expected_conditions as EC\n",
    "\n",
    "def execute_reservation(driver, reservation_button) -> None:\n",
    "    \"\"\"\n",
    "    TODO: handle timeouts properly\n",
    "    \"\"\"\n",
    "\n",
    "    # Click the reservation button\n",
    "    try:\n",
    "        reservation_button.click()\n",
    "    except:\n",
    "        # time.sleep(5)\n",
    "        reservation_button.click()\n",
    "    \n",
    "    time.sleep(3)\n",
    "    \n",
    "    # This iframe contains the reserve now button\n",
    "    iframe = driver.find_element(by=By.XPATH, value=\"//iframe[@title='Resy - Book Now']\")  # MAY WANT TO DO A WAIT UNTIL HERE\n",
    "    # iframe = WebDriverWait(driver=driver, timeout=10).until(\n",
    "    #     method=EC.frame_to_be_available_and_switch_to_it(locator=(By.XPATH, \"//iframe[@title='Resy - Book Now']\"))\n",
    "    # )\n",
    "\n",
    "    # # Switch to the new iframe\n",
    "    # driver.switch_to.frame(iframe)\n",
    "    # iframe = WebDriverWait(driver, 10).until(\n",
    "    #     EC.frame_to_be_available_and_switch_to_it((By.XPATH, \"//iframe[@title='Resy - Book Now']\"))\n",
    "    # )\n",
    "    driver.switch_to.frame(iframe)\n",
    "\n",
    "    print(\"Driver switched\")\n",
    "\n",
    "    # Click the first confirm reservation button - repeatedly polls the page for a certain condition until a timeout is reached\n",
    "    # reserve_now_button = WebDriverWait(driver=driver, timeout=10).until(\n",
    "    #     method=EC.element_to_be_clickable((By.XPATH, \"//button[@class='Button Button--primary Button--lg']\"))\n",
    "    # )\n",
    "    reserve_now_button = driver.find_element(by=By.XPATH, value=\"//button[@class='Button Button--primary Button--lg']\")\n",
    "    reserve_now_button.click()\n",
    "\n",
    "    time.sleep(2)\n",
    "\n",
    "    # Click the second confirmation button\n",
    "    double_confirm_button = driver.find_element(by=By.XPATH, value=\"//button[@class='Button Button--double-confirm Button--lg']\")\n",
    "    # double_confirm_button = WebDriverWait(driver=driver, timeout=10).until(\n",
    "    #     method=EC.element_to_be_clickable((By.XPATH, \"//button[@class='Button Button--double-confirm Button--lg']\"))\n",
    "    # )\n",
    "    double_confirm_button.click()\n",
    "\n",
    "    return"
   ]
  },
  {
   "cell_type": "code",
   "execution_count": 101,
   "metadata": {},
   "outputs": [],
   "source": [
    "import time"
   ]
  },
  {
   "cell_type": "code",
   "execution_count": 102,
   "metadata": {},
   "outputs": [
    {
     "name": "stdout",
     "output_type": "stream",
     "text": [
      "Navigated to https://resy.com/cities/new-york-ny/venues/5-napkin-burger-hells-kitchen\n",
      "Found 8 reservation(s)\n",
      "Driver switched\n"
     ]
    }
   ],
   "source": [
    "driver: webdriver.Chrome = setup_browser()\n",
    "\n",
    "navigate_to_restaurant_page(driver=driver, url=r\"https://resy.com/cities/new-york-ny/venues/5-napkin-burger-hells-kitchen\")\n",
    "\n",
    "time.sleep(3)\n",
    "reservation_buttons: List = get_reservation_buttons(driver=driver)  # TODO: wait for things to load\n",
    "reservation_button = reservation_buttons[-1]\n",
    "\n",
    "# TODO: create a time priority algorithm\n",
    "execute_reservation(driver=driver, reservation_button=reservation_button)"
   ]
  },
  {
   "cell_type": "code",
   "execution_count": 94,
   "metadata": {},
   "outputs": [],
   "source": [
    "reservation_button.click()"
   ]
  },
  {
   "cell_type": "code",
   "execution_count": null,
   "metadata": {},
   "outputs": [],
   "source": []
  }
 ],
 "metadata": {
  "kernelspec": {
   "display_name": "reservation_arbitrage",
   "language": "python",
   "name": "python3"
  },
  "language_info": {
   "codemirror_mode": {
    "name": "ipython",
    "version": 3
   },
   "file_extension": ".py",
   "mimetype": "text/x-python",
   "name": "python",
   "nbconvert_exporter": "python",
   "pygments_lexer": "ipython3",
   "version": "3.12.7"
  }
 },
 "nbformat": 4,
 "nbformat_minor": 2
}

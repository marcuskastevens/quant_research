{
 "cells": [
  {
   "cell_type": "code",
   "execution_count": 4,
   "metadata": {},
   "outputs": [],
   "source": [
    "# Built-in dependencies\n",
    "import copy\n",
    "from typing import Dict, List\n",
    "\n",
    "# External dependencies\n",
    "import numpy as np\n",
    "import pandas as pd\n",
    "import yfinance as yf\n",
    "from datetime import timedelta\n",
    "from datetime import datetime as dt\n",
    "from matplotlib import pyplot as plt\n",
    "\n",
    "# Constants\n",
    "NAV: float = 45_883.87\n",
    "TRADING_DAYS: int = 10\n",
    "VOLATILITY_TARGET: float = 0.20\n",
    "TRADING_HOURS_PER_DAY: int = 7\n",
    "TRADING_30_MIN_PER_DAY: int = TRADING_HOURS_PER_DAY * 2\n",
    "TRADING_5_MIN_PER_DAY: int = TRADING_HOURS_PER_DAY * 12\n",
    "SAMPLING_FREQUENCIES: List = [\"1d\", \"1h\", \"30m\", \"5m\"]\n",
    "SHARPE_RATIO_ASSUMPTIONS: Dict = {\n",
    "    \"SPY\": 0.2,\n",
    "    \"TLT\": 0.1\n",
    "}\n",
    "SAMPLING_FREQUENCY_TO_TIME_UNITS_PER_DAY: Dict = {\n",
    "    \"1d\": 1,\n",
    "    \"1h\": TRADING_HOURS_PER_DAY,\n",
    "    \"30m\": TRADING_30_MIN_PER_DAY,\n",
    "    \"5m\": TRADING_5_MIN_PER_DAY\n",
    "}\n",
    "SAMPLING_FREQUENCY_TO_VARIANCE_ANNUALIZATION_MAP: Dict = {\n",
    "        \"1d\": 252,\n",
    "        \"1h\": TRADING_HOURS_PER_DAY * 252,\n",
    "        \"30m\": TRADING_30_MIN_PER_DAY * 252,\n",
    "        \"5m\": TRADING_5_MIN_PER_DAY * 252\n",
    "}"
   ]
  },
  {
   "cell_type": "code",
   "execution_count": 5,
   "metadata": {},
   "outputs": [],
   "source": [
    "def load_data(ticker: str) -> pd.DataFrame:\n",
    "\n",
    "    daily: pd.Series = yf.download(tickers=ticker, interval=\"1d\")[\"Close\"].pct_change()\n",
    "    hourly: pd.Series = yf.download(tickers=ticker, start=dt.today().date() + timedelta(days=-365), interval=\"1h\")[\"Close\"].pct_change()\n",
    "    min_30: pd.Series = yf.download(tickers=ticker, start=dt.today().date() + timedelta(days=-30), interval=\"30m\")[\"Close\"].pct_change()\n",
    "    min_5: pd.Series = yf.download(tickers=ticker, start=dt.today().date() + timedelta(days=-30), interval=\"5m\")[\"Close\"].pct_change()\n",
    "\n",
    "    returns = pd.concat(\n",
    "        [\n",
    "            daily,\n",
    "            hourly,\n",
    "            min_30,\n",
    "            min_5\n",
    "        ],\n",
    "        axis=1\n",
    "    )\n",
    "    returns.columns = SAMPLING_FREQUENCIES\n",
    "    \n",
    "    return returns\n",
    "\n",
    "\n",
    "def calculate_ex_ante_volatility(returns: pd.DataFrame) -> pd.DataFrame:\n",
    "\n",
    "    # Define lookback and halflife in terms of trading days\n",
    "    lookback: int = 20\n",
    "    halflife: int = int(TRADING_DAYS / 2)\n",
    "    \n",
    "    ex_ante_volatility: pd.DataFrame = pd.concat(\n",
    "        [\n",
    "            (returns[\"1d\"].dropna().ewm(halflife=halflife).std().dropna() * np.sqrt(SAMPLING_FREQUENCY_TO_VARIANCE_ANNUALIZATION_MAP[\"1d\"])).tail(lookback),\n",
    "            (returns[\"1h\"].dropna().ewm(halflife=halflife * SAMPLING_FREQUENCY_TO_TIME_UNITS_PER_DAY[\"1h\"]).std().dropna() * np.sqrt(SAMPLING_FREQUENCY_TO_VARIANCE_ANNUALIZATION_MAP[\"1h\"])).tail(lookback * TRADING_HOURS_PER_DAY),\n",
    "            (returns[\"30m\"].dropna().ewm(halflife=halflife * SAMPLING_FREQUENCY_TO_TIME_UNITS_PER_DAY[\"30m\"]).std().dropna() * np.sqrt(SAMPLING_FREQUENCY_TO_VARIANCE_ANNUALIZATION_MAP[\"30m\"])).tail(lookback * TRADING_30_MIN_PER_DAY),\n",
    "            (returns[\"5m\"].dropna().ewm(halflife=halflife * SAMPLING_FREQUENCY_TO_TIME_UNITS_PER_DAY[\"5m\"]).std().dropna() * np.sqrt(SAMPLING_FREQUENCY_TO_VARIANCE_ANNUALIZATION_MAP[\"5m\"])).tail(lookback * TRADING_5_MIN_PER_DAY)\n",
    "        ],\n",
    "        axis=1\n",
    "    ).ffill()\n",
    "\n",
    "    # Rename columns\n",
    "    ex_ante_volatility.columns = SAMPLING_FREQUENCIES\n",
    "    \n",
    "    # Volatilty estimator is a simple sampling frequency ensemble\n",
    "    ex_ante_volatility[\"mean\"] = ex_ante_volatility.mean(axis=1)\n",
    "    \n",
    "    return ex_ante_volatility\n",
    "\n",
    "\n",
    "def calculate_ex_ante_covariance_matrix(**returns) -> pd.DataFrame:\n",
    "\n",
    "    # Define halflife in terms of trading days\n",
    "    halflife: int = 20\n",
    "\n",
    "    # Initialize covariance matrix map\n",
    "    covariance_matrices: Dict = {}\n",
    "    \n",
    "    for sampling_frequency in SAMPLING_FREQUENCIES:\n",
    "\n",
    "        # Initialize sampling frequency-specific returns map \n",
    "        sampling_frequency_returns: Dict = {}\n",
    "\n",
    "        # Postprocess each ticker's returns and update sampling frequency-specific returns map\n",
    "        for ticker in returns.keys():\n",
    "            sampling_frequency_returns[ticker]: pd.Series = returns[ticker][sampling_frequency].dropna()\n",
    "            \n",
    "        sampling_frequency_returns: pd.DataFrame = pd.DataFrame(sampling_frequency_returns)\n",
    "        \n",
    "        # Calculate the exponentially weighted covariance matrix estimator - get the most recent covariance matrix estimator from multi-index object\n",
    "        covariance_matrices[sampling_frequency]: pd.DataFrame = sampling_frequency_returns.ewm(\n",
    "            halflife=halflife * SAMPLING_FREQUENCY_TO_TIME_UNITS_PER_DAY[sampling_frequency]\n",
    "        ).cov().iloc[-2:] * SAMPLING_FREQUENCY_TO_VARIANCE_ANNUALIZATION_MAP[sampling_frequency]\n",
    "\n",
    "    # Create an empty covariance matrix to later fill in - convert multi-index covariance matrix into a single pd.DataFrame\n",
    "    index: pd.Timestamp = covariance_matrices[\"1d\"].index[0][0]\n",
    "    covariance_matrix: pd.DataFrame = copy.deepcopy(covariance_matrices[SAMPLING_FREQUENCIES[0]] * 0).loc[index]\n",
    "\n",
    "    # For each sampling frequency, get its covariance matrix, and use it to construct an ensemble-based covariance matrix estimator\n",
    "    for sampling_frequency in SAMPLING_FREQUENCIES:\n",
    "\n",
    "        # Equally weight each sampling frequency's covariance matrix - convert multi-index covariance matrix into a single pd.DataFrame\n",
    "        index: pd.Timestamp = covariance_matrices[sampling_frequency].index[0][0]\n",
    "        covariance_matrix += covariance_matrices[sampling_frequency].loc[index] / len(SAMPLING_FREQUENCIES)\n",
    "\n",
    "    # Return ensemble-based covariance estimator\n",
    "    return covariance_matrix"
   ]
  },
  {
   "cell_type": "markdown",
   "metadata": {},
   "source": [
    "Load data and calculate instrument-level ex ante volatilty "
   ]
  },
  {
   "cell_type": "code",
   "execution_count": 6,
   "metadata": {},
   "outputs": [
    {
     "name": "stderr",
     "output_type": "stream",
     "text": [
      "[*********************100%***********************]  1 of 1 completed\n",
      "\n",
      "1 Failed download:\n",
      "['SPY']: ConnectionError(MaxRetryError('HTTPSConnectionPool(host=\\'fc.yahoo.com\\', port=443): Max retries exceeded with url: / (Caused by NameResolutionError(\"<urllib3.connection.HTTPSConnection object at 0x000001A1D25ED2B0>: Failed to resolve \\'fc.yahoo.com\\' ([Errno 11001] getaddrinfo failed)\"))'))\n",
      "[*********************100%***********************]  1 of 1 completed\n",
      "\n",
      "1 Failed download:\n",
      "['SPY']: ConnectionError(MaxRetryError('HTTPSConnectionPool(host=\\'fc.yahoo.com\\', port=443): Max retries exceeded with url: / (Caused by NameResolutionError(\"<urllib3.connection.HTTPSConnection object at 0x000001A1D25EFA10>: Failed to resolve \\'fc.yahoo.com\\' ([Errno 11001] getaddrinfo failed)\"))'))\n",
      "[*********************100%***********************]  1 of 1 completed\n",
      "\n",
      "1 Failed download:\n",
      "['SPY']: ConnectionError(MaxRetryError('HTTPSConnectionPool(host=\\'fc.yahoo.com\\', port=443): Max retries exceeded with url: / (Caused by NameResolutionError(\"<urllib3.connection.HTTPSConnection object at 0x000001A1D2620110>: Failed to resolve \\'fc.yahoo.com\\' ([Errno 11001] getaddrinfo failed)\"))'))\n",
      "[*********************100%***********************]  1 of 1 completed\n",
      "\n",
      "1 Failed download:\n",
      "['SPY']: ConnectionError(MaxRetryError('HTTPSConnectionPool(host=\\'fc.yahoo.com\\', port=443): Max retries exceeded with url: / (Caused by NameResolutionError(\"<urllib3.connection.HTTPSConnection object at 0x000001A1D25EEED0>: Failed to resolve \\'fc.yahoo.com\\' ([Errno 11001] getaddrinfo failed)\"))'))\n"
     ]
    },
    {
     "ename": "TypeError",
     "evalue": "Cannot join tz-naive with tz-aware DatetimeIndex",
     "output_type": "error",
     "traceback": [
      "\u001b[1;31m---------------------------------------------------------------------------\u001b[0m",
      "\u001b[1;31mTypeError\u001b[0m                                 Traceback (most recent call last)",
      "Cell \u001b[1;32mIn[6], line 5\u001b[0m\n\u001b[0;32m      2\u001b[0m ex_ante_volatility_map: Dict \u001b[38;5;241m=\u001b[39m {} \n\u001b[0;32m      4\u001b[0m \u001b[38;5;28;01mfor\u001b[39;00m ticker \u001b[38;5;129;01min\u001b[39;00m (\u001b[38;5;124m\"\u001b[39m\u001b[38;5;124mSPY\u001b[39m\u001b[38;5;124m\"\u001b[39m, \u001b[38;5;124m\"\u001b[39m\u001b[38;5;124mTLT\u001b[39m\u001b[38;5;124m\"\u001b[39m):\n\u001b[1;32m----> 5\u001b[0m     returns_map[ticker]: pd\u001b[38;5;241m.\u001b[39mDataFrame \u001b[38;5;241m=\u001b[39m load_data(ticker\u001b[38;5;241m=\u001b[39mticker)\n\u001b[0;32m      6\u001b[0m     ex_ante_volatility_map[ticker]: pd\u001b[38;5;241m.\u001b[39mDataFrame \u001b[38;5;241m=\u001b[39m calculate_ex_ante_volatility(returns\u001b[38;5;241m=\u001b[39mreturns_map[ticker])\n\u001b[0;32m      8\u001b[0m returns_map\n",
      "Cell \u001b[1;32mIn[5], line 8\u001b[0m, in \u001b[0;36mload_data\u001b[1;34m(ticker)\u001b[0m\n\u001b[0;32m      5\u001b[0m min_30: pd\u001b[38;5;241m.\u001b[39mSeries \u001b[38;5;241m=\u001b[39m yf\u001b[38;5;241m.\u001b[39mdownload(tickers\u001b[38;5;241m=\u001b[39mticker, start\u001b[38;5;241m=\u001b[39mdt\u001b[38;5;241m.\u001b[39mtoday()\u001b[38;5;241m.\u001b[39mdate() \u001b[38;5;241m+\u001b[39m timedelta(days\u001b[38;5;241m=\u001b[39m\u001b[38;5;241m-\u001b[39m\u001b[38;5;241m30\u001b[39m), interval\u001b[38;5;241m=\u001b[39m\u001b[38;5;124m\"\u001b[39m\u001b[38;5;124m30m\u001b[39m\u001b[38;5;124m\"\u001b[39m)[\u001b[38;5;124m\"\u001b[39m\u001b[38;5;124mClose\u001b[39m\u001b[38;5;124m\"\u001b[39m]\u001b[38;5;241m.\u001b[39mpct_change()\n\u001b[0;32m      6\u001b[0m min_5: pd\u001b[38;5;241m.\u001b[39mSeries \u001b[38;5;241m=\u001b[39m yf\u001b[38;5;241m.\u001b[39mdownload(tickers\u001b[38;5;241m=\u001b[39mticker, start\u001b[38;5;241m=\u001b[39mdt\u001b[38;5;241m.\u001b[39mtoday()\u001b[38;5;241m.\u001b[39mdate() \u001b[38;5;241m+\u001b[39m timedelta(days\u001b[38;5;241m=\u001b[39m\u001b[38;5;241m-\u001b[39m\u001b[38;5;241m30\u001b[39m), interval\u001b[38;5;241m=\u001b[39m\u001b[38;5;124m\"\u001b[39m\u001b[38;5;124m5m\u001b[39m\u001b[38;5;124m\"\u001b[39m)[\u001b[38;5;124m\"\u001b[39m\u001b[38;5;124mClose\u001b[39m\u001b[38;5;124m\"\u001b[39m]\u001b[38;5;241m.\u001b[39mpct_change()\n\u001b[1;32m----> 8\u001b[0m returns \u001b[38;5;241m=\u001b[39m pd\u001b[38;5;241m.\u001b[39mconcat(\n\u001b[0;32m      9\u001b[0m     [\n\u001b[0;32m     10\u001b[0m         daily,\n\u001b[0;32m     11\u001b[0m         hourly,\n\u001b[0;32m     12\u001b[0m         min_30,\n\u001b[0;32m     13\u001b[0m         min_5\n\u001b[0;32m     14\u001b[0m     ],\n\u001b[0;32m     15\u001b[0m     axis\u001b[38;5;241m=\u001b[39m\u001b[38;5;241m1\u001b[39m\n\u001b[0;32m     16\u001b[0m )\n\u001b[0;32m     17\u001b[0m returns\u001b[38;5;241m.\u001b[39mcolumns \u001b[38;5;241m=\u001b[39m SAMPLING_FREQUENCIES\n\u001b[0;32m     19\u001b[0m \u001b[38;5;28;01mreturn\u001b[39;00m returns\n",
      "File \u001b[1;32mc:\\Users\\marcu\\miniconda3\\envs\\quant_research\\Lib\\site-packages\\pandas\\core\\reshape\\concat.py:395\u001b[0m, in \u001b[0;36mconcat\u001b[1;34m(objs, axis, join, ignore_index, keys, levels, names, verify_integrity, sort, copy)\u001b[0m\n\u001b[0;32m    380\u001b[0m     copy \u001b[38;5;241m=\u001b[39m \u001b[38;5;28;01mFalse\u001b[39;00m\n\u001b[0;32m    382\u001b[0m op \u001b[38;5;241m=\u001b[39m _Concatenator(\n\u001b[0;32m    383\u001b[0m     objs,\n\u001b[0;32m    384\u001b[0m     axis\u001b[38;5;241m=\u001b[39maxis,\n\u001b[1;32m   (...)\u001b[0m\n\u001b[0;32m    392\u001b[0m     sort\u001b[38;5;241m=\u001b[39msort,\n\u001b[0;32m    393\u001b[0m )\n\u001b[1;32m--> 395\u001b[0m \u001b[38;5;28;01mreturn\u001b[39;00m op\u001b[38;5;241m.\u001b[39mget_result()\n",
      "File \u001b[1;32mc:\\Users\\marcu\\miniconda3\\envs\\quant_research\\Lib\\site-packages\\pandas\\core\\reshape\\concat.py:671\u001b[0m, in \u001b[0;36m_Concatenator.get_result\u001b[1;34m(self)\u001b[0m\n\u001b[0;32m    669\u001b[0m \u001b[38;5;28;01mfor\u001b[39;00m obj \u001b[38;5;129;01min\u001b[39;00m \u001b[38;5;28mself\u001b[39m\u001b[38;5;241m.\u001b[39mobjs:\n\u001b[0;32m    670\u001b[0m     indexers \u001b[38;5;241m=\u001b[39m {}\n\u001b[1;32m--> 671\u001b[0m     \u001b[38;5;28;01mfor\u001b[39;00m ax, new_labels \u001b[38;5;129;01min\u001b[39;00m \u001b[38;5;28menumerate\u001b[39m(\u001b[38;5;28mself\u001b[39m\u001b[38;5;241m.\u001b[39mnew_axes):\n\u001b[0;32m    672\u001b[0m         \u001b[38;5;66;03m# ::-1 to convert BlockManager ax to DataFrame ax\u001b[39;00m\n\u001b[0;32m    673\u001b[0m         \u001b[38;5;28;01mif\u001b[39;00m ax \u001b[38;5;241m==\u001b[39m \u001b[38;5;28mself\u001b[39m\u001b[38;5;241m.\u001b[39mbm_axis:\n\u001b[0;32m    674\u001b[0m             \u001b[38;5;66;03m# Suppress reindexing on concat axis\u001b[39;00m\n\u001b[0;32m    675\u001b[0m             \u001b[38;5;28;01mcontinue\u001b[39;00m\n",
      "File \u001b[1;32mproperties.pyx:36\u001b[0m, in \u001b[0;36mpandas._libs.properties.CachedProperty.__get__\u001b[1;34m()\u001b[0m\n",
      "File \u001b[1;32mc:\\Users\\marcu\\miniconda3\\envs\\quant_research\\Lib\\site-packages\\pandas\\core\\reshape\\concat.py:703\u001b[0m, in \u001b[0;36m_Concatenator.new_axes\u001b[1;34m(self)\u001b[0m\n\u001b[0;32m    699\u001b[0m \u001b[38;5;129m@cache_readonly\u001b[39m\n\u001b[0;32m    700\u001b[0m \u001b[38;5;28;01mdef\u001b[39;00m \u001b[38;5;21mnew_axes\u001b[39m(\u001b[38;5;28mself\u001b[39m) \u001b[38;5;241m-\u001b[39m\u001b[38;5;241m>\u001b[39m \u001b[38;5;28mlist\u001b[39m[Index]:\n\u001b[0;32m    701\u001b[0m     ndim \u001b[38;5;241m=\u001b[39m \u001b[38;5;28mself\u001b[39m\u001b[38;5;241m.\u001b[39m_get_result_dim()\n\u001b[0;32m    702\u001b[0m     \u001b[38;5;28;01mreturn\u001b[39;00m [\n\u001b[1;32m--> 703\u001b[0m         \u001b[38;5;28mself\u001b[39m\u001b[38;5;241m.\u001b[39m_get_concat_axis \u001b[38;5;28;01mif\u001b[39;00m i \u001b[38;5;241m==\u001b[39m \u001b[38;5;28mself\u001b[39m\u001b[38;5;241m.\u001b[39mbm_axis \u001b[38;5;28;01melse\u001b[39;00m \u001b[38;5;28mself\u001b[39m\u001b[38;5;241m.\u001b[39m_get_comb_axis(i)\n\u001b[0;32m    704\u001b[0m         \u001b[38;5;28;01mfor\u001b[39;00m i \u001b[38;5;129;01min\u001b[39;00m \u001b[38;5;28mrange\u001b[39m(ndim)\n\u001b[0;32m    705\u001b[0m     ]\n",
      "File \u001b[1;32mc:\\Users\\marcu\\miniconda3\\envs\\quant_research\\Lib\\site-packages\\pandas\\core\\reshape\\concat.py:709\u001b[0m, in \u001b[0;36m_Concatenator._get_comb_axis\u001b[1;34m(self, i)\u001b[0m\n\u001b[0;32m    707\u001b[0m \u001b[38;5;28;01mdef\u001b[39;00m \u001b[38;5;21m_get_comb_axis\u001b[39m(\u001b[38;5;28mself\u001b[39m, i: AxisInt) \u001b[38;5;241m-\u001b[39m\u001b[38;5;241m>\u001b[39m Index:\n\u001b[0;32m    708\u001b[0m     data_axis \u001b[38;5;241m=\u001b[39m \u001b[38;5;28mself\u001b[39m\u001b[38;5;241m.\u001b[39mobjs[\u001b[38;5;241m0\u001b[39m]\u001b[38;5;241m.\u001b[39m_get_block_manager_axis(i)\n\u001b[1;32m--> 709\u001b[0m     \u001b[38;5;28;01mreturn\u001b[39;00m get_objs_combined_axis(\n\u001b[0;32m    710\u001b[0m         \u001b[38;5;28mself\u001b[39m\u001b[38;5;241m.\u001b[39mobjs,\n\u001b[0;32m    711\u001b[0m         axis\u001b[38;5;241m=\u001b[39mdata_axis,\n\u001b[0;32m    712\u001b[0m         intersect\u001b[38;5;241m=\u001b[39m\u001b[38;5;28mself\u001b[39m\u001b[38;5;241m.\u001b[39mintersect,\n\u001b[0;32m    713\u001b[0m         sort\u001b[38;5;241m=\u001b[39m\u001b[38;5;28mself\u001b[39m\u001b[38;5;241m.\u001b[39msort,\n\u001b[0;32m    714\u001b[0m         copy\u001b[38;5;241m=\u001b[39m\u001b[38;5;28mself\u001b[39m\u001b[38;5;241m.\u001b[39mcopy,\n\u001b[0;32m    715\u001b[0m     )\n",
      "File \u001b[1;32mc:\\Users\\marcu\\miniconda3\\envs\\quant_research\\Lib\\site-packages\\pandas\\core\\indexes\\api.py:103\u001b[0m, in \u001b[0;36mget_objs_combined_axis\u001b[1;34m(objs, intersect, axis, sort, copy)\u001b[0m\n\u001b[0;32m     79\u001b[0m \u001b[38;5;250m\u001b[39m\u001b[38;5;124;03m\"\"\"\u001b[39;00m\n\u001b[0;32m     80\u001b[0m \u001b[38;5;124;03mExtract combined index: return intersection or union (depending on the\u001b[39;00m\n\u001b[0;32m     81\u001b[0m \u001b[38;5;124;03mvalue of \"intersect\") of indexes on given axis, or None if all objects\u001b[39;00m\n\u001b[1;32m   (...)\u001b[0m\n\u001b[0;32m    100\u001b[0m \u001b[38;5;124;03mIndex\u001b[39;00m\n\u001b[0;32m    101\u001b[0m \u001b[38;5;124;03m\"\"\"\u001b[39;00m\n\u001b[0;32m    102\u001b[0m obs_idxes \u001b[38;5;241m=\u001b[39m [obj\u001b[38;5;241m.\u001b[39m_get_axis(axis) \u001b[38;5;28;01mfor\u001b[39;00m obj \u001b[38;5;129;01min\u001b[39;00m objs]\n\u001b[1;32m--> 103\u001b[0m \u001b[38;5;28;01mreturn\u001b[39;00m _get_combined_index(obs_idxes, intersect\u001b[38;5;241m=\u001b[39mintersect, sort\u001b[38;5;241m=\u001b[39msort, copy\u001b[38;5;241m=\u001b[39mcopy)\n",
      "File \u001b[1;32mc:\\Users\\marcu\\miniconda3\\envs\\quant_research\\Lib\\site-packages\\pandas\\core\\indexes\\api.py:156\u001b[0m, in \u001b[0;36m_get_combined_index\u001b[1;34m(indexes, intersect, sort, copy)\u001b[0m\n\u001b[0;32m    154\u001b[0m         index \u001b[38;5;241m=\u001b[39m index\u001b[38;5;241m.\u001b[39mintersection(other)\n\u001b[0;32m    155\u001b[0m \u001b[38;5;28;01melse\u001b[39;00m:\n\u001b[1;32m--> 156\u001b[0m     index \u001b[38;5;241m=\u001b[39m union_indexes(indexes, sort\u001b[38;5;241m=\u001b[39m\u001b[38;5;28;01mFalse\u001b[39;00m)\n\u001b[0;32m    157\u001b[0m     index \u001b[38;5;241m=\u001b[39m ensure_index(index)\n\u001b[0;32m    159\u001b[0m \u001b[38;5;28;01mif\u001b[39;00m sort:\n",
      "File \u001b[1;32mc:\\Users\\marcu\\miniconda3\\envs\\quant_research\\Lib\\site-packages\\pandas\\core\\indexes\\api.py:295\u001b[0m, in \u001b[0;36munion_indexes\u001b[1;34m(indexes, sort)\u001b[0m\n\u001b[0;32m    289\u001b[0m dti_tzs \u001b[38;5;241m=\u001b[39m [x \u001b[38;5;28;01mfor\u001b[39;00m x \u001b[38;5;129;01min\u001b[39;00m dtis \u001b[38;5;28;01mif\u001b[39;00m x\u001b[38;5;241m.\u001b[39mtz \u001b[38;5;129;01mis\u001b[39;00m \u001b[38;5;129;01mnot\u001b[39;00m \u001b[38;5;28;01mNone\u001b[39;00m]\n\u001b[0;32m    290\u001b[0m \u001b[38;5;28;01mif\u001b[39;00m \u001b[38;5;28mlen\u001b[39m(dti_tzs) \u001b[38;5;129;01mnot\u001b[39;00m \u001b[38;5;129;01min\u001b[39;00m [\u001b[38;5;241m0\u001b[39m, \u001b[38;5;28mlen\u001b[39m(dtis)]:\n\u001b[0;32m    291\u001b[0m     \u001b[38;5;66;03m# TODO: this behavior is not tested (so may not be desired),\u001b[39;00m\n\u001b[0;32m    292\u001b[0m     \u001b[38;5;66;03m#  but is kept in order to keep behavior the same when\u001b[39;00m\n\u001b[0;32m    293\u001b[0m     \u001b[38;5;66;03m#  deprecating union_many\u001b[39;00m\n\u001b[0;32m    294\u001b[0m     \u001b[38;5;66;03m# test_frame_from_dict_with_mixed_indexes\u001b[39;00m\n\u001b[1;32m--> 295\u001b[0m     \u001b[38;5;28;01mraise\u001b[39;00m \u001b[38;5;167;01mTypeError\u001b[39;00m(\u001b[38;5;124m\"\u001b[39m\u001b[38;5;124mCannot join tz-naive with tz-aware DatetimeIndex\u001b[39m\u001b[38;5;124m\"\u001b[39m)\n\u001b[0;32m    297\u001b[0m \u001b[38;5;28;01mif\u001b[39;00m \u001b[38;5;28mlen\u001b[39m(dtis) \u001b[38;5;241m==\u001b[39m \u001b[38;5;28mlen\u001b[39m(indexes):\n\u001b[0;32m    298\u001b[0m     sort \u001b[38;5;241m=\u001b[39m \u001b[38;5;28;01mTrue\u001b[39;00m\n",
      "\u001b[1;31mTypeError\u001b[0m: Cannot join tz-naive with tz-aware DatetimeIndex"
     ]
    }
   ],
   "source": [
    "returns_map: Dict = {}\n",
    "ex_ante_volatility_map: Dict = {} \n",
    "\n",
    "for ticker in (\"SPY\", \"TLT\"):\n",
    "    returns_map[ticker]: pd.DataFrame = load_data(ticker=ticker)\n",
    "    ex_ante_volatility_map[ticker]: pd.DataFrame = calculate_ex_ante_volatility(returns=returns_map[ticker])\n",
    "\n",
    "returns_map"
   ]
  },
  {
   "cell_type": "code",
   "execution_count": 4,
   "metadata": {},
   "outputs": [
    {
     "data": {
      "image/png": "[encoded data removed]",
      "text/plain": [
       "<Figure size 800x400 with 1 Axes>"
      ]
     },
     "metadata": {},
     "output_type": "display_data"
    },
    {
     "data": {
      "image/png": "[encoded data removed]",
      "text/plain": [
       "<Figure size 800x400 with 1 Axes>"
      ]
     },
     "metadata": {},
     "output_type": "display_data"
    }
   ],
   "source": [
    "ex_ante_volatility_map[\"SPY\"].plot(title=\"SPY - Ex Ante Volatility\", figsize=(8, 4))\n",
    "plt.show()\n",
    "\n",
    "ex_ante_volatility_map[\"TLT\"].plot(title=\"TLT - Ex Ante Volatility\", figsize=(8, 4))\n",
    "plt.show()"
   ]
  },
  {
   "cell_type": "code",
   "execution_count": 40,
   "metadata": {},
   "outputs": [
    {
     "data": {
      "text/plain": [
       "1.213405067269321"
      ]
     },
     "execution_count": 40,
     "metadata": {},
     "output_type": "execute_result"
    }
   ],
   "source": [
    "0.20 / ex_ante_volatility_map[\"SPY\"].iloc[-1][\"mean\"]"
   ]
  },
  {
   "cell_type": "markdown",
   "metadata": {},
   "source": [
    "Calculate ex ante covariance matrix"
   ]
  },
  {
   "cell_type": "code",
   "execution_count": 29,
   "metadata": {},
   "outputs": [
    {
     "data": {
      "text/html": [
       "<div>\n",
       "<style scoped>\n",
       "    .dataframe tbody tr th:only-of-type {\n",
       "        vertical-align: middle;\n",
       "    }\n",
       "\n",
       "    .dataframe tbody tr th {\n",
       "        vertical-align: top;\n",
       "    }\n",
       "\n",
       "    .dataframe thead th {\n",
       "        text-align: right;\n",
       "    }\n",
       "</style>\n",
       "<table border=\"1\" class=\"dataframe\">\n",
       "  <thead>\n",
       "    <tr style=\"text-align: right;\">\n",
       "      <th></th>\n",
       "      <th>SPY</th>\n",
       "      <th>TLT</th>\n",
       "    </tr>\n",
       "  </thead>\n",
       "  <tbody>\n",
       "    <tr>\n",
       "      <th>SPY</th>\n",
       "      <td>0.020408</td>\n",
       "      <td>-0.000289</td>\n",
       "    </tr>\n",
       "    <tr>\n",
       "      <th>TLT</th>\n",
       "      <td>-0.000289</td>\n",
       "      <td>0.018523</td>\n",
       "    </tr>\n",
       "  </tbody>\n",
       "</table>\n",
       "</div>"
      ],
      "text/plain": [
       "          SPY       TLT\n",
       "SPY  0.020408 -0.000289\n",
       "TLT -0.000289  0.018523"
      ]
     },
     "execution_count": 29,
     "metadata": {},
     "output_type": "execute_result"
    }
   ],
   "source": [
    "covariance_matrix: pd.DataFrame = calculate_ex_ante_covariance_matrix(**returns_map)\n",
    "covariance_matrix"
   ]
  },
  {
   "cell_type": "markdown",
   "metadata": {},
   "source": [
    "Calculate ex ante returns from assumed long-term SR and ex ante volatility estimates"
   ]
  },
  {
   "cell_type": "code",
   "execution_count": 30,
   "metadata": {},
   "outputs": [
    {
     "data": {
      "text/plain": [
       "SPY    0.031645\n",
       "TLT    0.012830\n",
       "dtype: float64"
      ]
     },
     "execution_count": 30,
     "metadata": {},
     "output_type": "execute_result"
    }
   ],
   "source": [
    "ex_ante_returns: pd.Series = pd.Series(\n",
    "    {\n",
    "        \"SPY\": SHARPE_RATIO_ASSUMPTIONS[\"SPY\"] * ex_ante_volatility_map[\"SPY\"][\"mean\"].iloc[-1],\n",
    "        \"TLT\": SHARPE_RATIO_ASSUMPTIONS[\"TLT\"] * ex_ante_volatility_map[\"TLT\"][\"mean\"].iloc[-1]\n",
    "    }\n",
    ")\n",
    "ex_ante_returns"
   ]
  },
  {
   "cell_type": "markdown",
   "metadata": {},
   "source": [
    "Calculate optimal weights - this is consistent with linear utility optimization via max SR optimization + log utility optimization via volatility targeting (i.e., Kelly betting)"
   ]
  },
  {
   "cell_type": "code",
   "execution_count": 23,
   "metadata": {},
   "outputs": [
    {
     "data": {
      "text/plain": [
       "SPY    1.328558\n",
       "TLT    0.606496\n",
       "dtype: float64"
      ]
     },
     "execution_count": 23,
     "metadata": {},
     "output_type": "execute_result"
    }
   ],
   "source": [
    "# Calculate max SR optimized weights\n",
    "optimal_weights: pd.Series = pd.Series(np.dot(np.linalg.inv(covariance_matrix), ex_ante_returns), index=[\"SPY\", \"TLT\"])\n",
    "\n",
    "# Volatility scale weights\n",
    "volatility_scalar: float = VOLATILITY_TARGET / np.sqrt(np.dot(np.dot(np.transpose(optimal_weights), covariance_matrix), optimal_weights)) \n",
    "optimal_weights = volatility_scalar * optimal_weights\n",
    "optimal_weights"
   ]
  },
  {
   "cell_type": "markdown",
   "metadata": {},
   "source": [
    "Calculate optimal SPY vs. UPRO weights to target the optimal levered SPY exposure"
   ]
  },
  {
   "cell_type": "code",
   "execution_count": 8,
   "metadata": {},
   "outputs": [
    {
     "data": {
      "text/plain": [
       "SPY    -0.074433\n",
       "UPRO    0.466821\n",
       "dtype: float64"
      ]
     },
     "execution_count": 8,
     "metadata": {},
     "output_type": "execute_result"
    }
   ],
   "source": [
    "\"\"\"\n",
    "Solve: Ax = B\n",
    "\n",
    "SPY Weight + UPRO Weight = (1 - TLT Weight)\n",
    "SPY Weight * 1 + UPRO Weight * 3 = Target SPY Leverage\n",
    "\n",
    "A = [\n",
    "    [1, 1]\n",
    "    [1, 3]\n",
    "]\n",
    "\n",
    "B = [\n",
    "    [1 - TLT Weight]\n",
    "    [Target SPY Leverage]\n",
    "]\n",
    "\n",
    "x = [\n",
    "    [SPY Weight]\n",
    "    [UPRO Weight]\n",
    "]\n",
    "\"\"\"\n",
    "\n",
    "A = np.array(\n",
    "    [\n",
    "        [1, 1],\n",
    "        [1, 3]\n",
    "    ]\n",
    ")\n",
    "B = np.array(\n",
    "    [\n",
    "        [1 - optimal_weights.loc[\"TLT\"]],\n",
    "        [optimal_weights.loc[\"SPY\"]]\n",
    "    ]\n",
    ")\n",
    "\n",
    "spy_upro_optimal_weights: np.ndarray = np.linalg.solve(a=A, b=B)\n",
    "spy_upro_optimal_weights: pd.Series = pd.Series({\"SPY\": spy_upro_optimal_weights[0][0], \"UPRO\": spy_upro_optimal_weights[1][0]})\n",
    "spy_upro_optimal_weights"
   ]
  },
  {
   "cell_type": "markdown",
   "metadata": {},
   "source": [
    "Calculate instrument-level optimal weights"
   ]
  },
  {
   "cell_type": "code",
   "execution_count": 9,
   "metadata": {},
   "outputs": [
    {
     "data": {
      "text/plain": [
       "SPY    -0.074433\n",
       "UPRO    0.466821\n",
       "TLT     0.607612\n",
       "dtype: float64"
      ]
     },
     "execution_count": 9,
     "metadata": {},
     "output_type": "execute_result"
    }
   ],
   "source": [
    "optimal_weights: pd.Series = pd.Series(\n",
    "    {\n",
    "        \"SPY\": spy_upro_optimal_weights[\"SPY\"],\n",
    "        \"UPRO\": spy_upro_optimal_weights[\"UPRO\"],\n",
    "        \"TLT\": optimal_weights[\"TLT\"]\n",
    "    }\n",
    ")\n",
    "\n",
    "assert optimal_weights.sum() == 1.00\n",
    "\n",
    "optimal_weights"
   ]
  },
  {
   "cell_type": "code",
   "execution_count": 10,
   "metadata": {},
   "outputs": [
    {
     "data": {
      "text/plain": [
       "SPY     -3415.28\n",
       "UPRO    21419.57\n",
       "TLT     27879.58\n",
       "dtype: float64"
      ]
     },
     "execution_count": 10,
     "metadata": {},
     "output_type": "execute_result"
    }
   ],
   "source": [
    "(optimal_weights * NAV).round(2)"
   ]
  }
 ],
 "metadata": {
  "kernelspec": {
   "display_name": "quant_research",
   "language": "python",
   "name": "python3"
  },
  "language_info": {
   "codemirror_mode": {
    "name": "ipython",
    "version": 3
   },
   "file_extension": ".py",
   "mimetype": "text/x-python",
   "name": "python",
   "nbconvert_exporter": "python",
   "pygments_lexer": "ipython3",
   "version": "3.12.3"
  },
  "orig_nbformat": 4
 },
 "nbformat": 4,
 "nbformat_minor": 2
}

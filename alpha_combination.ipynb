{
 "cells": [
  {
   "cell_type": "markdown",
   "metadata": {},
   "source": [
    "- Signal   \n",
    "    - Feature\n",
    "        - Feed signals as features into an ML model and generate asset-level expected returns\n",
    "    - Position\n",
    "        - Form portfolios from signals and disregard direct asset-level return prediction\n",
    "    - Position + Expected Returns\n",
    "        - Form asset-level expected returns from signal positions and signal-level expected returns\n",
    "\n",
    "- Signal as a Feature\n",
    "    - This is the purest form of return prediction that can be dynamic enough to directly mimic/represent/replicate the return generating process (i.e., the stochastic process that governs the evolution of returns)\n",
    "    - Feed all signals into an ML pipeline to predict asset-level expected returns\n",
    "    - Cross-sectional vs. asset-specific models\n",
    "    - Difficult to execute signal attribution, signal risk allocation, and decipher where performance stems from\n",
    "    - Also, if raw asset-level returns are fed into an optimizer with no structure, this could lead to poorly behaved and unintuitive portfolios\n",
    " \n",
    "- Signal to generate positions\n",
    "    - Form portfolios from signals and allocate weight to each signal portfolio\n",
    "    - Clean and easy for attribution/allocaton purposes\n",
    "    - From positions, we can:\n",
    "        - Allocate to each signal portfolio to form an aggregate portfolio:\n",
    "            - Signal-level expected returns from an external model (e.g., ML model to predict signals' expected returns) which are then fed into an optimizer\n",
    "            - Heuristic signal risk contribution decisions (e.g., risk parity)\n",
    "            - Empirical clustering methodologies based on signal themes (e.g., mean-reversion vs. trend as groups)\n",
    "        - Arrive at signal-level expected returns:\n",
    "            - This could be from an external predictive model\n",
    "            - Reverse MVO\n",
    "            - Factor risk model factor mimicking portfolio returns (i.e., regression coefficients)\n",
    "        - Overall, this framework allows us to arrive at asset-level, signal-level, and portfolio-level implied expected returns from the positions themselves via reverse MVO (i.e., Sigma @ weights) OR factor risk models (i.e., via factor mimicking portfolio returns)\n",
    "        - Hedge each signal and aggregate portfolio via internal hedging (via regression or other convex optimizations)\n",
    "        - Form intuitive, well-behaved portfolios that we can anchor to while optimizing... this will mitigate the traditional adverse consequences of constrained MVO (e.g., unintuitive bets, large positions, weird spread trades, etc.). This anchoring can come from regularization/penalization, minimizing euclidian distance, or minimizing mahalanobis (weighted) distance (e.g., TE if we use the covariance matrix as the weights matrix).\n",
    "        - Another aspect of this framework allows us to differentiate between signal frequencies... since we can optimize over signal portfolios, we can account for multi-period dynamics at the signal level\n",
    "        - Account for the signal covariance matrix\n",
    "        - Directly control for the level of signal diversification This can be done in the direct asset-level expected return estimation procedure via regularization techniques (e.g., perhaps a regression only exhibits high coefficients for 10% of signal, and virtually 0 coefficeints for 90% of signals... adding a coefficient diversification or magntitude penalty should remedy this).\n",
    "        \n",
    "- Signal-level expected returns and signals to generate positions \n",
    "    - This is a less-common, potentially less useful implementation of the factor mimicking portfolio return framework\n",
    "    - Instead of having either signal portfolio position OR asset-level expected returns, we could have signal portfolio positions AND signal-level expected returns, which then infomr asset-level expected returns.\n",
    "    - Signal positions + signal returns --> asset returns\n",
    "    - This is done via a factor model where y is the expected signal return and X is the signal position matrix... this regression will yield beta coefficients which represent asset-level expected returns.\n",
    "    - signal_returns = signal_positions @ asset_returns --> asset_returns = signal_positions_cov^-1 @ signal_positions.T @ signal_returns\n",
    "    - This is a neat way to combine both signal-level expected returns and the signals' asset-level positions \n",
    "    - This allows for clean attribution and nice statistical properties... however, it imposes many statistical assumptions on the expected return\n",
    "    - Similarly to the position-based approaches, we can arrive at expected returns from positions and circumvent the need to consider multi-period portfolio dynamics (e.g., alpha term structure, turnover, etc.) in direct asset-level return prediction. It can be safely assumed that these dynamics are accounted for in the position creation step and the implementation step (i.e., min tcost / max transfer coefficient implementation optimizations)"
   ]
  }
 ],
 "metadata": {
  "kernelspec": {
   "display_name": "quant_research",
   "language": "python",
   "name": "python3"
  },
  "language_info": {
   "name": "python",
   "version": "3.12.3"
  }
 },
 "nbformat": 4,
 "nbformat_minor": 2
}

{
 "cells": [
  {
   "cell_type": "code",
   "execution_count": 360,
   "metadata": {},
   "outputs": [],
   "source": [
    "# Built-in dependencies\n",
    "from typing import Optional\n",
    "from abc import ABC, abstractmethod\n",
    "\n",
    "# External dependencies\n",
    "import numpy as np\n",
    "import pandas as pd\n",
    "from matplotlib import pyplot as plt"
   ]
  },
  {
   "cell_type": "markdown",
   "metadata": {},
   "source": [
    "# LinearRegression Interface"
   ]
  },
  {
   "cell_type": "code",
   "execution_count": 361,
   "metadata": {},
   "outputs": [],
   "source": [
    "class LinearRegression(ABC):\n",
    "    \"\"\"\n",
    "    Linear Regression Model interface.\n",
    "    \"\"\"\n",
    "\n",
    "    def __init__(self, X: np.ndarray, y: np.ndarray, add_constant: bool = True) -> None:\n",
    "        \"\"\"\n",
    "        Initializes the regression model.\n",
    "        \n",
    "        Parameters:\n",
    "            X (np.ndarray): Design matrix (n_samples x n_features).\n",
    "            y (np.ndarray): Response variable (n_samples x 1).\n",
    "            add_constant (bool): Whether to add a constant column to X for the intercept term.\n",
    "        \"\"\"\n",
    "\n",
    "        self.y = y\n",
    "        self.X = X if not add_constant else self.add_constant(X=X)\n",
    "        \n",
    "        self.beta: Optional[np.ndarray] = None\n",
    "\n",
    "        return\n",
    "    \n",
    "    @staticmethod\n",
    "    def add_constant(X: np.ndarray) -> np.ndarray:\n",
    "        \"\"\"\n",
    "        Adds a constant column to the design matrix for the intercept term.\n",
    "        \n",
    "        Parameters:\n",
    "            X (np.ndarray): Design matrix (n_samples x n_features).\n",
    "        \n",
    "        Returns:\n",
    "            np.ndarray: Augmented design matrix with an intercept column.\n",
    "        \"\"\"\n",
    "        return np.hstack((np.ones((X.shape[0], 1)), X))\n",
    "\n",
    "    @abstractmethod\n",
    "    def fit(self) -> None:\n",
    "        \"\"\"\n",
    "        Computes the regression coefficients. Must be implemented by subclasses.\n",
    "        \"\"\"\n",
    "        raise NotImplementedError\n",
    "\n",
    "    def predict(self, X: np.ndarray) -> np.ndarray:\n",
    "        \"\"\"\n",
    "        Predicts response values for new data.\n",
    "        \n",
    "        Parameters:\n",
    "            X (np.ndarray): New data for prediction.\n",
    "        \n",
    "        Returns:\n",
    "            np.ndarray: Predicted values.\n",
    "        \"\"\"\n",
    "        \n",
    "        if X.shape[1] + 1 == self.X.shape[1]:\n",
    "            X = self.add_constant(X=X)\n",
    "\n",
    "        return X @ self.beta"
   ]
  },
  {
   "cell_type": "markdown",
   "metadata": {},
   "source": [
    "# GLS LinearRegression Implementation"
   ]
  },
  {
   "cell_type": "code",
   "execution_count": 362,
   "metadata": {},
   "outputs": [],
   "source": [
    "class GLS(LinearRegression):\n",
    "    \"\"\"\n",
    "    Generalized Least Squares Regression Model.\n",
    "    Handles heteroskedasticity and autocorrelation in residuals by incorporating the residual covariance matrix (omega).\n",
    "    \"\"\"\n",
    "    \n",
    "    def __init__(\n",
    "        self,\n",
    "        X: np.ndarray,\n",
    "        y: np.ndarray,\n",
    "        omega: Optional[np.ndarray] = None\n",
    "    ) -> None:\n",
    "        \"\"\"\n",
    "        Initializes the GLS model.\n",
    "        \n",
    "        Parameters:\n",
    "            X (np.ndarray): Design matrix (n_samples x n_features).\n",
    "            y (np.ndarray): Response variable (n_samples x 1).\n",
    "            omega (Optional[np.ndarray]): Covariance matrix of residuals (n_samples x n_samples). Defaults to None (OLS case).\n",
    "        \"\"\"\n",
    "\n",
    "        super().__init__(X=X, y=y)\n",
    "        \n",
    "        self.omega: np.ndarray = self._calculate_omega(y=y, omega=omega)\n",
    "\n",
    "        return\n",
    "\n",
    "    def _calculate_omega(self, y: np.ndarray, omega: Optional[np.ndarray]) -> np.ndarray:\n",
    "        \"\"\"\n",
    "        Calculates the residual covariance matrix (omega).\n",
    "        \n",
    "        Parameters:\n",
    "            omega (Optional[np.ndarray]): Covariance matrix of residuals or None.\n",
    "        \n",
    "        Returns:\n",
    "            np.ndarray: Valid covariance matrix (n_samples x n_samples).\n",
    "        \"\"\"\n",
    "        return omega if omega is not None else np.eye(len(y))\n",
    "\n",
    "    def fit(self) -> None:\n",
    "        \"\"\"\n",
    "        Fits the GLS model using the generalized normal equation: (X'W^(-1)X)^(-1)X'W^(-1)y.\n",
    "        \"\"\"\n",
    "\n",
    "        # Store the inverse of the residual covariance matrix to optimize latency and avoid inverting the matrix twice \n",
    "        omega_inverse: np.ndarray = np.linalg.inv(a=self.omega)\n",
    "\n",
    "        # Solve the GLS equation\n",
    "        self.beta: np.ndarray = np.linalg.solve(a=self.X.T @ omega_inverse @ self.X, b=self.X.T @ omega_inverse @ self.y)\n",
    "\n",
    "        return"
   ]
  },
  {
   "cell_type": "code",
   "execution_count": 363,
   "metadata": {},
   "outputs": [
    {
     "data": {
      "text/plain": [
       "1.020616931880215"
      ]
     },
     "execution_count": 363,
     "metadata": {},
     "output_type": "execute_result"
    }
   ],
   "source": [
    "y_train = np.random.randn(1_000, 1)\n",
    "X_train = np.random.randn(1_000, 10)\n",
    "\n",
    "y_test = np.random.randn(1_000, 1)\n",
    "X_test = np.random.randn(1_000, 10)\n",
    "\n",
    "gls: GLS = GLS(X=X_train, y=y_test)\n",
    "gls.fit()\n",
    "\n",
    "y_hat = gls.predict(X=X_test)\n",
    "\n",
    "np.var(y_hat - y_test, ddof=1)"
   ]
  },
  {
   "cell_type": "markdown",
   "metadata": {},
   "source": [
    "# OLS LinearRegression Implementation "
   ]
  },
  {
   "cell_type": "code",
   "execution_count": 364,
   "metadata": {},
   "outputs": [],
   "source": [
    "class OLS(GLS):\n",
    "    \"\"\"\n",
    "    Ordinary Least Squares Regression Model.\n",
    "    Inherits from LinearRegression and implements its methods.\n",
    "    \"\"\"\n",
    "    \n",
    "    def __init__(self, X: np.ndarray, y: np.ndarray) -> None:\n",
    "        \"\"\"\n",
    "        Initializes the OLS model.\n",
    "        \n",
    "        Parameters:\n",
    "            X (np.ndarray): Design matrix (n_samples x n_features).\n",
    "            y (np.ndarray): Response variable (n_samples x 1).\n",
    "        \"\"\"\n",
    "\n",
    "        super().__init__(X=X, y=y, omega=None)\n",
    "        \n",
    "        return"
   ]
  },
  {
   "cell_type": "markdown",
   "metadata": {},
   "source": [
    "Test"
   ]
  },
  {
   "cell_type": "code",
   "execution_count": 365,
   "metadata": {},
   "outputs": [
    {
     "data": {
      "text/plain": [
       "0.9824434290937472"
      ]
     },
     "execution_count": 365,
     "metadata": {},
     "output_type": "execute_result"
    }
   ],
   "source": [
    "y_train = np.random.randn(1_000, 1)\n",
    "X_train = np.random.randn(1_000, 10)\n",
    "\n",
    "y_test = np.random.randn(1_000, 1)\n",
    "X_test = np.random.randn(1_000, 10)\n",
    "\n",
    "ols: OLS = OLS(X=X_train, y=y_test)\n",
    "ols.fit()\n",
    "\n",
    "y_hat = ols.predict(X=X_test)\n",
    "\n",
    "np.var(y_hat - y_test, ddof=1)"
   ]
  },
  {
   "cell_type": "markdown",
   "metadata": {},
   "source": [
    "# WLS LinearRegression Implementation"
   ]
  },
  {
   "cell_type": "code",
   "execution_count": 366,
   "metadata": {},
   "outputs": [],
   "source": [
    "class WLS(GLS):\n",
    "    \"\"\"\n",
    "    Weighted Least Squares Regression Model.\n",
    "    Extends GLS for cases where omega is diagonal and weights are derived from residuals or provided.\n",
    "    \"\"\"\n",
    "    \n",
    "    def __init__(\n",
    "        self,\n",
    "        X: np.ndarray,\n",
    "        y: np.ndarray,\n",
    "        weights: Optional[np.ndarray] = None\n",
    "    ) -> None:\n",
    "        \"\"\"\n",
    "        Initialize the WLS model.\n",
    "        \n",
    "        Parameters:\n",
    "            X (np.ndarray): Design matrix (n_samples x n_features).\n",
    "            y (np.ndarray): Response variable (n_samples x 1).\n",
    "            weights (Optional[np.ndarray]): Diagonal weights (1 / variance for each observation). If None, computes weights as the inverse of squared OLS residuals.\n",
    "        \"\"\"\n",
    "        \n",
    "        self.weights: np.ndarray = self._calculate_weights(X=X, y=y, weights=weights)\n",
    "        \n",
    "        # Call the parent class to initialize with the computed diagonal omega matrix\n",
    "        super().__init__(X=X, y=y, omega=self._calculate_diagonal_omega(weights=self.weights))\n",
    "\n",
    "        return\n",
    "\n",
    "    @staticmethod\n",
    "    def _calculate_weights(X: np.ndarray, y: np.ndarray, weights: Optional[np.ndarray]) -> np.ndarray:\n",
    "        \"\"\"\n",
    "        Calculate weights for the WLS model.\n",
    "        \n",
    "        If weights are provided, returns the flattened version of the weights.\n",
    "        If weights are None, calculates weights as the inverse of squared residuals from an OLS model fitted on the provided data.\n",
    "        \n",
    "        Parameters:\n",
    "            X (np.ndarray): Design matrix (n_samples x n_features).\n",
    "            y (np.ndarray): Response variable (n_samples x 1).\n",
    "            weights (Optional[np.ndarray]): Provided weights (1 / variance for each observation) or None.\n",
    "\n",
    "        Returns:\n",
    "            np.ndarray: Calculated weights (n_samples,).\n",
    "        \"\"\"\n",
    "\n",
    "        if weights is None:\n",
    "        \n",
    "            # Fit an OLS model\n",
    "            ols: OLS = OLS(X=X, y=y)\n",
    "            ols.fit()\n",
    "            \n",
    "            # Compute OLS residuals\n",
    "            residuals: np.ndarray = y - ols.predict(X=X)\n",
    "\n",
    "            # Compute weights as inverse of squared residuals (variance estimators)\n",
    "            return 1 / (residuals.flatten() ** 2)\n",
    "        \n",
    "        # Use provided weights\n",
    "        return weights.flatten()\n",
    "    \n",
    "    @staticmethod\n",
    "    def _calculate_diagonal_omega(weights: np.ndarray) -> np.ndarray:\n",
    "        \"\"\"\n",
    "        Construct the diagonal covariance matrix (omega) based on the weights.\n",
    "        \n",
    "        This method creates a diagonal matrix where each diagonal entry corresponds \n",
    "        to the inverse of the provided weights.\n",
    "        \n",
    "        Parameters:\n",
    "            weights (np.ndarray): Calculated weights (n_samples,).\n",
    "        \n",
    "        Returns:\n",
    "            np.ndarray: Diagonal covariance matrix (n_samples x n_samples).\n",
    "        \"\"\"\n",
    "        return np.diag(1 / weights)\n"
   ]
  },
  {
   "cell_type": "code",
   "execution_count": 367,
   "metadata": {},
   "outputs": [
    {
     "data": {
      "text/plain": [
       "1.0025610001553915"
      ]
     },
     "execution_count": 367,
     "metadata": {},
     "output_type": "execute_result"
    }
   ],
   "source": [
    "y_train = np.random.randn(1_000, 1)\n",
    "X_train = np.random.randn(1_000, 10)\n",
    "\n",
    "y_test = np.random.randn(1_000, 1)\n",
    "X_test = np.random.randn(1_000, 10)\n",
    "\n",
    "wls: WLS = WLS(X=X_train, y=y_test)\n",
    "wls.fit()\n",
    "\n",
    "y_hat = wls.predict(X=X_test)\n",
    "\n",
    "np.var(y_hat - y_test, ddof=1)"
   ]
  },
  {
   "cell_type": "code",
   "execution_count": 368,
   "metadata": {},
   "outputs": [
    {
     "data": {
      "text/plain": [
       "1.0148972162402503"
      ]
     },
     "execution_count": 368,
     "metadata": {},
     "output_type": "execute_result"
    }
   ],
   "source": [
    "weights: np.ndarray = np.square(np.random.randn(1_000, 1))\n",
    "wls: WLS = WLS(X=X_train, y=y_test, weights=weights)\n",
    "wls.fit()\n",
    "\n",
    "y_hat = wls.predict(X=X_test)\n",
    "\n",
    "np.var(y_hat - y_test, ddof=1)"
   ]
  },
  {
   "cell_type": "markdown",
   "metadata": {},
   "source": [
    "# Cross-Sectional WLS Asset Pricing / Risk Model Example"
   ]
  },
  {
   "cell_type": "code",
   "execution_count": 391,
   "metadata": {},
   "outputs": [],
   "source": [
    "np.random.seed(42)\n",
    "\n",
    "# Number of stocks\n",
    "n_stocks = 100  \n",
    "\n",
    "# Number of risk factors (e.g., beta, size, value)\n",
    "n_factors = 3   \n",
    "\n",
    "# Number of industry dummies\n",
    "n_industries = 5"
   ]
  },
  {
   "cell_type": "markdown",
   "metadata": {},
   "source": [
    "Observable factor loadings"
   ]
  },
  {
   "cell_type": "code",
   "execution_count": 392,
   "metadata": {},
   "outputs": [
    {
     "data": {
      "text/plain": [
       "array([[ 0.49671415, -0.1382643 ,  0.64768854,  1.        ,  0.        ,\n",
       "         0.        ,  0.        ,  0.        ],\n",
       "       [ 1.52302986, -0.23415337, -0.23413696,  0.        ,  0.        ,\n",
       "         0.        ,  1.        ,  0.        ],\n",
       "       [ 1.57921282,  0.76743473, -0.46947439,  0.        ,  1.        ,\n",
       "         0.        ,  0.        ,  0.        ],\n",
       "       [ 0.54256004, -0.46341769, -0.46572975,  0.        ,  0.        ,\n",
       "         0.        ,  0.        ,  1.        ],\n",
       "       [ 0.24196227, -1.91328024, -1.72491783,  1.        ,  0.        ,\n",
       "         0.        ,  0.        ,  0.        ],\n",
       "       [-0.56228753, -1.01283112,  0.31424733,  0.        ,  0.        ,\n",
       "         1.        ,  0.        ,  0.        ],\n",
       "       [-0.90802408, -1.4123037 ,  1.46564877,  1.        ,  0.        ,\n",
       "         0.        ,  0.        ,  0.        ],\n",
       "       [-0.2257763 ,  0.0675282 , -1.42474819,  0.        ,  0.        ,\n",
       "         1.        ,  0.        ,  0.        ],\n",
       "       [-0.54438272,  0.11092259, -1.15099358,  0.        ,  0.        ,\n",
       "         0.        ,  1.        ,  0.        ],\n",
       "       [ 0.37569802, -0.60063869, -0.29169375,  0.        ,  1.        ,\n",
       "         0.        ,  0.        ,  0.        ],\n",
       "       [-0.60170661,  1.85227818, -0.01349722,  1.        ,  0.        ,\n",
       "         0.        ,  0.        ,  0.        ],\n",
       "       [-1.05771093,  0.82254491, -1.22084365,  0.        ,  0.        ,\n",
       "         0.        ,  0.        ,  1.        ],\n",
       "       [ 0.2088636 , -1.95967012, -1.32818605,  0.        ,  0.        ,\n",
       "         0.        ,  1.        ,  0.        ],\n",
       "       [ 0.19686124,  0.73846658,  0.17136828,  1.        ,  0.        ,\n",
       "         0.        ,  0.        ,  0.        ],\n",
       "       [-0.11564828, -0.3011037 , -1.47852199,  0.        ,  0.        ,\n",
       "         0.        ,  0.        ,  1.        ],\n",
       "       [-0.71984421, -0.46063877,  1.05712223,  1.        ,  0.        ,\n",
       "         0.        ,  0.        ,  0.        ],\n",
       "       [ 0.34361829, -1.76304016,  0.32408397,  0.        ,  0.        ,\n",
       "         1.        ,  0.        ,  0.        ],\n",
       "       [-0.38508228, -0.676922  ,  0.61167629,  1.        ,  0.        ,\n",
       "         0.        ,  0.        ,  0.        ],\n",
       "       [ 1.03099952,  0.93128012, -0.83921752,  1.        ,  0.        ,\n",
       "         0.        ,  0.        ,  0.        ],\n",
       "       [-0.30921238,  0.33126343,  0.97554513,  1.        ,  0.        ,\n",
       "         0.        ,  0.        ,  0.        ],\n",
       "       [-0.47917424, -0.18565898, -1.10633497,  0.        ,  0.        ,\n",
       "         0.        ,  1.        ,  0.        ],\n",
       "       [-1.19620662,  0.81252582,  1.35624003,  1.        ,  0.        ,\n",
       "         0.        ,  0.        ,  0.        ],\n",
       "       [-0.07201012,  1.0035329 ,  0.36163603,  0.        ,  0.        ,\n",
       "         0.        ,  0.        ,  1.        ],\n",
       "       [-0.64511975,  0.36139561,  1.53803657,  0.        ,  0.        ,\n",
       "         1.        ,  0.        ,  0.        ],\n",
       "       [-0.03582604,  1.56464366, -2.6197451 ,  0.        ,  0.        ,\n",
       "         1.        ,  0.        ,  0.        ],\n",
       "       [ 0.8219025 ,  0.08704707, -0.29900735,  1.        ,  0.        ,\n",
       "         0.        ,  0.        ,  0.        ],\n",
       "       [ 0.09176078, -1.98756891, -0.21967189,  0.        ,  0.        ,\n",
       "         0.        ,  1.        ,  0.        ],\n",
       "       [ 0.35711257,  1.47789404, -0.51827022,  0.        ,  0.        ,\n",
       "         0.        ,  1.        ,  0.        ],\n",
       "       [-0.8084936 , -0.50175704,  0.91540212,  0.        ,  0.        ,\n",
       "         0.        ,  0.        ,  1.        ],\n",
       "       [ 0.32875111, -0.5297602 ,  0.51326743,  1.        ,  0.        ,\n",
       "         0.        ,  0.        ,  0.        ],\n",
       "       [ 0.09707755,  0.96864499, -0.70205309,  0.        ,  0.        ,\n",
       "         1.        ,  0.        ,  0.        ],\n",
       "       [-0.32766215, -0.39210815, -1.46351495,  0.        ,  0.        ,\n",
       "         0.        ,  1.        ,  0.        ],\n",
       "       [ 0.29612028,  0.26105527,  0.00511346,  1.        ,  0.        ,\n",
       "         0.        ,  0.        ,  0.        ],\n",
       "       [-0.23458713, -1.41537074, -0.42064532,  0.        ,  0.        ,\n",
       "         0.        ,  1.        ,  0.        ],\n",
       "       [-0.34271452, -0.80227727, -0.16128571,  0.        ,  0.        ,\n",
       "         0.        ,  1.        ,  0.        ],\n",
       "       [ 0.40405086,  1.8861859 ,  0.17457781,  0.        ,  0.        ,\n",
       "         1.        ,  0.        ,  0.        ],\n",
       "       [ 0.25755039, -0.07444592, -1.91877122,  0.        ,  1.        ,\n",
       "         0.        ,  0.        ,  0.        ],\n",
       "       [-0.02651388,  0.06023021,  2.46324211,  0.        ,  0.        ,\n",
       "         0.        ,  0.        ,  1.        ],\n",
       "       [-0.19236096,  0.30154734, -0.03471177,  0.        ,  0.        ,\n",
       "         0.        ,  0.        ,  1.        ],\n",
       "       [-1.16867804,  1.14282281,  0.75193303,  0.        ,  0.        ,\n",
       "         1.        ,  0.        ,  0.        ],\n",
       "       [ 0.79103195, -0.90938745,  1.40279431,  0.        ,  0.        ,\n",
       "         0.        ,  1.        ,  0.        ],\n",
       "       [-1.40185106,  0.58685709,  2.19045563,  1.        ,  0.        ,\n",
       "         0.        ,  0.        ,  0.        ],\n",
       "       [-0.99053633, -0.56629773,  0.09965137,  0.        ,  0.        ,\n",
       "         0.        ,  1.        ,  0.        ],\n",
       "       [-0.50347565, -1.55066343,  0.06856297,  0.        ,  0.        ,\n",
       "         1.        ,  0.        ,  0.        ],\n",
       "       [-1.06230371,  0.47359243, -0.91942423,  0.        ,  0.        ,\n",
       "         0.        ,  0.        ,  1.        ],\n",
       "       [ 1.54993441, -0.78325329, -0.32206152,  0.        ,  0.        ,\n",
       "         0.        ,  1.        ,  0.        ],\n",
       "       [ 0.81351722, -1.23086432,  0.22745993,  0.        ,  0.        ,\n",
       "         0.        ,  0.        ,  1.        ],\n",
       "       [ 1.30714275, -1.60748323,  0.18463386,  1.        ,  0.        ,\n",
       "         0.        ,  0.        ,  0.        ],\n",
       "       [ 0.25988279,  0.78182287, -1.23695071,  0.        ,  0.        ,\n",
       "         0.        ,  0.        ,  1.        ],\n",
       "       [-1.32045661,  0.52194157,  0.29698467,  0.        ,  0.        ,\n",
       "         0.        ,  0.        ,  1.        ],\n",
       "       [ 0.25049285,  0.34644821, -0.68002472,  0.        ,  1.        ,\n",
       "         0.        ,  0.        ,  0.        ],\n",
       "       [ 0.2322537 ,  0.29307247, -0.71435142,  0.        ,  1.        ,\n",
       "         0.        ,  0.        ,  0.        ],\n",
       "       [ 1.86577451,  0.47383292, -1.1913035 ,  0.        ,  1.        ,\n",
       "         0.        ,  0.        ,  0.        ],\n",
       "       [ 0.65655361, -0.97468167,  0.7870846 ,  0.        ,  0.        ,\n",
       "         0.        ,  0.        ,  1.        ],\n",
       "       [ 1.15859558, -0.82068232,  0.96337613,  0.        ,  0.        ,\n",
       "         1.        ,  0.        ,  0.        ],\n",
       "       [ 0.41278093,  0.82206016,  1.89679298,  0.        ,  0.        ,\n",
       "         0.        ,  0.        ,  1.        ],\n",
       "       [-0.24538812, -0.75373616, -0.88951443,  0.        ,  0.        ,\n",
       "         1.        ,  0.        ,  0.        ],\n",
       "       [-0.81581028, -0.07710171,  0.34115197,  0.        ,  0.        ,\n",
       "         1.        ,  0.        ,  0.        ],\n",
       "       [ 0.2766908 ,  0.82718325,  0.01300189,  0.        ,  1.        ,\n",
       "         0.        ,  0.        ,  0.        ],\n",
       "       [ 1.45353408, -0.26465683,  2.72016917,  0.        ,  0.        ,\n",
       "         0.        ,  1.        ,  0.        ],\n",
       "       [ 0.62566735, -0.85715756, -1.0708925 ,  1.        ,  0.        ,\n",
       "         0.        ,  0.        ,  0.        ],\n",
       "       [ 0.48247242, -0.22346279,  0.71400049,  0.        ,  1.        ,\n",
       "         0.        ,  0.        ,  0.        ],\n",
       "       [ 0.47323762, -0.07282891, -0.84679372,  0.        ,  1.        ,\n",
       "         0.        ,  0.        ,  0.        ],\n",
       "       [-1.51484722, -0.44651495,  0.85639879,  0.        ,  0.        ,\n",
       "         0.        ,  1.        ,  0.        ],\n",
       "       [ 0.21409374, -1.24573878,  0.17318093,  1.        ,  0.        ,\n",
       "         0.        ,  0.        ,  0.        ],\n",
       "       [ 0.38531738, -0.88385744,  0.15372511,  0.        ,  0.        ,\n",
       "         0.        ,  0.        ,  1.        ],\n",
       "       [ 0.05820872, -1.1429703 ,  0.35778736,  0.        ,  0.        ,\n",
       "         0.        ,  0.        ,  1.        ],\n",
       "       [ 0.56078453,  1.08305124,  1.05380205,  0.        ,  1.        ,\n",
       "         0.        ,  0.        ,  0.        ],\n",
       "       [-1.37766937, -0.93782504,  0.51503527,  1.        ,  0.        ,\n",
       "         0.        ,  0.        ,  0.        ],\n",
       "       [ 0.51378595,  0.51504769,  3.85273149,  0.        ,  1.        ,\n",
       "         0.        ,  0.        ,  0.        ],\n",
       "       [ 0.57089051,  1.13556564,  0.95400176,  0.        ,  0.        ,\n",
       "         1.        ,  0.        ,  0.        ],\n",
       "       [ 0.65139125, -0.31526924,  0.75896922,  0.        ,  1.        ,\n",
       "         0.        ,  0.        ,  0.        ],\n",
       "       [-0.77282521, -0.23681861, -0.48536355,  0.        ,  1.        ,\n",
       "         0.        ,  0.        ,  0.        ],\n",
       "       [ 0.08187414,  2.31465857, -1.86726519,  0.        ,  0.        ,\n",
       "         0.        ,  0.        ,  1.        ],\n",
       "       [ 0.68626019, -1.61271587, -0.47193187,  0.        ,  0.        ,\n",
       "         0.        ,  0.        ,  1.        ],\n",
       "       [ 1.0889506 ,  0.06428002, -1.07774478,  0.        ,  0.        ,\n",
       "         0.        ,  0.        ,  1.        ],\n",
       "       [-0.71530371,  0.67959775, -0.73036663,  0.        ,  0.        ,\n",
       "         1.        ,  0.        ,  0.        ],\n",
       "       [ 0.21645859,  0.04557184, -0.65160035,  0.        ,  0.        ,\n",
       "         0.        ,  0.        ,  1.        ],\n",
       "       [ 2.14394409,  0.63391902, -2.02514259,  1.        ,  0.        ,\n",
       "         0.        ,  0.        ,  0.        ],\n",
       "       [ 0.18645431, -0.66178646,  0.85243333,  0.        ,  0.        ,\n",
       "         0.        ,  1.        ,  0.        ],\n",
       "       [-0.79252074, -0.11473644,  0.50498728,  1.        ,  0.        ,\n",
       "         0.        ,  0.        ,  0.        ],\n",
       "       [ 0.86575519, -1.20029641, -0.33450124,  1.        ,  0.        ,\n",
       "         0.        ,  0.        ,  0.        ],\n",
       "       [-0.47494531, -0.65332923,  1.76545424,  0.        ,  0.        ,\n",
       "         0.        ,  0.        ,  1.        ],\n",
       "       [ 0.40498171, -1.26088395,  0.91786195,  0.        ,  0.        ,\n",
       "         0.        ,  1.        ,  0.        ],\n",
       "       [ 2.1221562 ,  1.03246526, -1.51936997,  0.        ,  0.        ,\n",
       "         0.        ,  1.        ,  0.        ],\n",
       "       [-0.48423407,  1.26691115, -0.70766947,  0.        ,  0.        ,\n",
       "         0.        ,  1.        ,  0.        ],\n",
       "       [ 0.44381943,  0.77463405, -0.92693047,  0.        ,  0.        ,\n",
       "         1.        ,  0.        ,  0.        ],\n",
       "       [-0.05952536, -3.24126734, -1.02438764,  0.        ,  0.        ,\n",
       "         0.        ,  0.        ,  1.        ],\n",
       "       [-0.25256815, -1.24778318,  1.6324113 ,  0.        ,  0.        ,\n",
       "         0.        ,  1.        ,  0.        ],\n",
       "       [-1.43014138, -0.44004449,  0.13074058,  0.        ,  0.        ,\n",
       "         1.        ,  0.        ,  0.        ],\n",
       "       [ 1.44127329, -1.43586215,  1.16316375,  0.        ,  1.        ,\n",
       "         0.        ,  0.        ,  0.        ],\n",
       "       [ 0.01023306, -0.98150865,  0.46210347,  0.        ,  1.        ,\n",
       "         0.        ,  0.        ,  0.        ],\n",
       "       [ 0.1990597 , -0.60021688,  0.06980208,  0.        ,  0.        ,\n",
       "         1.        ,  0.        ,  0.        ],\n",
       "       [-0.3853136 ,  0.11351735,  0.66213067,  0.        ,  0.        ,\n",
       "         1.        ,  0.        ,  0.        ],\n",
       "       [ 1.58601682, -1.2378155 ,  2.13303337,  0.        ,  0.        ,\n",
       "         0.        ,  0.        ,  1.        ],\n",
       "       [-1.9520878 , -0.1517851 ,  0.58831721,  0.        ,  0.        ,\n",
       "         0.        ,  0.        ,  1.        ],\n",
       "       [ 0.28099187, -0.62269952, -0.20812225,  0.        ,  1.        ,\n",
       "         0.        ,  0.        ,  0.        ],\n",
       "       [-0.49300093, -0.58936476,  0.8496021 ,  0.        ,  0.        ,\n",
       "         0.        ,  1.        ,  0.        ],\n",
       "       [ 0.35701549, -0.6929096 ,  0.89959988,  0.        ,  1.        ,\n",
       "         0.        ,  0.        ,  0.        ],\n",
       "       [ 0.30729952,  0.81286212,  0.62962884,  0.        ,  0.        ,\n",
       "         0.        ,  1.        ,  0.        ]])"
      ]
     },
     "execution_count": 392,
     "metadata": {},
     "output_type": "execute_result"
    }
   ],
   "source": [
    "# Generate risk factors\n",
    "risk_factors_loadings = np.random.randn(n_stocks, n_factors)\n",
    "\n",
    "# Generate industry dummies\n",
    "industries = np.random.randint(0, n_industries, size=n_stocks)\n",
    "industry_dummies = np.eye(n_industries)[industries]\n",
    "\n",
    "# Combine risk factors and industry dummies to create the design matrix\n",
    "X = np.hstack((risk_factors_loadings, industry_dummies))\n",
    "X"
   ]
  },
  {
   "cell_type": "markdown",
   "metadata": {},
   "source": [
    "True factor returns"
   ]
  },
  {
   "cell_type": "code",
   "execution_count": 393,
   "metadata": {},
   "outputs": [
    {
     "data": {
      "text/plain": [
       "array([ 0.02      , -0.01      ,  0.03      , -0.03811821, -0.03824738,\n",
       "        0.01492103,  0.02460449,  0.00833688])"
      ]
     },
     "execution_count": 393,
     "metadata": {},
     "output_type": "execute_result"
    }
   ],
   "source": [
    "# Risk factor returns / beta coefficients\n",
    "true_fundamental_factor_returns = np.array([0.02, -0.01, 0.03]) \n",
    "\n",
    "# True industry returns / beta coefficients\n",
    "industry_factor_returns = np.random.uniform(-0.05, 0.05, size=n_industries)  \n",
    "\n",
    "# Combine risk and industry factor effects\n",
    "true_risk_factor_returns = np.hstack((true_fundamental_factor_returns, industry_factor_returns))\n",
    "true_risk_factor_returns"
   ]
  },
  {
   "cell_type": "markdown",
   "metadata": {},
   "source": [
    "Stock returns with heteroskedastic residuals"
   ]
  },
  {
   "cell_type": "code",
   "execution_count": 394,
   "metadata": {},
   "outputs": [
    {
     "data": {
      "text/plain": [
       "array([ 0.10051114, -0.23450249, -0.24707364, -0.20878919, -0.12190357,\n",
       "        0.0963283 ,  1.01394552, -0.02548974,  0.68732338, -0.17958523,\n",
       "       -0.30252436, -0.06324232,  0.14179691, -0.04080021, -0.24527992,\n",
       "       -0.02846133, -0.11479793,  0.05941003,  0.00206467, -0.13664211,\n",
       "       -0.08329908, -0.14099841, -0.019018  ,  0.22247861, -0.18111938,\n",
       "        0.02186716, -0.03836366, -0.09895753,  0.00458419, -0.24454196,\n",
       "       -0.09472427, -0.22162973,  0.22160644,  0.03340549, -0.04994225,\n",
       "        0.03092308, -0.10332951,  0.05105186,  0.10961352,  0.08655237,\n",
       "        0.02763984, -0.14556138, -0.01535822, -0.2311239 , -0.20065848,\n",
       "        0.21392316,  0.25311036, -0.02860418,  0.02828493,  0.0190373 ,\n",
       "        1.25853235,  0.53125942, -0.062087  , -0.0511838 , -0.08646503,\n",
       "        0.11631531, -0.10692693, -0.21898928, -0.10623758,  0.02017913,\n",
       "        0.13492816,  0.12311248, -0.05468737,  0.30381229,  0.0139751 ,\n",
       "       -0.0630548 ,  0.20040406,  0.0476504 , -0.14474001,  0.05702195,\n",
       "       -0.05609875, -0.14152094,  0.03449352,  0.30902365, -0.18306991,\n",
       "        0.1487596 , -0.09468863, -0.06970192, -0.18418319, -0.04463844,\n",
       "       -0.03151904, -0.15645401,  0.13563288,  0.06673339, -0.02183282,\n",
       "       -0.12209863, -0.09136173,  0.09058528,  0.14815811, -0.13537335,\n",
       "        0.05043322,  0.1030615 , -0.41496639,  0.30288403,  0.0402972 ,\n",
       "        0.06068979, -0.12341588, -0.33794822, -0.42459212,  0.07229445])"
      ]
     },
     "execution_count": 394,
     "metadata": {},
     "output_type": "execute_result"
    }
   ],
   "source": [
    "# Simulated market capitalization\n",
    "stock_market_capitalization = np.random.uniform(1, 100, size=n_stocks)  \n",
    "\n",
    "# Simualte heteroskedasticity via the empirical relationship that larger stocks have lower variance\n",
    "residual_variance = 1 / stock_market_capitalization\n",
    "residuals = np.random.randn(n_stocks) * np.sqrt(residual_variance)\n",
    "\n",
    "# Simulate stock returns\n",
    "y = X @ true_risk_factor_returns + residuals\n",
    "y"
   ]
  },
  {
   "cell_type": "markdown",
   "metadata": {},
   "source": [
    "Fit WLS to create a BLUE estimator in the presence of heteroskedasticity"
   ]
  },
  {
   "cell_type": "code",
   "execution_count": 395,
   "metadata": {},
   "outputs": [],
   "source": [
    "risk_model_ols: OLS = OLS(X=X, y=y)\n",
    "risk_model_ols.fit()\n",
    "\n",
    "risk_model_wls: WLS = WLS(X=X, y=y)\n",
    "risk_model_wls.fit()"
   ]
  },
  {
   "cell_type": "code",
   "execution_count": 396,
   "metadata": {},
   "outputs": [],
   "source": [
    "y_hat_ols: np.ndarray = risk_model_ols.predict(X=X)\n",
    "y_hat_wls: np.ndarray = risk_model_wls.predict(X=X)"
   ]
  },
  {
   "cell_type": "code",
   "execution_count": 397,
   "metadata": {},
   "outputs": [
    {
     "data": {
      "image/png": "[encoded data removed]",
      "text/plain": [
       "<Figure size 640x480 with 1 Axes>"
      ]
     },
     "metadata": {},
     "output_type": "display_data"
    }
   ],
   "source": [
    "pd.DataFrame({\"Realized Returns\": y, \"OLS Predicted Returns\": y_hat_ols, \"WLS Predicted Returns\": y_hat_wls}).plot(title=\"Realized vs. Asset Pricing / Risk Model Predicted Returns\")\n",
    "plt.show()"
   ]
  },
  {
   "cell_type": "code",
   "execution_count": null,
   "metadata": {},
   "outputs": [],
   "source": []
  },
  {
   "cell_type": "code",
   "execution_count": null,
   "metadata": {},
   "outputs": [],
   "source": [
    "class PanelRegression:\n",
    "    \"\"\"\n",
    "    Panel Regression Model for cross-sectional and time-series data.\n",
    "    Leverages GLS for panel data over multiple time periods.\n",
    "    \"\"\"\n",
    "    \n",
    "    def __init__(self, X: np.ndarray, y: np.ndarray, omega: np.ndarray):\n",
    "        \"\"\"\n",
    "        Initialize the Panel Regression model.\n",
    "        \n",
    "        Parameters:\n",
    "            X (np.ndarray): Design matrix (n_entities x n_features x n_time_periods).\n",
    "            y (np.ndarray): Response variable (n_entities x n_time_periods).\n",
    "            omega (np.ndarray): Covariance matrix of residuals (n_entities x n_entities).\n",
    "        \"\"\"\n",
    "        self.X = X  # 3D design matrix\n",
    "        self.y = y  # Response matrix\n",
    "        self.omega = omega  # Covariance matrix\n",
    "        self.coefficients = None\n",
    "\n",
    "    def fit(self):\n",
    "        \"\"\"\n",
    "        Fit the Panel Regression model by applying GLS across time periods.\n",
    "        \"\"\"\n",
    "        n_entities, n_features, n_time_periods = self.X.shape\n",
    "        self.coefficients = np.zeros((n_features + 1, n_time_periods))  # Including intercept\n",
    "\n",
    "        for t in range(n_time_periods):\n",
    "            X_t = self.X[:, :, t]\n",
    "            y_t = self.y[:, t]\n",
    "            gls = GLS(X_t, y_t, self.omega)\n",
    "            gls.fit()\n",
    "            self.coefficients[:, t] = gls.beta.flatten()\n",
    "\n",
    "    def predict(self, X_new: np.ndarray) -> np.ndarray:\n",
    "        \"\"\"\n",
    "        Predict response values for new data across all time periods.\n",
    "        \n",
    "        Parameters:\n",
    "            X_new (np.ndarray): New data for prediction (n_entities x n_features x n_time_periods).\n",
    "        \n",
    "        Returns:\n",
    "            np.ndarray: Predicted values (n_entities x n_time_periods).\n",
    "        \"\"\"\n",
    "        n_entities, n_features, n_time_periods = X_new.shape\n",
    "        predictions = np.zeros((n_entities, n_time_periods))\n",
    "\n",
    "        for t in range(n_time_periods):\n",
    "            X_t = X_new[:, :, t]\n",
    "            if X_t.shape[1] + 1 == self.coefficients.shape[0]:\n",
    "                X_t = np.hstack((np.ones((X_t.shape[0], 1)), X_t))\n",
    "            predictions[:, t] = X_t @ self.coefficients[:, t]\n",
    "\n",
    "        return predictions\n"
   ]
  }
 ],
 "metadata": {
  "kernelspec": {
   "display_name": "quant_research",
   "language": "python",
   "name": "python3"
  },
  "language_info": {
   "codemirror_mode": {
    "name": "ipython",
    "version": 3
   },
   "file_extension": ".py",
   "mimetype": "text/x-python",
   "name": "python",
   "nbconvert_exporter": "python",
   "pygments_lexer": "ipython3",
   "version": "3.12.3"
  }
 },
 "nbformat": 4,
 "nbformat_minor": 2
}
